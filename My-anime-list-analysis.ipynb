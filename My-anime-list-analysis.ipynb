{
 "cells": [
  {
   "cell_type": "code",
   "id": "initial_id",
   "metadata": {
    "collapsed": true,
    "ExecuteTime": {
     "end_time": "2025-04-24T13:33:33.203189Z",
     "start_time": "2025-04-24T13:33:33.186884Z"
    }
   },
   "source": [
    "import pandas as pd\n",
    "import matplotlib.pyplot as plt\n",
    "import numpy as np\n",
    "import seaborn as sns\n",
    "\n",
    "df_anime = pd.read_csv('anime_data.csv')\n",
    "df_anime.info()"
   ],
   "outputs": [
    {
     "name": "stdout",
     "output_type": "stream",
     "text": [
      "<class 'pandas.core.frame.DataFrame'>\n",
      "RangeIndex: 1000 entries, 0 to 999\n",
      "Data columns (total 10 columns):\n",
      " #   Column      Non-Null Count  Dtype  \n",
      "---  ------      --------------  -----  \n",
      " 0   Unnamed: 0  1000 non-null   int64  \n",
      " 1   rank        1000 non-null   int64  \n",
      " 2   score       1000 non-null   float64\n",
      " 3   name        1000 non-null   object \n",
      " 4   link        1000 non-null   object \n",
      " 5   showType    1000 non-null   object \n",
      " 6   numOfEp     993 non-null    float64\n",
      " 7   startDate   1000 non-null   object \n",
      " 8   endDate     980 non-null    object \n",
      " 9   members     1000 non-null   int64  \n",
      "dtypes: float64(2), int64(3), object(5)\n",
      "memory usage: 78.3+ KB\n"
     ]
    }
   ],
   "execution_count": 5
  },
  {
   "metadata": {},
   "cell_type": "markdown",
   "source": "# What are the top 10 highest ranked anime series?",
   "id": "2b44eba361fc3253"
  },
  {
   "metadata": {
    "ExecuteTime": {
     "end_time": "2025-04-24T13:33:52.261007Z",
     "start_time": "2025-04-24T13:33:52.253053Z"
    }
   },
   "cell_type": "code",
   "source": [
    "top_anime = df_anime.sort_values(by='rank', ascending=True)\n",
    "\n",
    "\n",
    "top_10 = top_anime.head(10)\n",
    "top_10[['rank', 'name']]\n"
   ],
   "id": "39b6239793bc4044",
   "outputs": [
    {
     "data": {
      "text/plain": [
       "   rank                                name\n",
       "0     1                   Sousou no Frieren\n",
       "1     2    Fullmetal Alchemist: Brotherhood\n",
       "2     3                         Steins;Gate\n",
       "3     4  Shingeki no Kyojin Season 3 Part 2\n",
       "4     5                One Piece Fan Letter\n",
       "5     6                            Gintama°\n",
       "6     7                  Gintama: The Final\n",
       "7     8              Hunter x Hunter (2011)\n",
       "8     9                            Gintama'\n",
       "9    10                 Gintama': Enchousen"
      ],
      "text/html": [
       "<div>\n",
       "<style scoped>\n",
       "    .dataframe tbody tr th:only-of-type {\n",
       "        vertical-align: middle;\n",
       "    }\n",
       "\n",
       "    .dataframe tbody tr th {\n",
       "        vertical-align: top;\n",
       "    }\n",
       "\n",
       "    .dataframe thead th {\n",
       "        text-align: right;\n",
       "    }\n",
       "</style>\n",
       "<table border=\"1\" class=\"dataframe\">\n",
       "  <thead>\n",
       "    <tr style=\"text-align: right;\">\n",
       "      <th></th>\n",
       "      <th>rank</th>\n",
       "      <th>name</th>\n",
       "    </tr>\n",
       "  </thead>\n",
       "  <tbody>\n",
       "    <tr>\n",
       "      <th>0</th>\n",
       "      <td>1</td>\n",
       "      <td>Sousou no Frieren</td>\n",
       "    </tr>\n",
       "    <tr>\n",
       "      <th>1</th>\n",
       "      <td>2</td>\n",
       "      <td>Fullmetal Alchemist: Brotherhood</td>\n",
       "    </tr>\n",
       "    <tr>\n",
       "      <th>2</th>\n",
       "      <td>3</td>\n",
       "      <td>Steins;Gate</td>\n",
       "    </tr>\n",
       "    <tr>\n",
       "      <th>3</th>\n",
       "      <td>4</td>\n",
       "      <td>Shingeki no Kyojin Season 3 Part 2</td>\n",
       "    </tr>\n",
       "    <tr>\n",
       "      <th>4</th>\n",
       "      <td>5</td>\n",
       "      <td>One Piece Fan Letter</td>\n",
       "    </tr>\n",
       "    <tr>\n",
       "      <th>5</th>\n",
       "      <td>6</td>\n",
       "      <td>Gintama°</td>\n",
       "    </tr>\n",
       "    <tr>\n",
       "      <th>6</th>\n",
       "      <td>7</td>\n",
       "      <td>Gintama: The Final</td>\n",
       "    </tr>\n",
       "    <tr>\n",
       "      <th>7</th>\n",
       "      <td>8</td>\n",
       "      <td>Hunter x Hunter (2011)</td>\n",
       "    </tr>\n",
       "    <tr>\n",
       "      <th>8</th>\n",
       "      <td>9</td>\n",
       "      <td>Gintama'</td>\n",
       "    </tr>\n",
       "    <tr>\n",
       "      <th>9</th>\n",
       "      <td>10</td>\n",
       "      <td>Gintama': Enchousen</td>\n",
       "    </tr>\n",
       "  </tbody>\n",
       "</table>\n",
       "</div>"
      ]
     },
     "execution_count": 7,
     "metadata": {},
     "output_type": "execute_result"
    }
   ],
   "execution_count": 7
  },
  {
   "metadata": {},
   "cell_type": "markdown",
   "source": "# Which anime series have the largest member/viewer base (top 10)?",
   "id": "5a4bc7871567ef79"
  },
  {
   "metadata": {
    "ExecuteTime": {
     "end_time": "2025-04-24T13:33:48.721248Z",
     "start_time": "2025-04-24T13:33:48.710182Z"
    }
   },
   "cell_type": "code",
   "source": [
    "top_anime = df_anime.sort_values(by='members', ascending=True)\n",
    "\n",
    "\n",
    "top_10 = top_anime.head(10)\n",
    "top_10[['members', 'name']]\n"
   ],
   "id": "3b0572ef1997c7bb",
   "outputs": [
    {
     "data": {
      "text/plain": [
       "     members                                            name\n",
       "877     1294           Fanren Xiu Xian Chuan: Waihai Fengyun\n",
       "731     1424              Tunshi Xingkong Movie: Xueluo Dalu\n",
       "941     1555                     Wu Dong Qian Kun 5th Season\n",
       "903     2395                     Wu Dong Qian Kun 4th Season\n",
       "728     2397                             Zhu Xian 2nd Season\n",
       "709     2573   Benghuai: Xing Qiong Tiedao - Gelamo de Yujin\n",
       "786     2621  Aikatsu! 10th Story: Mirai e no Starway (2023)\n",
       "976     2698                    Yi Nian Yong Heng 3rd Season\n",
       "388     2763           Fanren Xiu Xian Chuan: Xinghai Feichi\n",
       "870     3457                        Yuanshen: Weixing zhi Lu"
      ],
      "text/html": [
       "<div>\n",
       "<style scoped>\n",
       "    .dataframe tbody tr th:only-of-type {\n",
       "        vertical-align: middle;\n",
       "    }\n",
       "\n",
       "    .dataframe tbody tr th {\n",
       "        vertical-align: top;\n",
       "    }\n",
       "\n",
       "    .dataframe thead th {\n",
       "        text-align: right;\n",
       "    }\n",
       "</style>\n",
       "<table border=\"1\" class=\"dataframe\">\n",
       "  <thead>\n",
       "    <tr style=\"text-align: right;\">\n",
       "      <th></th>\n",
       "      <th>members</th>\n",
       "      <th>name</th>\n",
       "    </tr>\n",
       "  </thead>\n",
       "  <tbody>\n",
       "    <tr>\n",
       "      <th>877</th>\n",
       "      <td>1294</td>\n",
       "      <td>Fanren Xiu Xian Chuan: Waihai Fengyun</td>\n",
       "    </tr>\n",
       "    <tr>\n",
       "      <th>731</th>\n",
       "      <td>1424</td>\n",
       "      <td>Tunshi Xingkong Movie: Xueluo Dalu</td>\n",
       "    </tr>\n",
       "    <tr>\n",
       "      <th>941</th>\n",
       "      <td>1555</td>\n",
       "      <td>Wu Dong Qian Kun 5th Season</td>\n",
       "    </tr>\n",
       "    <tr>\n",
       "      <th>903</th>\n",
       "      <td>2395</td>\n",
       "      <td>Wu Dong Qian Kun 4th Season</td>\n",
       "    </tr>\n",
       "    <tr>\n",
       "      <th>728</th>\n",
       "      <td>2397</td>\n",
       "      <td>Zhu Xian 2nd Season</td>\n",
       "    </tr>\n",
       "    <tr>\n",
       "      <th>709</th>\n",
       "      <td>2573</td>\n",
       "      <td>Benghuai: Xing Qiong Tiedao - Gelamo de Yujin</td>\n",
       "    </tr>\n",
       "    <tr>\n",
       "      <th>786</th>\n",
       "      <td>2621</td>\n",
       "      <td>Aikatsu! 10th Story: Mirai e no Starway (2023)</td>\n",
       "    </tr>\n",
       "    <tr>\n",
       "      <th>976</th>\n",
       "      <td>2698</td>\n",
       "      <td>Yi Nian Yong Heng 3rd Season</td>\n",
       "    </tr>\n",
       "    <tr>\n",
       "      <th>388</th>\n",
       "      <td>2763</td>\n",
       "      <td>Fanren Xiu Xian Chuan: Xinghai Feichi</td>\n",
       "    </tr>\n",
       "    <tr>\n",
       "      <th>870</th>\n",
       "      <td>3457</td>\n",
       "      <td>Yuanshen: Weixing zhi Lu</td>\n",
       "    </tr>\n",
       "  </tbody>\n",
       "</table>\n",
       "</div>"
      ]
     },
     "execution_count": 6,
     "metadata": {},
     "output_type": "execute_result"
    }
   ],
   "execution_count": 6
  },
  {
   "metadata": {},
   "cell_type": "markdown",
   "source": "# What are the top 10 anime series with the most episodes?",
   "id": "b83e9706479a8ab1"
  },
  {
   "metadata": {
    "ExecuteTime": {
     "end_time": "2025-04-24T13:33:55.567231Z",
     "start_time": "2025-04-24T13:33:55.559296Z"
    }
   },
   "cell_type": "code",
   "source": [
    "top_anime_by_episodes = df_anime.sort_values(by='numOfEp', ascending=False)\n",
    "top_10_episodes = top_anime_by_episodes.head(10)\n",
    "top_10_episodes[['numOfEp', 'name']]\n"
   ],
   "id": "8e37d3ac2f01925c",
   "outputs": [
    {
     "data": {
      "text/plain": [
       "     numOfEp                     name\n",
       "886   1787.0          Doraemon (1979)\n",
       "306    500.0       Naruto: Shippuuden\n",
       "710    366.0                   Bleach\n",
       "387    291.0            Dragon Ball Z\n",
       "249    237.0   Douluo Dalu 2nd Season\n",
       "902    234.0            Wanmei Shijie\n",
       "662    220.0                   Naruto\n",
       "493    203.0  Katekyou Hitman Reborn!\n",
       "16     201.0                  Gintama\n",
       "936    178.0       Tennis no Oujisama"
      ],
      "text/html": [
       "<div>\n",
       "<style scoped>\n",
       "    .dataframe tbody tr th:only-of-type {\n",
       "        vertical-align: middle;\n",
       "    }\n",
       "\n",
       "    .dataframe tbody tr th {\n",
       "        vertical-align: top;\n",
       "    }\n",
       "\n",
       "    .dataframe thead th {\n",
       "        text-align: right;\n",
       "    }\n",
       "</style>\n",
       "<table border=\"1\" class=\"dataframe\">\n",
       "  <thead>\n",
       "    <tr style=\"text-align: right;\">\n",
       "      <th></th>\n",
       "      <th>numOfEp</th>\n",
       "      <th>name</th>\n",
       "    </tr>\n",
       "  </thead>\n",
       "  <tbody>\n",
       "    <tr>\n",
       "      <th>886</th>\n",
       "      <td>1787.0</td>\n",
       "      <td>Doraemon (1979)</td>\n",
       "    </tr>\n",
       "    <tr>\n",
       "      <th>306</th>\n",
       "      <td>500.0</td>\n",
       "      <td>Naruto: Shippuuden</td>\n",
       "    </tr>\n",
       "    <tr>\n",
       "      <th>710</th>\n",
       "      <td>366.0</td>\n",
       "      <td>Bleach</td>\n",
       "    </tr>\n",
       "    <tr>\n",
       "      <th>387</th>\n",
       "      <td>291.0</td>\n",
       "      <td>Dragon Ball Z</td>\n",
       "    </tr>\n",
       "    <tr>\n",
       "      <th>249</th>\n",
       "      <td>237.0</td>\n",
       "      <td>Douluo Dalu 2nd Season</td>\n",
       "    </tr>\n",
       "    <tr>\n",
       "      <th>902</th>\n",
       "      <td>234.0</td>\n",
       "      <td>Wanmei Shijie</td>\n",
       "    </tr>\n",
       "    <tr>\n",
       "      <th>662</th>\n",
       "      <td>220.0</td>\n",
       "      <td>Naruto</td>\n",
       "    </tr>\n",
       "    <tr>\n",
       "      <th>493</th>\n",
       "      <td>203.0</td>\n",
       "      <td>Katekyou Hitman Reborn!</td>\n",
       "    </tr>\n",
       "    <tr>\n",
       "      <th>16</th>\n",
       "      <td>201.0</td>\n",
       "      <td>Gintama</td>\n",
       "    </tr>\n",
       "    <tr>\n",
       "      <th>936</th>\n",
       "      <td>178.0</td>\n",
       "      <td>Tennis no Oujisama</td>\n",
       "    </tr>\n",
       "  </tbody>\n",
       "</table>\n",
       "</div>"
      ]
     },
     "execution_count": 8,
     "metadata": {},
     "output_type": "execute_result"
    }
   ],
   "execution_count": 8
  },
  {
   "metadata": {},
   "cell_type": "markdown",
   "source": "# Is there a correlation between the number of members/viewers and the anime's score rating?",
   "id": "a1b4c7abd8e7b018"
  },
  {
   "metadata": {
    "ExecuteTime": {
     "end_time": "2025-04-24T13:33:57.820323Z",
     "start_time": "2025-04-24T13:33:57.816377Z"
    }
   },
   "cell_type": "code",
   "source": [
    "animeCorr = df_anime.dropna(subset=['members', 'score'])\n",
    "\n",
    "# Calculate the correlation coefficient\n",
    "correlation = animeCorr['members'].corr\n"
   ],
   "id": "cffeb0e7af52ab",
   "outputs": [],
   "execution_count": 9
  },
  {
   "metadata": {},
   "cell_type": "markdown",
   "source": "# What are the lowest 10 ranked anime series?",
   "id": "642ae6edb8aef86f"
  },
  {
   "metadata": {
    "ExecuteTime": {
     "end_time": "2025-04-24T13:34:03.398327Z",
     "start_time": "2025-04-24T13:34:03.389576Z"
    }
   },
   "cell_type": "code",
   "source": [
    "bottom_anime = df_anime.sort_values(by='rank', ascending=True)\n",
    "\n",
    "\n",
    "bottom_10 = bottom_anime.tail(10)\n",
    "bottom_10[['rank', 'name']]\n"
   ],
   "id": "a8f37bccc9583ef8",
   "outputs": [
    {
     "data": {
      "text/plain": [
       "     rank                                               name\n",
       "990   991  Kuroko no Basket Movie 3: Winter Cup - Tobira ...\n",
       "991   992                 Mairimashita! Iruma-kun 3rd Season\n",
       "992   993             New Initial D Movie: Legend 2 - Tousou\n",
       "993   994                                One Piece Film: Red\n",
       "994   995                          Seitokai Yakuindomo Movie\n",
       "995   996                         Somali to Mori no Kamisama\n",
       "996   997                                          Sonny Boy\n",
       "997   998                         Suzumiya Haruhi no Yuuutsu\n",
       "998   999                       Tokyo Revengers: Tenjiku-hen\n",
       "999  1000                                    Uchouten Kazoku"
      ],
      "text/html": [
       "<div>\n",
       "<style scoped>\n",
       "    .dataframe tbody tr th:only-of-type {\n",
       "        vertical-align: middle;\n",
       "    }\n",
       "\n",
       "    .dataframe tbody tr th {\n",
       "        vertical-align: top;\n",
       "    }\n",
       "\n",
       "    .dataframe thead th {\n",
       "        text-align: right;\n",
       "    }\n",
       "</style>\n",
       "<table border=\"1\" class=\"dataframe\">\n",
       "  <thead>\n",
       "    <tr style=\"text-align: right;\">\n",
       "      <th></th>\n",
       "      <th>rank</th>\n",
       "      <th>name</th>\n",
       "    </tr>\n",
       "  </thead>\n",
       "  <tbody>\n",
       "    <tr>\n",
       "      <th>990</th>\n",
       "      <td>991</td>\n",
       "      <td>Kuroko no Basket Movie 3: Winter Cup - Tobira ...</td>\n",
       "    </tr>\n",
       "    <tr>\n",
       "      <th>991</th>\n",
       "      <td>992</td>\n",
       "      <td>Mairimashita! Iruma-kun 3rd Season</td>\n",
       "    </tr>\n",
       "    <tr>\n",
       "      <th>992</th>\n",
       "      <td>993</td>\n",
       "      <td>New Initial D Movie: Legend 2 - Tousou</td>\n",
       "    </tr>\n",
       "    <tr>\n",
       "      <th>993</th>\n",
       "      <td>994</td>\n",
       "      <td>One Piece Film: Red</td>\n",
       "    </tr>\n",
       "    <tr>\n",
       "      <th>994</th>\n",
       "      <td>995</td>\n",
       "      <td>Seitokai Yakuindomo Movie</td>\n",
       "    </tr>\n",
       "    <tr>\n",
       "      <th>995</th>\n",
       "      <td>996</td>\n",
       "      <td>Somali to Mori no Kamisama</td>\n",
       "    </tr>\n",
       "    <tr>\n",
       "      <th>996</th>\n",
       "      <td>997</td>\n",
       "      <td>Sonny Boy</td>\n",
       "    </tr>\n",
       "    <tr>\n",
       "      <th>997</th>\n",
       "      <td>998</td>\n",
       "      <td>Suzumiya Haruhi no Yuuutsu</td>\n",
       "    </tr>\n",
       "    <tr>\n",
       "      <th>998</th>\n",
       "      <td>999</td>\n",
       "      <td>Tokyo Revengers: Tenjiku-hen</td>\n",
       "    </tr>\n",
       "    <tr>\n",
       "      <th>999</th>\n",
       "      <td>1000</td>\n",
       "      <td>Uchouten Kazoku</td>\n",
       "    </tr>\n",
       "  </tbody>\n",
       "</table>\n",
       "</div>"
      ]
     },
     "execution_count": 10,
     "metadata": {},
     "output_type": "execute_result"
    }
   ],
   "execution_count": 10
  },
  {
   "metadata": {},
   "cell_type": "markdown",
   "source": "",
   "id": "19960df1ef56a909"
  },
  {
   "metadata": {},
   "cell_type": "markdown",
   "source": [
    "# -----------------\n",
    "# Data PreProcessing\n",
    "# ------------------"
   ],
   "id": "a7a261a93ff08dee"
  },
  {
   "metadata": {},
   "cell_type": "markdown",
   "source": "# 1. **Inspect the Data**\n",
   "id": "e3f54af627c2e11b"
  },
  {
   "metadata": {},
   "cell_type": "code",
   "source": [
    "df_anime.info()\n",
    "df_anime[['members', 'score']].describe()"
   ],
   "id": "671a4eb092099fdd",
   "outputs": [],
   "execution_count": null
  },
  {
   "metadata": {},
   "cell_type": "markdown",
   "source": "# 2. Handling Missing or Null Values",
   "id": "d0a9a88dcb26bb00"
  },
  {
   "metadata": {},
   "cell_type": "code",
   "source": [
    "anime_dfd = df_anime.dropna(subset=['members', 'score'])\n",
    "df_anime.info()"
   ],
   "id": "b1efccb4186a522e",
   "outputs": [],
   "execution_count": null
  },
  {
   "metadata": {},
   "cell_type": "markdown",
   "source": "# fill missing Value",
   "id": "b37c3a37b0af9b23"
  },
  {
   "metadata": {},
   "cell_type": "code",
   "source": [
    "df_anime['members'].fillna(df_anime['members'].median(), inplace=True)\n",
    "df_anime['score'].fillna(df_anime['score'].mean(), inplace=True)\n",
    "df_anime.info()"
   ],
   "id": "7672cc3b82bf99ea",
   "outputs": [],
   "execution_count": null
  },
  {
   "metadata": {},
   "cell_type": "markdown",
   "source": "# 3. Remove Duplicates",
   "id": "3b2d82e78544515e"
  },
  {
   "metadata": {},
   "cell_type": "code",
   "source": [
    "anime_dup = df_anime.drop_duplicates(subset=['members', 'score'])\n",
    "anime_dup.info()"
   ],
   "id": "fb9cd88dc090eb8",
   "outputs": [],
   "execution_count": null
  },
  {
   "metadata": {},
   "cell_type": "markdown",
   "source": "",
   "id": "fe9ac8c260ce0535"
  }
 ],
 "metadata": {
  "kernelspec": {
   "display_name": "Python 3",
   "language": "python",
   "name": "python3"
  },
  "language_info": {
   "codemirror_mode": {
    "name": "ipython",
    "version": 2
   },
   "file_extension": ".py",
   "mimetype": "text/x-python",
   "name": "python",
   "nbconvert_exporter": "python",
   "pygments_lexer": "ipython2",
   "version": "2.7.6"
  }
 },
 "nbformat": 4,
 "nbformat_minor": 5
}
