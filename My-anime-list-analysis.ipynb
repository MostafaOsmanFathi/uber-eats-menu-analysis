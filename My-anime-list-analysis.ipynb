{
 "cells": [
  {
   "cell_type": "code",
   "id": "initial_id",
   "metadata": {
    "collapsed": true
   },
   "source": [
    "import pandas as pd\n",
    "import matplotlib.pyplot as plt\n",
    "import numpy as np\n",
    "import seaborn as sns\n",
    "\n",
    "df_anime = pd.read_csv('anime_data.csv')\n",
    "df_anime.info()"
   ],
   "outputs": [],
   "execution_count": null
  },
  {
   "metadata": {},
   "cell_type": "markdown",
   "source": "# What are the top 10 highest ranked anime series?",
   "id": "2b44eba361fc3253"
  },
  {
   "metadata": {},
   "cell_type": "code",
   "source": [
    "top_anime = df_anime.sort_values(by='rank', ascending=True)\n",
    "\n",
    "\n",
    "top_10 = top_anime.head(10)\n",
    "top_10[['rank', 'name']]\n"
   ],
   "id": "39b6239793bc4044",
   "outputs": [],
   "execution_count": null
  },
  {
   "metadata": {},
   "cell_type": "markdown",
   "source": "# Which anime series have the largest member/viewer base (top 10)?",
   "id": "5a4bc7871567ef79"
  },
  {
   "metadata": {},
   "cell_type": "code",
   "source": [
    "top_anime = df_anime.sort_values(by='members', ascending=True)\n",
    "\n",
    "\n",
    "top_10 = top_anime.head(10)\n",
    "top_10[['members', 'name']]\n"
   ],
   "id": "3b0572ef1997c7bb",
   "outputs": [],
   "execution_count": null
  },
  {
   "metadata": {},
   "cell_type": "markdown",
   "source": "# What are the top 10 anime series with the most episodes?",
   "id": "b83e9706479a8ab1"
  },
  {
   "metadata": {},
   "cell_type": "code",
   "source": [
    "top_anime_by_episodes = df_anime.sort_values(by='numOfEp', ascending=False)\n",
    "top_10_episodes = top_anime_by_episodes.head(10)\n",
    "top_10_episodes[['numOfEp', 'name']]\n"
   ],
   "id": "8e37d3ac2f01925c",
   "outputs": [],
   "execution_count": null
  },
  {
   "metadata": {},
   "cell_type": "markdown",
   "source": "# Is there a correlation between the number of members/viewers and the anime's score rating?",
   "id": "a1b4c7abd8e7b018"
  },
  {
   "metadata": {},
   "cell_type": "code",
   "source": [
    "animeCorr = df_anime.dropna(subset=['members', 'score'])\n",
    "\n",
    "# Calculate the correlation coefficient\n",
    "correlation = animeCorr['members'].corr\n"
   ],
   "id": "cffeb0e7af52ab",
   "outputs": [],
   "execution_count": null
  },
  {
   "metadata": {},
   "cell_type": "markdown",
   "source": [
    "# -----------------\n",
    "# Data PreProcessing\n",
    "# ------------------"
   ],
   "id": "a7a261a93ff08dee"
  },
  {
   "metadata": {},
   "cell_type": "markdown",
   "source": "# 1. **Inspect the Data**\n",
   "id": "e3f54af627c2e11b"
  },
  {
   "metadata": {},
   "cell_type": "code",
   "source": [
    "df_anime.info()\n",
    "df_anime[['members', 'score']].describe()"
   ],
   "id": "671a4eb092099fdd",
   "outputs": [],
   "execution_count": null
  },
  {
   "metadata": {},
   "cell_type": "markdown",
   "source": "# 2. Handling Missing or Null Values",
   "id": "d0a9a88dcb26bb00"
  },
  {
   "metadata": {},
   "cell_type": "code",
   "source": [
    "anime_dfd = df_anime.dropna(subset=['members', 'score'])\n",
    "df_anime.info()"
   ],
   "id": "b1efccb4186a522e",
   "outputs": [],
   "execution_count": null
  },
  {
   "metadata": {},
   "cell_type": "markdown",
   "source": "# fill missing Value",
   "id": "b37c3a37b0af9b23"
  },
  {
   "metadata": {},
   "cell_type": "code",
   "source": [
    "df_anime['members'].fillna(df_anime['members'].median(), inplace=True)\n",
    "df_anime['score'].fillna(df_anime['score'].mean(), inplace=True)\n",
    "df_anime.info()"
   ],
   "id": "7672cc3b82bf99ea",
   "outputs": [],
   "execution_count": null
  },
  {
   "metadata": {},
   "cell_type": "markdown",
   "source": "# 3. Handling Outliers",
   "id": "86a044bd5ee697be"
  },
  {
   "metadata": {},
   "cell_type": "code",
   "source": [
    "plt.boxplot(df_anime[['members', 'score']], labels=['members', 'score'])\n",
    "plt.show()"
   ],
   "id": "ca67ed8a40f00a2b",
   "outputs": [],
   "execution_count": null
  },
  {
   "metadata": {},
   "cell_type": "markdown",
   "source": "# 4. Remove Duplicates",
   "id": "3b2d82e78544515e"
  },
  {
   "metadata": {},
   "cell_type": "code",
   "source": [
    "anime_dup = df_anime.drop_duplicates(subset=['members', 'score'])\n",
    "anime_dup.info()"
   ],
   "id": "fb9cd88dc090eb8",
   "outputs": [],
   "execution_count": null
  },
  {
   "metadata": {},
   "cell_type": "markdown",
   "source": "",
   "id": "fe9ac8c260ce0535"
  }
 ],
 "metadata": {
  "kernelspec": {
   "display_name": "Python 3",
   "language": "python",
   "name": "python3"
  },
  "language_info": {
   "codemirror_mode": {
    "name": "ipython",
    "version": 2
   },
   "file_extension": ".py",
   "mimetype": "text/x-python",
   "name": "python",
   "nbconvert_exporter": "python",
   "pygments_lexer": "ipython2",
   "version": "2.7.6"
  }
 },
 "nbformat": 4,
 "nbformat_minor": 5
}
