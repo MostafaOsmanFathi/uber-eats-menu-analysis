{
 "cells": [
  {
   "metadata": {},
   "cell_type": "markdown",
   "source": [
    "# Web Scraping Setup and Data Collection\n",
    "This notebook is designed to scrape book data from 'books.toscrape.com'. It performs the following tasks:\n",
    "\n",
    "1. Imports required libraries (pandas, requests, BeautifulSoup)\n",
    "2. Defines functions to collect book information including:\n",
    "   - Book names\n",
    "   - Stock availability \n",
    "   - Prices\n",
    "   - Book ratings (1-5 stars)\n",
    "3. Scrapes data from 50 pages of the website\n",
    "4. Saves the collected data to a CSV file\n",
    "\n",
    "The code demonstrates web scraping techniques using BeautifulSoup and data manipulation with pandas.\n"
   ],
   "id": "831eb72a21699b3c"
  },
  {
   "cell_type": "code",
   "id": "initial_id",
   "metadata": {
    "collapsed": true,
    "ExecuteTime": {
     "end_time": "2025-04-23T13:27:27.665969Z",
     "start_time": "2025-04-23T13:27:27.660809Z"
    }
   },
   "source": [
    "import pandas as pd\n",
    "import requests\n",
    "from bs4 import BeautifulSoup\n",
    "\n",
    "# data_set = []\n",
    "data_set = pd.DataFrame(columns=['book_name', 'instock', 'price', 'book_score', 'link'])\n"
   ],
   "outputs": [],
   "execution_count": 5
  },
  {
   "metadata": {},
   "cell_type": "markdown",
   "source": [
    "# Parsing Functions Documentation\n",
    "\n",
    "This cell contains two important functions for web scraping book data:\n",
    "\n",
    "1. `get_book_score(book)`: \n",
    "   - Takes a book HTML element as input\n",
    "   - Returns a rating from 1-5 based on the 'star-rating' class\n",
    "   - Returns None if no valid rating is found\n",
    "\n",
    "2. `get_data_from_url(page_number)`:\n",
    "   - Takes a page number as input \n",
    "   - Makes HTTP request to books.toscrape.com for that page\n",
    "   - Parses HTML using BeautifulSoup to extract:\n",
    "     * Book title\n",
    "     * Stock status\n",
    "     * Price \n",
    "     * Rating (using get_book_score)\n",
    "   - Adds each book's data as a new row to the global data_set DataFrame\n"
   ],
   "id": "31881e83332ec2ea"
  },
  {
   "metadata": {
    "ExecuteTime": {
     "end_time": "2025-04-23T13:27:27.688254Z",
     "start_time": "2025-04-23T13:27:27.682255Z"
    }
   },
   "cell_type": "code",
   "source": [
    "def get_book_score(book):\n",
    "    if book.find('p', class_='star-rating One'):\n",
    "        return 1\n",
    "    elif book.find('p', class_='star-rating Two'):\n",
    "        return 2\n",
    "    elif book.find('p', class_='star-rating Three'):\n",
    "        return 3\n",
    "    elif book.find('p', class_='star-rating Four'):\n",
    "        return 4\n",
    "    elif book.find('p', class_='star-rating Five'):\n",
    "        return 5\n",
    "    else:\n",
    "        return None\n",
    "\n",
    "\n",
    "def get_data_from_url(page_number):\n",
    "    data_to_parse = requests.get(f'http://books.toscrape.com/catalogue/page-{page_number}.html')\n",
    "    soap = BeautifulSoup(data_to_parse.text, 'html.parser')\n",
    "    books = soap.find_all('article', class_='product_pod')\n",
    "    for book in books:\n",
    "        book_name = book.h3.a['title']\n",
    "        instock = book.find('p', class_='instock availability').text.strip()\n",
    "        price = book.find('p', class_='price_color').text.strip()\n",
    "        book_score = get_book_score(book)\n",
    "        link = book.h3.a['href']\n",
    "        data_set.loc[len(data_set)] = [book_name, instock, price, book_score, link]\n",
    "\n",
    "        # data_set.append({'book_name': book_name\n",
    "        #                     , 'instock': instock\n",
    "        #                     , 'price': price\n",
    "        #                     , 'book_score': book_score})\n"
   ],
   "id": "e6de51f21fe54669",
   "outputs": [],
   "execution_count": 6
  },
  {
   "metadata": {},
   "cell_type": "markdown",
   "source": [
    "# Scraping 50 Pages of Book Data\n",
    "\n",
    "This project will scrape data from all 50 pages of books.toscrape.com to collect:\n",
    "\n",
    "1. Book Information\n",
    "   - Title\n",
    "   - Price\n",
    "   - Stock availability status\n",
    "   - Rating (1-5 stars)\n",
    "\n",
    "2. Scraping Process:\n",
    "   - Iterates through pages 1-50\n",
    "   - Each page contains 20 books\n",
    "   - Total books to be scraped: ~1000 books\n"
   ],
   "id": "e41b794d04e38a04"
  },
  {
   "metadata": {
    "ExecuteTime": {
     "end_time": "2025-04-23T13:27:56.445549Z",
     "start_time": "2025-04-23T13:27:27.700803Z"
    }
   },
   "cell_type": "code",
   "source": [
    "# there are 50 pages\n",
    "for page_number in range(1, 51):\n",
    "    get_data_from_url(page_number)"
   ],
   "id": "385d83aee15ec5e3",
   "outputs": [],
   "execution_count": 7
  },
  {
   "metadata": {
    "ExecuteTime": {
     "end_time": "2025-04-23T13:27:56.477175Z",
     "start_time": "2025-04-23T13:27:56.462158Z"
    }
   },
   "cell_type": "code",
   "source": [
    "data_set.to_csv('data/raw/books.csv')\n",
    "data_set.info()"
   ],
   "id": "3b7abea5119d444f",
   "outputs": [
    {
     "name": "stdout",
     "output_type": "stream",
     "text": [
      "<class 'pandas.core.frame.DataFrame'>\n",
      "Index: 1000 entries, 0 to 999\n",
      "Data columns (total 5 columns):\n",
      " #   Column      Non-Null Count  Dtype \n",
      "---  ------      --------------  ----- \n",
      " 0   book_name   1000 non-null   object\n",
      " 1   instock     1000 non-null   object\n",
      " 2   price       1000 non-null   object\n",
      " 3   book_score  1000 non-null   int64 \n",
      " 4   link        1000 non-null   object\n",
      "dtypes: int64(1), object(4)\n",
      "memory usage: 46.9+ KB\n"
     ]
    }
   ],
   "execution_count": 8
  }
 ],
 "metadata": {
  "kernelspec": {
   "display_name": "Python [conda env:base] *",
   "language": "python",
   "name": "conda-base-py"
  },
  "language_info": {
   "codemirror_mode": {
    "name": "ipython",
    "version": 2
   },
   "file_extension": ".py",
   "mimetype": "text/x-python",
   "name": "python",
   "nbconvert_exporter": "python",
   "pygments_lexer": "ipython2",
   "version": "2.7.6"
  }
 },
 "nbformat": 4,
 "nbformat_minor": 5
}
