{
 "cells": [
  {
   "metadata": {},
   "cell_type": "markdown",
   "source": "# Load the Dataset",
   "id": "101ca88c9c6c255"
  },
  {
   "cell_type": "code",
   "id": "initial_id",
   "metadata": {
    "collapsed": true
   },
   "source": [
    "import pandas as pd\n",
    "df = pd.read_csv('data/raw/restaurants.csv')"
   ],
   "outputs": [],
   "execution_count": null
  },
  {
   "metadata": {},
   "cell_type": "markdown",
   "source": [
    "# Ignore 'score' and 'rating' Columns\n",
    "\n"
   ],
   "id": "b0eabdebd3be305d"
  },
  {
   "metadata": {},
   "cell_type": "code",
   "source": "df.drop(['score', 'ratings'], axis=1, inplace=True)",
   "id": "bf92e9cbaa6c957a",
   "outputs": [],
   "execution_count": null
  },
  {
   "metadata": {},
   "cell_type": "markdown",
   "source": [
    "# Remove Duplicate Entries\n",
    "\n",
    "We'll remove duplicate rows based on all columns:\n"
   ],
   "id": "a2bca34ef66f9e03"
  },
  {
   "metadata": {},
   "cell_type": "code",
   "source": "df.drop_duplicates(inplace=True)",
   "id": "a68afaadd7ae47d",
   "outputs": [],
   "execution_count": null
  },
  {
   "metadata": {},
   "cell_type": "markdown",
   "source": [
    "# **Encode `price_range` to numeric values**\n",
    "\n",
    "**Encode price_range to Numeric Values**\n",
    "\n",
    "We'll map the price ranges as follows:\n",
    "\n",
    "- `$` → 1\n",
    "- `$$` → 2\n",
    "- `$$$` → 3\n",
    "- `$$$$` → 4"
   ],
   "id": "f37bea7fcbf2022b"
  },
  {
   "metadata": {},
   "cell_type": "code",
   "outputs": [],
   "execution_count": null,
   "source": [
    "price_mapping = {'$': 1, '$$': 2, '$$$': 3, '$$$$': 4}\n",
    "df['price_range'] = df['price_range'].map(price_mapping)"
   ],
   "id": "128213bcb7894be6"
  }
 ],
 "metadata": {
  "kernelspec": {
   "display_name": "Python 3",
   "language": "python",
   "name": "python3"
  },
  "language_info": {
   "codemirror_mode": {
    "name": "ipython",
    "version": 2
   },
   "file_extension": ".py",
   "mimetype": "text/x-python",
   "name": "python",
   "nbconvert_exporter": "python",
   "pygments_lexer": "ipython2",
   "version": "2.7.6"
  }
 },
 "nbformat": 4,
 "nbformat_minor": 5
}
