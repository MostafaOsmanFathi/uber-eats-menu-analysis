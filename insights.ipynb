{
 "cells": [
  {
   "cell_type": "code",
   "execution_count": null,
   "id": "initial_id",
   "metadata": {
    "collapsed": true
   },
   "outputs": [],
   "source": [
    "import pandas as pd\n",
    "import seaborn as sns\n",
    "import matplotlib.pyplot as plt"
   ]
  },
  {
   "metadata": {},
   "cell_type": "markdown",
   "source": "# Load cleaned data",
   "id": "286668f3361ff112"
  },
  {
   "metadata": {},
   "cell_type": "code",
   "outputs": [],
   "execution_count": null,
   "source": [
    "restaurants_df = pd.read_csv(\"restaurants_clean.csv\")\n",
    "menu_df = pd.read_csv(\"menu_clean.csv\")"
   ],
   "id": "8c54c1b059964909"
  },
  {
   "metadata": {},
   "cell_type": "markdown",
   "source": [
    "# ============================\n",
    "# 🔍 Search Ranking Insights\n",
    "# ============================\n",
    "\n",
    "# 1. Top restaurants by average position"
   ],
   "id": "b967c05a744e686b"
  },
  {
   "metadata": {},
   "cell_type": "code",
   "outputs": [],
   "execution_count": null,
   "source": [
    "top_ranked = restaurants_df.groupby('restaurant_name')['position'].mean().sort_values().head(10)\n",
    "print(\"🔝 Top 10 Restaurants by Average Search Position:\")\n",
    "print(top_ranked)"
   ],
   "id": "f482a82b9ff34deb"
  },
  {
   "metadata": {},
   "cell_type": "markdown",
   "source": "# 2. Correlation between position and score (use original csv here since 'score' was dropped)",
   "id": "a035b9d1f3a442a"
  },
  {
   "metadata": {},
   "cell_type": "code",
   "outputs": [],
   "execution_count": null,
   "source": [
    "orig_restaurants = pd.read_csv(\"restaurants.csv\")\n",
    "clean_df = orig_restaurants.dropna(subset=['position', 'score'])\n",
    "sns.scatterplot(data=clean_df, x='position', y='score')\n",
    "plt.title(\"Search Position vs Review Score\")\n",
    "plt.xlabel(\"Search Position (Lower is Better)\")\n",
    "plt.ylabel(\"Review Score\")\n",
    "plt.show()\n",
    "\n",
    "correlation1 = clean_df[['position', 'score']].corr().iloc[0, 1]\n",
    "print(\"📈 Correlation between position and score:\", correlation1)\n"
   ],
   "id": "9d26cb1b48b5960c"
  },
  {
   "metadata": {},
   "cell_type": "markdown",
   "source": [
    "\n",
    "# ============================\n",
    "# 🥘 Menu Diversity Insights\n",
    "# ============================\n",
    "# 1. Menu variety by restaurant"
   ],
   "id": "66e5eeb2fb7e692"
  },
  {
   "metadata": {},
   "cell_type": "code",
   "outputs": [],
   "execution_count": null,
   "source": [
    "menu_counts = menu_df.groupby('restaurant_id')['item_name'].nunique().reset_index()\n",
    "menu_counts.columns = ['restaurant_id', 'menu_item_count']\n",
    "top_menus = menu_counts.sort_values(by='menu_item_count', ascending=False).head(10)\n",
    "print(\"🍽️ Top 10 Restaurants with Most Diverse Menus:\")\n",
    "print(top_menus)"
   ],
   "id": "1a7e62c7d17e2f1"
  },
  {
   "metadata": {},
   "cell_type": "markdown",
   "source": [
    "\n",
    "# 2. Correlation with total_ratings"
   ],
   "id": "b5a08297915642d7"
  },
  {
   "metadata": {},
   "cell_type": "code",
   "outputs": [],
   "execution_count": null,
   "source": [
    "ratings = orig_restaurants[['restaurant_id', 'total_ratings']].drop_duplicates()\n",
    "merged_df = pd.merge(menu_counts, ratings, on='restaurant_id')\n",
    "merged_df.dropna(inplace=True)\n",
    "sns.scatterplot(data=merged_df, x='menu_item_count', y='total_ratings')\n",
    "plt.title(\"Menu Item Count vs Total Ratings\")\n",
    "plt.xlabel(\"Menu Items\")\n",
    "plt.ylabel(\"Total Ratings\")\n",
    "plt.show()\n",
    "correlation2 = merged_df['menu_item_count'].corr(merged_df['total_ratings'])\n",
    "print(\"📊 Correlation between menu item count and total reviews:\", correlation2)"
   ],
   "id": "5dd39489815cdfb3"
  },
  {
   "metadata": {},
   "cell_type": "markdown",
   "source": "",
   "id": "b4edcdf17f609284"
  }
 ],
 "metadata": {
  "kernelspec": {
   "display_name": "Python 3",
   "language": "python",
   "name": "python3"
  },
  "language_info": {
   "codemirror_mode": {
    "name": "ipython",
    "version": 2
   },
   "file_extension": ".py",
   "mimetype": "text/x-python",
   "name": "python",
   "nbconvert_exporter": "python",
   "pygments_lexer": "ipython2",
   "version": "2.7.6"
  }
 },
 "nbformat": 4,
 "nbformat_minor": 5
}
