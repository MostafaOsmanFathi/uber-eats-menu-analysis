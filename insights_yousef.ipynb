{
 "cells": [
  {
   "cell_type": "markdown",
   "id": "47a25030",
   "metadata": {},
   "source": [
    "## 🧠 Insights احم احم\n",
    "### How does price range correlate with customer ratings?\n",
    "\n",
    "### Do restaurants with few ratings ever display high scores?\n",
    "\n",
    "### Which restaurants have the highest scores overall?\n",
    "\n",
    "### What is the average menu price by price category?\n",
    "\n",
    "### Do menu prices vary more within cheap or expensive restaurants?\n"
   ]
  },
  {
   "cell_type": "markdown",
   "id": "023de447",
   "metadata": {},
   "source": [
    "### Start with Price range correlation with Customer ratings"
   ]
  },
  {
   "cell_type": "code",
   "execution_count": 43,
   "id": "8fd506c6",
   "metadata": {},
   "outputs": [],
   "source": [
    "import pandas as pd\n",
    "import matplotlib.pyplot as plt\n",
    "import seaborn as sns\n",
    "\n",
    "df = pd.read_csv('data/processed/processed_restaurants_logged.csv')\n",
    "\n",
    "# Remove NaN from score 3shan n7sb sa7\n",
    "df_valid = df[df['score'].notna()].copy()\n",
    "\n",
    "\n",
    "# $ عامله مشكله \n",
    "price_map = {\n",
    "    '$': 'cheap',\n",
    "    '$$': 'moderate',\n",
    "    '$$$': 'expensive',\n",
    "    '$$$$': 'luxury'\n",
    "}\n",
    "\n",
    "df_valid['price_group'] = df_valid['price_range'].map(price_map)\n",
    "\n"
   ]
  },
  {
   "cell_type": "markdown",
   "id": "e3d48cc1",
   "metadata": {},
   "source": [
    "## Visualize Scores by Price Range with Boxplot"
   ]
  },
  {
   "cell_type": "code",
   "execution_count": 44,
   "id": "1cfd8fdc",
   "metadata": {},
   "outputs": [
    {
     "data": {
      "image/png": "[encoded data removed]",
      "text/plain": [
       "<Figure size 800x500 with 1 Axes>"
      ]
     },
     "metadata": {},
     "output_type": "display_data"
    }
   ],
   "source": [
    "plt.figure(figsize=(8, 5))\n",
    "sns.boxplot(data=df_valid, x='price_group', y='score', order=['cheap', 'moderate', 'expensive', 'luxury'])\n",
    "plt.title('Customer Ratings Across Price Ranges')\n",
    "plt.xlabel('Price Range')\n",
    "plt.ylabel('Average Score')\n",
    "plt.show()"
   ]
  },
  {
   "cell_type": "markdown",
   "id": "ca70c1fe",
   "metadata": {},
   "source": [
    "# Describe scores per group"
   ]
  },
  {
   "cell_type": "code",
   "execution_count": 45,
   "id": "ade8e213",
   "metadata": {},
   "outputs": [
    {
     "data": {
      "text/html": [
       "<div>\n",
       "<style scoped>\n",
       "    .dataframe tbody tr th:only-of-type {\n",
       "        vertical-align: middle;\n",
       "    }\n",
       "\n",
       "    .dataframe tbody tr th {\n",
       "        vertical-align: top;\n",
       "    }\n",
       "\n",
       "    .dataframe thead th {\n",
       "        text-align: right;\n",
       "    }\n",
       "</style>\n",
       "<table border=\"1\" class=\"dataframe\">\n",
       "  <thead>\n",
       "    <tr style=\"text-align: right;\">\n",
       "      <th></th>\n",
       "      <th>count</th>\n",
       "      <th>mean</th>\n",
       "      <th>std</th>\n",
       "      <th>min</th>\n",
       "      <th>25%</th>\n",
       "      <th>50%</th>\n",
       "      <th>75%</th>\n",
       "      <th>max</th>\n",
       "    </tr>\n",
       "    <tr>\n",
       "      <th>price_group</th>\n",
       "      <th></th>\n",
       "      <th></th>\n",
       "      <th></th>\n",
       "      <th></th>\n",
       "      <th></th>\n",
       "      <th></th>\n",
       "      <th></th>\n",
       "      <th></th>\n",
       "    </tr>\n",
       "  </thead>\n",
       "  <tbody>\n",
       "    <tr>\n",
       "      <th>cheap</th>\n",
       "      <td>26312.0</td>\n",
       "      <td>4.56</td>\n",
       "      <td>0.30</td>\n",
       "      <td>1.3</td>\n",
       "      <td>4.4</td>\n",
       "      <td>4.6</td>\n",
       "      <td>4.8</td>\n",
       "      <td>5.0</td>\n",
       "    </tr>\n",
       "    <tr>\n",
       "      <th>expensive</th>\n",
       "      <td>250.0</td>\n",
       "      <td>4.57</td>\n",
       "      <td>0.32</td>\n",
       "      <td>3.0</td>\n",
       "      <td>4.5</td>\n",
       "      <td>4.6</td>\n",
       "      <td>4.8</td>\n",
       "      <td>5.0</td>\n",
       "    </tr>\n",
       "    <tr>\n",
       "      <th>luxury</th>\n",
       "      <td>1132.0</td>\n",
       "      <td>4.55</td>\n",
       "      <td>0.29</td>\n",
       "      <td>3.0</td>\n",
       "      <td>4.4</td>\n",
       "      <td>4.6</td>\n",
       "      <td>4.8</td>\n",
       "      <td>5.0</td>\n",
       "    </tr>\n",
       "    <tr>\n",
       "      <th>moderate</th>\n",
       "      <td>7324.0</td>\n",
       "      <td>4.52</td>\n",
       "      <td>0.32</td>\n",
       "      <td>1.9</td>\n",
       "      <td>4.4</td>\n",
       "      <td>4.6</td>\n",
       "      <td>4.7</td>\n",
       "      <td>5.0</td>\n",
       "    </tr>\n",
       "  </tbody>\n",
       "</table>\n",
       "</div>"
      ],
      "text/plain": [
       "               count  mean   std  min  25%  50%  75%  max\n",
       "price_group                                              \n",
       "cheap        26312.0  4.56  0.30  1.3  4.4  4.6  4.8  5.0\n",
       "expensive      250.0  4.57  0.32  3.0  4.5  4.6  4.8  5.0\n",
       "luxury        1132.0  4.55  0.29  3.0  4.4  4.6  4.8  5.0\n",
       "moderate      7324.0  4.52  0.32  1.9  4.4  4.6  4.7  5.0"
      ]
     },
     "execution_count": 45,
     "metadata": {},
     "output_type": "execute_result"
    }
   ],
   "source": [
    "df_valid.groupby('price_group')['score'].describe().round(2)"
   ]
  },
  {
   "cell_type": "markdown",
   "id": "98f25ead",
   "metadata": {},
   "source": [
    "# CORELLATION ANALYSIS"
   ]
  },
  {
   "cell_type": "code",
   "execution_count": 46,
   "id": "4e56f7e8",
   "metadata": {},
   "outputs": [
    {
     "name": "stdout",
     "output_type": "stream",
     "text": [
      "Correlation between price level and average score: -0.032\n",
      "No or very weak correlation between price level and average score.\n"
     ]
    }
   ],
   "source": [
    "price_numeric = {'cheap': 1, 'moderate': 2, 'expensive': 3, 'luxury': 4}\n",
    "df_valid['price_numeric'] = df_valid['price_group'].map(price_numeric)\n",
    "\n",
    "correlation = df_valid[['price_numeric', 'score']].corr().iloc[0, 1]\n",
    "print(f\"Correlation between price level and average score: {correlation:.3f}\")\n",
    "\n",
    "if correlation > -0.05 and correlation < 0.05:\n",
    "    print(\"No or very weak correlation between price level and average score.\")\n",
    "elif correlation > 0.05:\n",
    "    print(\"Positive correlation between price level and average score.\")\n"
   ]
  }
 ],
 "metadata": {
  "kernelspec": {
   "display_name": ".venv",
   "language": "python",
   "name": "python3"
  },
  "language_info": {
   "codemirror_mode": {
    "name": "ipython",
    "version": 3
   },
   "file_extension": ".py",
   "mimetype": "text/x-python",
   "name": "python",
   "nbconvert_exporter": "python",
   "pygments_lexer": "ipython3",
   "version": "3.13.0"
  }
 },
 "nbformat": 4,
 "nbformat_minor": 5
}
