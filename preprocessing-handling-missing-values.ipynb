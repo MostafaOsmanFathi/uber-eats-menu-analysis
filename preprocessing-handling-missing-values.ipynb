{
 "cells": [
  {
   "cell_type": "code",
   "execution_count": 2,
   "id": "initial_id",
   "metadata": {
    "ExecuteTime": {
     "end_time": "2025-04-21T13:56:29.840063Z",
     "start_time": "2025-04-21T13:56:22.532324Z"
    },
    "collapsed": true,
    "jupyter": {
     "outputs_hidden": true
    }
   },
   "outputs": [],
   "source": [
    "import pandas as pd\n",
    "import matplotlib.pyplot as plt\n",
    "\n",
    "df_restaurants = pd.read_csv('data/raw/restaurants.csv')\n",
    "df_menus = pd.read_csv('data/raw/restaurant-menus.csv')\n"
   ]
  },
  {
   "cell_type": "markdown",
   "id": "99e15dcd3889475e",
   "metadata": {},
   "source": [
    "# Convert Price to float"
   ]
  },
  {
   "cell_type": "code",
   "execution_count": 3,
   "id": "29f675cffddb9ea9",
   "metadata": {
    "ExecuteTime": {
     "end_time": "2025-04-21T13:56:29.931293Z",
     "start_time": "2025-04-21T13:56:29.912680Z"
    }
   },
   "outputs": [
    {
     "name": "stdout",
     "output_type": "stream",
     "text": [
      "<class 'pandas.core.frame.DataFrame'>\n",
      "RangeIndex: 5117217 entries, 0 to 5117216\n",
      "Data columns (total 5 columns):\n",
      " #   Column         Dtype \n",
      "---  ------         ----- \n",
      " 0   restaurant_id  int64 \n",
      " 1   category       object\n",
      " 2   name           object\n",
      " 3   description    object\n",
      " 4   price          object\n",
      "dtypes: int64(1), object(4)\n",
      "memory usage: 195.2+ MB\n",
      "<class 'pandas.core.frame.DataFrame'>\n",
      "RangeIndex: 63469 entries, 0 to 63468\n",
      "Data columns (total 11 columns):\n",
      " #   Column        Non-Null Count  Dtype  \n",
      "---  ------        --------------  -----  \n",
      " 0   id            63469 non-null  int64  \n",
      " 1   position      63469 non-null  int64  \n",
      " 2   name          63469 non-null  object \n",
      " 3   score         35302 non-null  float64\n",
      " 4   ratings       35302 non-null  float64\n",
      " 5   category      63384 non-null  object \n",
      " 6   price_range   52852 non-null  object \n",
      " 7   full_address  63016 non-null  object \n",
      " 8   zip_code      62952 non-null  object \n",
      " 9   lat           63469 non-null  float64\n",
      " 10  lng           63469 non-null  float64\n",
      "dtypes: float64(4), int64(2), object(5)\n",
      "memory usage: 5.3+ MB\n"
     ]
    }
   ],
   "source": [
    "df_menus.info()\n",
    "df_restaurants.info()\n"
   ]
  },
  {
   "cell_type": "code",
   "execution_count": 4,
   "id": "14e4dc604be42685",
   "metadata": {
    "ExecuteTime": {
     "end_time": "2025-04-21T13:56:31.287196Z",
     "start_time": "2025-04-21T13:56:29.947917Z"
    }
   },
   "outputs": [
    {
     "name": "stdout",
     "output_type": "stream",
     "text": [
      "<class 'pandas.core.frame.DataFrame'>\n",
      "RangeIndex: 5117217 entries, 0 to 5117216\n",
      "Data columns (total 5 columns):\n",
      " #   Column         Dtype  \n",
      "---  ------         -----  \n",
      " 0   restaurant_id  int64  \n",
      " 1   category       object \n",
      " 2   name           object \n",
      " 3   description    object \n",
      " 4   price          float64\n",
      "dtypes: float64(1), int64(1), object(3)\n",
      "memory usage: 195.2+ MB\n"
     ]
    }
   ],
   "source": [
    "df_menus['price'] = df_menus['price'].apply(lambda x: float(x[:-4]))\n",
    "df_menus.info()"
   ]
  },
  {
   "cell_type": "markdown",
   "id": "ccc1e562ea8b2e75",
   "metadata": {},
   "source": [
    "## Extract Average Price and Price Sum and min and max price Per Restaurant"
   ]
  },
  {
   "cell_type": "code",
   "execution_count": 5,
   "id": "5aef288f966eb1e4",
   "metadata": {
    "ExecuteTime": {
     "end_time": "2025-04-21T13:56:31.640682Z",
     "start_time": "2025-04-21T13:56:31.302721Z"
    }
   },
   "outputs": [
    {
     "name": "stdout",
     "output_type": "stream",
     "text": [
      "<class 'pandas.core.frame.DataFrame'>\n",
      "RangeIndex: 63309 entries, 0 to 63308\n",
      "Data columns (total 5 columns):\n",
      " #   Column         Non-Null Count  Dtype  \n",
      "---  ------         --------------  -----  \n",
      " 0   restaurant_id  63309 non-null  int64  \n",
      " 1   avg_price      63309 non-null  float64\n",
      " 2   price_sum      63309 non-null  float64\n",
      " 3   price_min      63309 non-null  float64\n",
      " 4   price_max      63309 non-null  float64\n",
      "dtypes: float64(4), int64(1)\n",
      "memory usage: 2.4 MB\n"
     ]
    },
    {
     "data": {
      "text/html": [
       "<div>\n",
       "<style scoped>\n",
       "    .dataframe tbody tr th:only-of-type {\n",
       "        vertical-align: middle;\n",
       "    }\n",
       "\n",
       "    .dataframe tbody tr th {\n",
       "        vertical-align: top;\n",
       "    }\n",
       "\n",
       "    .dataframe thead th {\n",
       "        text-align: right;\n",
       "    }\n",
       "</style>\n",
       "<table border=\"1\" class=\"dataframe\">\n",
       "  <thead>\n",
       "    <tr style=\"text-align: right;\">\n",
       "      <th></th>\n",
       "      <th>restaurant_id</th>\n",
       "      <th>avg_price</th>\n",
       "      <th>price_sum</th>\n",
       "      <th>price_min</th>\n",
       "      <th>price_max</th>\n",
       "    </tr>\n",
       "  </thead>\n",
       "  <tbody>\n",
       "    <tr>\n",
       "      <th>0</th>\n",
       "      <td>1</td>\n",
       "      <td>5.663684</td>\n",
       "      <td>538.05</td>\n",
       "      <td>1.89</td>\n",
       "      <td>16.99</td>\n",
       "    </tr>\n",
       "    <tr>\n",
       "      <th>1</th>\n",
       "      <td>2</td>\n",
       "      <td>5.505333</td>\n",
       "      <td>330.32</td>\n",
       "      <td>0.60</td>\n",
       "      <td>8.49</td>\n",
       "    </tr>\n",
       "    <tr>\n",
       "      <th>2</th>\n",
       "      <td>3</td>\n",
       "      <td>10.762143</td>\n",
       "      <td>301.34</td>\n",
       "      <td>3.00</td>\n",
       "      <td>16.78</td>\n",
       "    </tr>\n",
       "    <tr>\n",
       "      <th>3</th>\n",
       "      <td>4</td>\n",
       "      <td>10.531892</td>\n",
       "      <td>389.68</td>\n",
       "      <td>2.49</td>\n",
       "      <td>16.99</td>\n",
       "    </tr>\n",
       "    <tr>\n",
       "      <th>4</th>\n",
       "      <td>5</td>\n",
       "      <td>4.532576</td>\n",
       "      <td>299.15</td>\n",
       "      <td>1.00</td>\n",
       "      <td>20.00</td>\n",
       "    </tr>\n",
       "    <tr>\n",
       "      <th>...</th>\n",
       "      <td>...</td>\n",
       "      <td>...</td>\n",
       "      <td>...</td>\n",
       "      <td>...</td>\n",
       "      <td>...</td>\n",
       "    </tr>\n",
       "    <tr>\n",
       "      <th>63304</th>\n",
       "      <td>63465</td>\n",
       "      <td>7.680833</td>\n",
       "      <td>1106.04</td>\n",
       "      <td>0.00</td>\n",
       "      <td>29.99</td>\n",
       "    </tr>\n",
       "    <tr>\n",
       "      <th>63305</th>\n",
       "      <td>63466</td>\n",
       "      <td>5.977500</td>\n",
       "      <td>23.91</td>\n",
       "      <td>4.73</td>\n",
       "      <td>9.46</td>\n",
       "    </tr>\n",
       "    <tr>\n",
       "      <th>63306</th>\n",
       "      <td>63467</td>\n",
       "      <td>7.625000</td>\n",
       "      <td>30.50</td>\n",
       "      <td>4.73</td>\n",
       "      <td>10.52</td>\n",
       "    </tr>\n",
       "    <tr>\n",
       "      <th>63307</th>\n",
       "      <td>63468</td>\n",
       "      <td>14.349130</td>\n",
       "      <td>660.06</td>\n",
       "      <td>0.00</td>\n",
       "      <td>44.99</td>\n",
       "    </tr>\n",
       "    <tr>\n",
       "      <th>63308</th>\n",
       "      <td>63469</td>\n",
       "      <td>5.006219</td>\n",
       "      <td>1006.25</td>\n",
       "      <td>0.75</td>\n",
       "      <td>27.48</td>\n",
       "    </tr>\n",
       "  </tbody>\n",
       "</table>\n",
       "<p>63309 rows × 5 columns</p>\n",
       "</div>"
      ],
      "text/plain": [
       "       restaurant_id  avg_price  price_sum  price_min  price_max\n",
       "0                  1   5.663684     538.05       1.89      16.99\n",
       "1                  2   5.505333     330.32       0.60       8.49\n",
       "2                  3  10.762143     301.34       3.00      16.78\n",
       "3                  4  10.531892     389.68       2.49      16.99\n",
       "4                  5   4.532576     299.15       1.00      20.00\n",
       "...              ...        ...        ...        ...        ...\n",
       "63304          63465   7.680833    1106.04       0.00      29.99\n",
       "63305          63466   5.977500      23.91       4.73       9.46\n",
       "63306          63467   7.625000      30.50       4.73      10.52\n",
       "63307          63468  14.349130     660.06       0.00      44.99\n",
       "63308          63469   5.006219    1006.25       0.75      27.48\n",
       "\n",
       "[63309 rows x 5 columns]"
      ]
     },
     "execution_count": 5,
     "metadata": {},
     "output_type": "execute_result"
    }
   ],
   "source": [
    "df_price_mean_sum = df_menus.groupby('restaurant_id')['price'].mean().reset_index()\n",
    "df_price_sum = df_menus.groupby('restaurant_id')['price'].sum()\n",
    "df_price_min = df_menus.groupby('restaurant_id')['price'].min()\n",
    "df_price_max = df_menus.groupby('restaurant_id')['price'].max()\n",
    "\n",
    "df_price_mean_sum['price_sum'] = df_price_sum.values\n",
    "df_price_mean_sum['price_min'] = df_price_min.values\n",
    "df_price_mean_sum['price_max'] = df_price_max.values\n",
    "df_price_mean_sum.rename(columns={'price': 'avg_price'}, inplace=True)\n",
    "\n",
    "df_price_mean_sum.info()\n",
    "df_price_mean_sum"
   ]
  },
  {
   "cell_type": "markdown",
   "id": "3237238c1cd6cca6",
   "metadata": {},
   "source": [
    "## join the price data with the restaurant data"
   ]
  },
  {
   "cell_type": "code",
   "execution_count": 6,
   "id": "c65cb74112e005bb",
   "metadata": {
    "ExecuteTime": {
     "end_time": "2025-04-21T13:56:31.739651Z",
     "start_time": "2025-04-21T13:56:31.701546Z"
    }
   },
   "outputs": [
    {
     "name": "stdout",
     "output_type": "stream",
     "text": [
      "<class 'pandas.core.frame.DataFrame'>\n",
      "RangeIndex: 63469 entries, 0 to 63468\n",
      "Data columns (total 16 columns):\n",
      " #   Column         Non-Null Count  Dtype  \n",
      "---  ------         --------------  -----  \n",
      " 0   id             63469 non-null  int64  \n",
      " 1   position       63469 non-null  int64  \n",
      " 2   name           63469 non-null  object \n",
      " 3   score          35302 non-null  float64\n",
      " 4   ratings        35302 non-null  float64\n",
      " 5   category       63384 non-null  object \n",
      " 6   price_range    52852 non-null  object \n",
      " 7   full_address   63016 non-null  object \n",
      " 8   zip_code       62952 non-null  object \n",
      " 9   lat            63469 non-null  float64\n",
      " 10  lng            63469 non-null  float64\n",
      " 11  restaurant_id  63309 non-null  float64\n",
      " 12  avg_price      63309 non-null  float64\n",
      " 13  price_sum      63309 non-null  float64\n",
      " 14  price_min      63309 non-null  float64\n",
      " 15  price_max      63309 non-null  float64\n",
      "dtypes: float64(9), int64(2), object(5)\n",
      "memory usage: 7.7+ MB\n"
     ]
    },
    {
     "data": {
      "text/html": [
       "<div>\n",
       "<style scoped>\n",
       "    .dataframe tbody tr th:only-of-type {\n",
       "        vertical-align: middle;\n",
       "    }\n",
       "\n",
       "    .dataframe tbody tr th {\n",
       "        vertical-align: top;\n",
       "    }\n",
       "\n",
       "    .dataframe thead th {\n",
       "        text-align: right;\n",
       "    }\n",
       "</style>\n",
       "<table border=\"1\" class=\"dataframe\">\n",
       "  <thead>\n",
       "    <tr style=\"text-align: right;\">\n",
       "      <th></th>\n",
       "      <th>id</th>\n",
       "      <th>position</th>\n",
       "      <th>name</th>\n",
       "      <th>score</th>\n",
       "      <th>ratings</th>\n",
       "      <th>category</th>\n",
       "      <th>price_range</th>\n",
       "      <th>full_address</th>\n",
       "      <th>zip_code</th>\n",
       "      <th>lat</th>\n",
       "      <th>lng</th>\n",
       "      <th>restaurant_id</th>\n",
       "      <th>avg_price</th>\n",
       "      <th>price_sum</th>\n",
       "      <th>price_min</th>\n",
       "      <th>price_max</th>\n",
       "    </tr>\n",
       "  </thead>\n",
       "  <tbody>\n",
       "    <tr>\n",
       "      <th>0</th>\n",
       "      <td>1</td>\n",
       "      <td>19</td>\n",
       "      <td>PJ Fresh (224 Daniel Payne Drive)</td>\n",
       "      <td>NaN</td>\n",
       "      <td>NaN</td>\n",
       "      <td>Burgers, American, Sandwiches</td>\n",
       "      <td>$</td>\n",
       "      <td>224 Daniel Payne Drive, Birmingham, AL, 35207</td>\n",
       "      <td>35207</td>\n",
       "      <td>33.562365</td>\n",
       "      <td>-86.830703</td>\n",
       "      <td>1.0</td>\n",
       "      <td>5.663684</td>\n",
       "      <td>538.05</td>\n",
       "      <td>1.89</td>\n",
       "      <td>16.99</td>\n",
       "    </tr>\n",
       "    <tr>\n",
       "      <th>1</th>\n",
       "      <td>2</td>\n",
       "      <td>9</td>\n",
       "      <td>J' ti`'z Smoothie-N-Coffee Bar</td>\n",
       "      <td>NaN</td>\n",
       "      <td>NaN</td>\n",
       "      <td>Coffee and Tea, Breakfast and Brunch, Bubble Tea</td>\n",
       "      <td>NaN</td>\n",
       "      <td>1521 Pinson Valley Parkway, Birmingham, AL, 35217</td>\n",
       "      <td>35217</td>\n",
       "      <td>33.583640</td>\n",
       "      <td>-86.773330</td>\n",
       "      <td>2.0</td>\n",
       "      <td>5.505333</td>\n",
       "      <td>330.32</td>\n",
       "      <td>0.60</td>\n",
       "      <td>8.49</td>\n",
       "    </tr>\n",
       "    <tr>\n",
       "      <th>2</th>\n",
       "      <td>3</td>\n",
       "      <td>6</td>\n",
       "      <td>Philly Fresh Cheesesteaks (541-B Graymont Ave)</td>\n",
       "      <td>NaN</td>\n",
       "      <td>NaN</td>\n",
       "      <td>American, Cheesesteak, Sandwiches, Alcohol</td>\n",
       "      <td>$</td>\n",
       "      <td>541-B Graymont Ave, Birmingham, AL, 35204</td>\n",
       "      <td>35204</td>\n",
       "      <td>33.509800</td>\n",
       "      <td>-86.854640</td>\n",
       "      <td>3.0</td>\n",
       "      <td>10.762143</td>\n",
       "      <td>301.34</td>\n",
       "      <td>3.00</td>\n",
       "      <td>16.78</td>\n",
       "    </tr>\n",
       "    <tr>\n",
       "      <th>3</th>\n",
       "      <td>4</td>\n",
       "      <td>17</td>\n",
       "      <td>Papa Murphy's (1580 Montgomery Highway)</td>\n",
       "      <td>NaN</td>\n",
       "      <td>NaN</td>\n",
       "      <td>Pizza</td>\n",
       "      <td>$</td>\n",
       "      <td>1580 Montgomery Highway, Hoover, AL, 35226</td>\n",
       "      <td>35226</td>\n",
       "      <td>33.404439</td>\n",
       "      <td>-86.806614</td>\n",
       "      <td>4.0</td>\n",
       "      <td>10.531892</td>\n",
       "      <td>389.68</td>\n",
       "      <td>2.49</td>\n",
       "      <td>16.99</td>\n",
       "    </tr>\n",
       "    <tr>\n",
       "      <th>4</th>\n",
       "      <td>5</td>\n",
       "      <td>162</td>\n",
       "      <td>Nelson Brothers Cafe (17th St N)</td>\n",
       "      <td>4.7</td>\n",
       "      <td>22.0</td>\n",
       "      <td>Breakfast and Brunch, Burgers, Sandwiches</td>\n",
       "      <td>NaN</td>\n",
       "      <td>314 17th St N, Birmingham, AL, 35203</td>\n",
       "      <td>35203</td>\n",
       "      <td>33.514730</td>\n",
       "      <td>-86.811700</td>\n",
       "      <td>5.0</td>\n",
       "      <td>4.532576</td>\n",
       "      <td>299.15</td>\n",
       "      <td>1.00</td>\n",
       "      <td>20.00</td>\n",
       "    </tr>\n",
       "    <tr>\n",
       "      <th>...</th>\n",
       "      <td>...</td>\n",
       "      <td>...</td>\n",
       "      <td>...</td>\n",
       "      <td>...</td>\n",
       "      <td>...</td>\n",
       "      <td>...</td>\n",
       "      <td>...</td>\n",
       "      <td>...</td>\n",
       "      <td>...</td>\n",
       "      <td>...</td>\n",
       "      <td>...</td>\n",
       "      <td>...</td>\n",
       "      <td>...</td>\n",
       "      <td>...</td>\n",
       "      <td>...</td>\n",
       "      <td>...</td>\n",
       "    </tr>\n",
       "    <tr>\n",
       "      <th>63464</th>\n",
       "      <td>63465</td>\n",
       "      <td>2</td>\n",
       "      <td>IHOP (4321 N 10th St)</td>\n",
       "      <td>4.6</td>\n",
       "      <td>56.0</td>\n",
       "      <td>American, Breakfast and Brunch, burger, Comfor...</td>\n",
       "      <td>$</td>\n",
       "      <td>4321 N 10th St, MC ALLEN, TX, 78504</td>\n",
       "      <td>78504</td>\n",
       "      <td>26.242853</td>\n",
       "      <td>-98.223984</td>\n",
       "      <td>63465.0</td>\n",
       "      <td>7.680833</td>\n",
       "      <td>1106.04</td>\n",
       "      <td>0.00</td>\n",
       "      <td>29.99</td>\n",
       "    </tr>\n",
       "    <tr>\n",
       "      <th>63465</th>\n",
       "      <td>63466</td>\n",
       "      <td>29</td>\n",
       "      <td>Feldman's - N 10th Street</td>\n",
       "      <td>NaN</td>\n",
       "      <td>NaN</td>\n",
       "      <td>NaN</td>\n",
       "      <td>NaN</td>\n",
       "      <td>3010 N 10th Street, Mc Allen, TX,</td>\n",
       "      <td>NaN</td>\n",
       "      <td>26.230764</td>\n",
       "      <td>-98.224922</td>\n",
       "      <td>63466.0</td>\n",
       "      <td>5.977500</td>\n",
       "      <td>23.91</td>\n",
       "      <td>4.73</td>\n",
       "      <td>9.46</td>\n",
       "    </tr>\n",
       "    <tr>\n",
       "      <th>63466</th>\n",
       "      <td>63467</td>\n",
       "      <td>27</td>\n",
       "      <td>Feldman's - N 23rd St</td>\n",
       "      <td>NaN</td>\n",
       "      <td>NaN</td>\n",
       "      <td>NaN</td>\n",
       "      <td>NaN</td>\n",
       "      <td>6101 N 23rd Street #B, Mc Allen, TX,</td>\n",
       "      <td>NaN</td>\n",
       "      <td>26.260353</td>\n",
       "      <td>-98.236755</td>\n",
       "      <td>63467.0</td>\n",
       "      <td>7.625000</td>\n",
       "      <td>30.50</td>\n",
       "      <td>4.73</td>\n",
       "      <td>10.52</td>\n",
       "    </tr>\n",
       "    <tr>\n",
       "      <th>63467</th>\n",
       "      <td>63468</td>\n",
       "      <td>19</td>\n",
       "      <td>Church's Chicken (620 S. 10th Street)</td>\n",
       "      <td>4.3</td>\n",
       "      <td>17.0</td>\n",
       "      <td>Fast Food, Family Meals</td>\n",
       "      <td>$</td>\n",
       "      <td>620 S. 10th Street, McAllen, TX, 78501</td>\n",
       "      <td>78501</td>\n",
       "      <td>26.197333</td>\n",
       "      <td>-98.231369</td>\n",
       "      <td>63468.0</td>\n",
       "      <td>14.349130</td>\n",
       "      <td>660.06</td>\n",
       "      <td>0.00</td>\n",
       "      <td>44.99</td>\n",
       "    </tr>\n",
       "    <tr>\n",
       "      <th>63468</th>\n",
       "      <td>63469</td>\n",
       "      <td>9</td>\n",
       "      <td>7-Eleven (1600 S 23rd St)</td>\n",
       "      <td>NaN</td>\n",
       "      <td>NaN</td>\n",
       "      <td>Everyday Essentials, Convenience, Home &amp;amp; P...</td>\n",
       "      <td>$</td>\n",
       "      <td>1600 S 23rd St, Mcallen, TX, 78503</td>\n",
       "      <td>78503</td>\n",
       "      <td>26.191710</td>\n",
       "      <td>-98.247880</td>\n",
       "      <td>63469.0</td>\n",
       "      <td>5.006219</td>\n",
       "      <td>1006.25</td>\n",
       "      <td>0.75</td>\n",
       "      <td>27.48</td>\n",
       "    </tr>\n",
       "  </tbody>\n",
       "</table>\n",
       "<p>63469 rows × 16 columns</p>\n",
       "</div>"
      ],
      "text/plain": [
       "          id  position                                            name  score  \\\n",
       "0          1        19               PJ Fresh (224 Daniel Payne Drive)    NaN   \n",
       "1          2         9                  J' ti`'z Smoothie-N-Coffee Bar    NaN   \n",
       "2          3         6  Philly Fresh Cheesesteaks (541-B Graymont Ave)    NaN   \n",
       "3          4        17         Papa Murphy's (1580 Montgomery Highway)    NaN   \n",
       "4          5       162                Nelson Brothers Cafe (17th St N)    4.7   \n",
       "...      ...       ...                                             ...    ...   \n",
       "63464  63465         2                           IHOP (4321 N 10th St)    4.6   \n",
       "63465  63466        29                       Feldman's - N 10th Street    NaN   \n",
       "63466  63467        27                           Feldman's - N 23rd St    NaN   \n",
       "63467  63468        19           Church's Chicken (620 S. 10th Street)    4.3   \n",
       "63468  63469         9                       7-Eleven (1600 S 23rd St)    NaN   \n",
       "\n",
       "       ratings                                           category price_range  \\\n",
       "0          NaN                      Burgers, American, Sandwiches           $   \n",
       "1          NaN   Coffee and Tea, Breakfast and Brunch, Bubble Tea         NaN   \n",
       "2          NaN         American, Cheesesteak, Sandwiches, Alcohol           $   \n",
       "3          NaN                                              Pizza           $   \n",
       "4         22.0          Breakfast and Brunch, Burgers, Sandwiches         NaN   \n",
       "...        ...                                                ...         ...   \n",
       "63464     56.0  American, Breakfast and Brunch, burger, Comfor...           $   \n",
       "63465      NaN                                                NaN         NaN   \n",
       "63466      NaN                                                NaN         NaN   \n",
       "63467     17.0                            Fast Food, Family Meals           $   \n",
       "63468      NaN  Everyday Essentials, Convenience, Home &amp; P...           $   \n",
       "\n",
       "                                            full_address zip_code        lat  \\\n",
       "0          224 Daniel Payne Drive, Birmingham, AL, 35207    35207  33.562365   \n",
       "1      1521 Pinson Valley Parkway, Birmingham, AL, 35217    35217  33.583640   \n",
       "2              541-B Graymont Ave, Birmingham, AL, 35204    35204  33.509800   \n",
       "3             1580 Montgomery Highway, Hoover, AL, 35226    35226  33.404439   \n",
       "4                   314 17th St N, Birmingham, AL, 35203    35203  33.514730   \n",
       "...                                                  ...      ...        ...   \n",
       "63464                4321 N 10th St, MC ALLEN, TX, 78504    78504  26.242853   \n",
       "63465                 3010 N 10th Street, Mc Allen, TX,       NaN  26.230764   \n",
       "63466              6101 N 23rd Street #B, Mc Allen, TX,       NaN  26.260353   \n",
       "63467             620 S. 10th Street, McAllen, TX, 78501    78501  26.197333   \n",
       "63468                 1600 S 23rd St, Mcallen, TX, 78503    78503  26.191710   \n",
       "\n",
       "             lng  restaurant_id  avg_price  price_sum  price_min  price_max  \n",
       "0     -86.830703            1.0   5.663684     538.05       1.89      16.99  \n",
       "1     -86.773330            2.0   5.505333     330.32       0.60       8.49  \n",
       "2     -86.854640            3.0  10.762143     301.34       3.00      16.78  \n",
       "3     -86.806614            4.0  10.531892     389.68       2.49      16.99  \n",
       "4     -86.811700            5.0   4.532576     299.15       1.00      20.00  \n",
       "...          ...            ...        ...        ...        ...        ...  \n",
       "63464 -98.223984        63465.0   7.680833    1106.04       0.00      29.99  \n",
       "63465 -98.224922        63466.0   5.977500      23.91       4.73       9.46  \n",
       "63466 -98.236755        63467.0   7.625000      30.50       4.73      10.52  \n",
       "63467 -98.231369        63468.0  14.349130     660.06       0.00      44.99  \n",
       "63468 -98.247880        63469.0   5.006219    1006.25       0.75      27.48  \n",
       "\n",
       "[63469 rows x 16 columns]"
      ]
     },
     "execution_count": 6,
     "metadata": {},
     "output_type": "execute_result"
    }
   ],
   "source": [
    "merged_df = df_restaurants.merge(df_price_mean_sum, left_on='id', right_on='restaurant_id', how='left')\n",
    "merged_df.info()\n",
    "merged_df"
   ]
  },
  {
   "cell_type": "markdown",
   "id": "f00ac5974fef6937",
   "metadata": {},
   "source": [
    "### Check for missing values for merged_df"
   ]
  },
  {
   "cell_type": "code",
   "execution_count": 7,
   "id": "5a1b81a7bc223f1b",
   "metadata": {
    "ExecuteTime": {
     "end_time": "2025-04-21T13:56:31.889109Z",
     "start_time": "2025-04-21T13:56:31.876638Z"
    }
   },
   "outputs": [
    {
     "data": {
      "text/plain": [
       "price_max    160\n",
       "price_min    160\n",
       "price_sum    160\n",
       "zip_code     517\n",
       "dtype: int64"
      ]
     },
     "execution_count": 7,
     "metadata": {},
     "output_type": "execute_result"
    }
   ],
   "source": [
    "merged_df[['price_max', 'price_min', 'price_sum', 'zip_code']].isna().sum()"
   ]
  },
  {
   "cell_type": "markdown",
   "id": "a8de15817ec442e1",
   "metadata": {},
   "source": [
    "### there are 160 record missing for price_max, price_min and price_sum out of 63,469\n",
    "### so it won't make problem if remove 160 records"
   ]
  },
  {
   "cell_type": "code",
   "execution_count": 8,
   "id": "72e80f3e16827964",
   "metadata": {
    "ExecuteTime": {
     "end_time": "2025-04-21T13:56:32.044435Z",
     "start_time": "2025-04-21T13:56:32.017969Z"
    }
   },
   "outputs": [
    {
     "name": "stdout",
     "output_type": "stream",
     "text": [
      "<class 'pandas.core.frame.DataFrame'>\n",
      "Index: 62792 entries, 0 to 63468\n",
      "Data columns (total 16 columns):\n",
      " #   Column         Non-Null Count  Dtype  \n",
      "---  ------         --------------  -----  \n",
      " 0   id             62792 non-null  int64  \n",
      " 1   position       62792 non-null  int64  \n",
      " 2   name           62792 non-null  object \n",
      " 3   score          35018 non-null  float64\n",
      " 4   ratings        35018 non-null  float64\n",
      " 5   category       62770 non-null  object \n",
      " 6   price_range    52426 non-null  object \n",
      " 7   full_address   62792 non-null  object \n",
      " 8   zip_code       62792 non-null  object \n",
      " 9   lat            62792 non-null  float64\n",
      " 10  lng            62792 non-null  float64\n",
      " 11  restaurant_id  62792 non-null  float64\n",
      " 12  avg_price      62792 non-null  float64\n",
      " 13  price_sum      62792 non-null  float64\n",
      " 14  price_min      62792 non-null  float64\n",
      " 15  price_max      62792 non-null  float64\n",
      "dtypes: float64(9), int64(2), object(5)\n",
      "memory usage: 8.1+ MB\n"
     ]
    }
   ],
   "source": [
    "merged_df.dropna(subset=['price_max', 'price_min', 'price_sum', 'zip_code'], inplace=True)\n",
    "merged_df.info()"
   ]
  },
  {
   "cell_type": "markdown",
   "id": "28b93d7dd7823fb8",
   "metadata": {},
   "source": [
    "## get data frame without price range with null values to calculate max and min price for each category"
   ]
  },
  {
   "cell_type": "code",
   "execution_count": 9,
   "id": "f6cee38901f8510",
   "metadata": {
    "ExecuteTime": {
     "end_time": "2025-04-21T13:56:32.228800Z",
     "start_time": "2025-04-21T13:56:32.204601Z"
    }
   },
   "outputs": [
    {
     "data": {
      "text/html": [
       "<div>\n",
       "<style scoped>\n",
       "    .dataframe tbody tr th:only-of-type {\n",
       "        vertical-align: middle;\n",
       "    }\n",
       "\n",
       "    .dataframe tbody tr th {\n",
       "        vertical-align: top;\n",
       "    }\n",
       "\n",
       "    .dataframe thead th {\n",
       "        text-align: right;\n",
       "    }\n",
       "</style>\n",
       "<table border=\"1\" class=\"dataframe\">\n",
       "  <thead>\n",
       "    <tr style=\"text-align: right;\">\n",
       "      <th></th>\n",
       "      <th>price_range</th>\n",
       "      <th>price_max</th>\n",
       "      <th>price_min</th>\n",
       "    </tr>\n",
       "  </thead>\n",
       "  <tbody>\n",
       "    <tr>\n",
       "      <th>0</th>\n",
       "      <td>$</td>\n",
       "      <td>34.352069</td>\n",
       "      <td>1.547300</td>\n",
       "    </tr>\n",
       "    <tr>\n",
       "      <th>1</th>\n",
       "      <td>$$</td>\n",
       "      <td>35.316274</td>\n",
       "      <td>2.434294</td>\n",
       "    </tr>\n",
       "    <tr>\n",
       "      <th>2</th>\n",
       "      <td>$$$</td>\n",
       "      <td>60.360901</td>\n",
       "      <td>3.352532</td>\n",
       "    </tr>\n",
       "    <tr>\n",
       "      <th>3</th>\n",
       "      <td>$$$$</td>\n",
       "      <td>95.721200</td>\n",
       "      <td>6.206400</td>\n",
       "    </tr>\n",
       "    <tr>\n",
       "      <th>4</th>\n",
       "      <td>$$$$$$$$$$$$$$$$$</td>\n",
       "      <td>5.490000</td>\n",
       "      <td>0.000000</td>\n",
       "    </tr>\n",
       "  </tbody>\n",
       "</table>\n",
       "</div>"
      ],
      "text/plain": [
       "         price_range  price_max  price_min\n",
       "0                  $  34.352069   1.547300\n",
       "1                 $$  35.316274   2.434294\n",
       "2                $$$  60.360901   3.352532\n",
       "3               $$$$  95.721200   6.206400\n",
       "4  $$$$$$$$$$$$$$$$$   5.490000   0.000000"
      ]
     },
     "execution_count": 9,
     "metadata": {},
     "output_type": "execute_result"
    }
   ],
   "source": [
    "price_range_analysis = merged_df.dropna(subset=['price_range'])\n",
    "price_range_analysis = price_range_analysis.groupby('price_range')[['price_max', 'price_min']].mean().reset_index()\n",
    "price_range_analysis\n"
   ]
  },
  {
   "cell_type": "markdown",
   "id": "5f14b87df9171e63",
   "metadata": {},
   "source": [
    "#### Removing `$$$$$$$$$$$$$$$$$` value has only one record\n"
   ]
  },
  {
   "cell_type": "code",
   "execution_count": 10,
   "id": "2988583d0eb76dab",
   "metadata": {
    "ExecuteTime": {
     "end_time": "2025-04-21T13:56:32.349751Z",
     "start_time": "2025-04-21T13:56:32.331537Z"
    }
   },
   "outputs": [
    {
     "data": {
      "text/html": [
       "<div>\n",
       "<style scoped>\n",
       "    .dataframe tbody tr th:only-of-type {\n",
       "        vertical-align: middle;\n",
       "    }\n",
       "\n",
       "    .dataframe tbody tr th {\n",
       "        vertical-align: top;\n",
       "    }\n",
       "\n",
       "    .dataframe thead th {\n",
       "        text-align: right;\n",
       "    }\n",
       "</style>\n",
       "<table border=\"1\" class=\"dataframe\">\n",
       "  <thead>\n",
       "    <tr style=\"text-align: right;\">\n",
       "      <th></th>\n",
       "      <th>price_range</th>\n",
       "      <th>price_max</th>\n",
       "      <th>price_min</th>\n",
       "    </tr>\n",
       "  </thead>\n",
       "  <tbody>\n",
       "    <tr>\n",
       "      <th>0</th>\n",
       "      <td>$</td>\n",
       "      <td>34.352069</td>\n",
       "      <td>1.547300</td>\n",
       "    </tr>\n",
       "    <tr>\n",
       "      <th>1</th>\n",
       "      <td>$$</td>\n",
       "      <td>35.316274</td>\n",
       "      <td>2.434294</td>\n",
       "    </tr>\n",
       "    <tr>\n",
       "      <th>2</th>\n",
       "      <td>$$$</td>\n",
       "      <td>60.360901</td>\n",
       "      <td>3.352532</td>\n",
       "    </tr>\n",
       "    <tr>\n",
       "      <th>3</th>\n",
       "      <td>$$$$</td>\n",
       "      <td>95.721200</td>\n",
       "      <td>6.206400</td>\n",
       "    </tr>\n",
       "  </tbody>\n",
       "</table>\n",
       "</div>"
      ],
      "text/plain": [
       "  price_range  price_max  price_min\n",
       "0           $  34.352069   1.547300\n",
       "1          $$  35.316274   2.434294\n",
       "2         $$$  60.360901   3.352532\n",
       "3        $$$$  95.721200   6.206400"
      ]
     },
     "execution_count": 10,
     "metadata": {},
     "output_type": "execute_result"
    }
   ],
   "source": [
    "price_range_analysis = price_range_analysis[price_range_analysis['price_range'] != '$$$$$$$$$$$$$$$$$']\n",
    "merged_df = merged_df[merged_df['price_range'] != '$$$$$$$$$$$$$$$$$']\n",
    "price_range_analysis"
   ]
  },
  {
   "cell_type": "markdown",
   "id": "128cc6394025aa8d",
   "metadata": {},
   "source": [
    "### price range visualization\n",
    "#### price range per max price"
   ]
  },
  {
   "cell_type": "code",
   "execution_count": 11,
   "id": "2f73f530bc4354d5",
   "metadata": {
    "ExecuteTime": {
     "end_time": "2025-04-21T13:56:32.645170Z",
     "start_time": "2025-04-21T13:56:32.515725Z"
    }
   },
   "outputs": [
    {
     "data": {
      "text/plain": [
       "Text(0, 0.5, 'Max Price')"
      ]
     },
     "execution_count": 11,
     "metadata": {},
     "output_type": "execute_result"
    },
    {
     "data": {
      "image/png": "[encoded data removed]",
      "text/plain": [
       "<Figure size 640x480 with 1 Axes>"
      ]
     },
     "metadata": {},
     "output_type": "display_data"
    }
   ],
   "source": [
    "plt.bar(price_range_analysis['price_range'].str.replace('$', r'\\$', regex=False), price_range_analysis['price_max'])\n",
    "plt.xlabel(\"Price Range\")\n",
    "plt.ylabel(\"Max Price\")"
   ]
  },
  {
   "cell_type": "markdown",
   "id": "9389f5c7184a2d4",
   "metadata": {},
   "source": [
    "#### price range per min price"
   ]
  },
  {
   "cell_type": "code",
   "execution_count": 12,
   "id": "510e7ebbc0a49690",
   "metadata": {
    "ExecuteTime": {
     "end_time": "2025-04-21T13:56:32.858421Z",
     "start_time": "2025-04-21T13:56:32.765897Z"
    }
   },
   "outputs": [
    {
     "data": {
      "text/plain": [
       "Text(0, 0.5, 'Min Price')"
      ]
     },
     "execution_count": 12,
     "metadata": {},
     "output_type": "execute_result"
    },
    {
     "data": {
      "image/png": "[encoded data removed]",
      "text/plain": [
       "<Figure size 640x480 with 1 Axes>"
      ]
     },
     "metadata": {},
     "output_type": "display_data"
    }
   ],
   "source": [
    "plt.bar(price_range_analysis['price_range'].str.replace('$', r'\\$', regex=False), price_range_analysis['price_min'])\n",
    "plt.xlabel(\"Price Range\")\n",
    "plt.ylabel(\"Min Price\")"
   ]
  },
  {
   "cell_type": "markdown",
   "id": "47301bd347ae18cc",
   "metadata": {},
   "source": [
    "## fill missing values for price range using min and max price that we got from previous step"
   ]
  },
  {
   "cell_type": "code",
   "execution_count": 13,
   "id": "6ac5480ba11661fc",
   "metadata": {
    "ExecuteTime": {
     "end_time": "2025-04-21T13:56:33.121309Z",
     "start_time": "2025-04-21T13:56:32.936498Z"
    }
   },
   "outputs": [
    {
     "name": "stdout",
     "output_type": "stream",
     "text": [
      "<class 'pandas.core.frame.DataFrame'>\n",
      "Index: 62791 entries, 0 to 63468\n",
      "Data columns (total 16 columns):\n",
      " #   Column         Non-Null Count  Dtype  \n",
      "---  ------         --------------  -----  \n",
      " 0   id             62791 non-null  int64  \n",
      " 1   position       62791 non-null  int64  \n",
      " 2   name           62791 non-null  object \n",
      " 3   score          35018 non-null  float64\n",
      " 4   ratings        35018 non-null  float64\n",
      " 5   category       62769 non-null  object \n",
      " 6   price_range    62791 non-null  object \n",
      " 7   full_address   62791 non-null  object \n",
      " 8   zip_code       62791 non-null  object \n",
      " 9   lat            62791 non-null  float64\n",
      " 10  lng            62791 non-null  float64\n",
      " 11  restaurant_id  62791 non-null  float64\n",
      " 12  avg_price      62791 non-null  float64\n",
      " 13  price_sum      62791 non-null  float64\n",
      " 14  price_min      62791 non-null  float64\n",
      " 15  price_max      62791 non-null  float64\n",
      "dtypes: float64(9), int64(2), object(5)\n",
      "memory usage: 8.1+ MB\n"
     ]
    }
   ],
   "source": [
    "def get_price_range(mn, mx):\n",
    "    if mx <= 34.352069 and mn >= 0:\n",
    "        return '$'\n",
    "    elif mx <= 35.316274 and mn >= 2.434294:\n",
    "        return '$$'\n",
    "    elif mx <= 60.360901 and mn >= 3.352532:\n",
    "        return '$$$'\n",
    "    else:\n",
    "        return '$$$$'\n",
    "\n",
    "\n",
    "merged_df.loc[merged_df['price_range'].isna(), 'price_range'] = \\\n",
    "    merged_df[merged_df['price_range'].isna()].apply(lambda row: get_price_range(row['price_min'], row['price_max']),\n",
    "                                                     axis=1)\n",
    "merged_df.drop_duplicates()\n",
    "merged_df.info()\n"
   ]
  },
  {
   "cell_type": "markdown",
   "id": "630bc74e70be6c",
   "metadata": {},
   "source": [
    "### save the processed data in `data/processed/processed_restaurants.csv`"
   ]
  },
  {
   "cell_type": "code",
   "execution_count": 14,
   "id": "aba6b175520c8c7",
   "metadata": {
    "ExecuteTime": {
     "end_time": "2025-04-21T13:56:33.611439Z",
     "start_time": "2025-04-21T13:56:33.144917Z"
    }
   },
   "outputs": [],
   "source": [
    "merged_df.to_csv('data/processed/processed_restaurants.csv', index=False)"
   ]
  }
 ],
 "metadata": {
  "kernelspec": {
   "display_name": ".venv",
   "language": "python",
   "name": "python3"
  },
  "language_info": {
   "codemirror_mode": {
    "name": "ipython",
    "version": 3
   },
   "file_extension": ".py",
   "mimetype": "text/x-python",
   "name": "python",
   "nbconvert_exporter": "python",
   "pygments_lexer": "ipython3",
   "version": "3.13.0"
  }
 },
 "nbformat": 4,
 "nbformat_minor": 5
}
