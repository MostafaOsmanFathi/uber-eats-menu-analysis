{
 "cells": [
  {
   "cell_type": "code",
   "execution_count": 1,
   "id": "212ba19bf1b29d16",
   "metadata": {
    "ExecuteTime": {
     "end_time": "2025-04-23T10:59:40.890718Z",
     "start_time": "2025-04-23T10:59:33.055809Z"
    },
    "collapsed": true,
    "jupyter": {
     "outputs_hidden": true
    }
   },
   "outputs": [],
   "source": [
    "import pandas as pd\n",
    "import matplotlib.pyplot as plt\n",
    "\n",
    "df_restaurants = pd.read_csv('data/raw/restaurants.csv')\n",
    "df_menus = pd.read_csv('data/raw/restaurant-menus.csv')\n"
   ]
  },
  {
   "cell_type": "markdown",
   "id": "6430adcf1257c09e",
   "metadata": {},
   "source": [
    "# Convert Price to float"
   ]
  },
  {
   "cell_type": "code",
   "execution_count": 2,
   "id": "9d84c010b77faf31",
   "metadata": {
    "ExecuteTime": {
     "end_time": "2025-04-23T10:59:40.941006Z",
     "start_time": "2025-04-23T10:59:40.919005Z"
    }
   },
   "outputs": [
    {
     "name": "stdout",
     "output_type": "stream",
     "text": [
      "<class 'pandas.core.frame.DataFrame'>\n",
      "RangeIndex: 5117217 entries, 0 to 5117216\n",
      "Data columns (total 5 columns):\n",
      " #   Column         Dtype \n",
      "---  ------         ----- \n",
      " 0   restaurant_id  int64 \n",
      " 1   category       object\n",
      " 2   name           object\n",
      " 3   description    object\n",
      " 4   price          object\n",
      "dtypes: int64(1), object(4)\n",
      "memory usage: 195.2+ MB\n",
      "<class 'pandas.core.frame.DataFrame'>\n",
      "RangeIndex: 63469 entries, 0 to 63468\n",
      "Data columns (total 11 columns):\n",
      " #   Column        Non-Null Count  Dtype  \n",
      "---  ------        --------------  -----  \n",
      " 0   id            63469 non-null  int64  \n",
      " 1   position      63469 non-null  int64  \n",
      " 2   name          63469 non-null  object \n",
      " 3   score         35302 non-null  float64\n",
      " 4   ratings       35302 non-null  float64\n",
      " 5   category      63384 non-null  object \n",
      " 6   price_range   52852 non-null  object \n",
      " 7   full_address  63016 non-null  object \n",
      " 8   zip_code      62952 non-null  object \n",
      " 9   lat           63469 non-null  float64\n",
      " 10  lng           63469 non-null  float64\n",
      "dtypes: float64(4), int64(2), object(5)\n",
      "memory usage: 5.3+ MB\n"
     ]
    }
   ],
   "source": [
    "df_menus.info()\n",
    "df_restaurants.info()\n"
   ]
  },
  {
   "cell_type": "code",
   "execution_count": 3,
   "id": "cd3c73b1f5ce45ee",
   "metadata": {
    "ExecuteTime": {
     "end_time": "2025-04-23T10:59:42.312076Z",
     "start_time": "2025-04-23T10:59:40.988561Z"
    }
   },
   "outputs": [
    {
     "name": "stdout",
     "output_type": "stream",
     "text": [
      "<class 'pandas.core.frame.DataFrame'>\n",
      "RangeIndex: 5117217 entries, 0 to 5117216\n",
      "Data columns (total 5 columns):\n",
      " #   Column         Dtype  \n",
      "---  ------         -----  \n",
      " 0   restaurant_id  int64  \n",
      " 1   category       object \n",
      " 2   name           object \n",
      " 3   description    object \n",
      " 4   price          float64\n",
      "dtypes: float64(1), int64(1), object(3)\n",
      "memory usage: 195.2+ MB\n"
     ]
    }
   ],
   "source": [
    "df_menus['price'] = df_menus['price'].apply(lambda x: float(x[:-4]))\n",
    "df_menus.info()"
   ]
  },
  {
   "cell_type": "markdown",
   "id": "c23eec9b4f1743f8",
   "metadata": {},
   "source": [
    "## Extract Average Price and Price Sum and min and max price Per Restaurant"
   ]
  },
  {
   "cell_type": "code",
   "execution_count": 4,
   "id": "aef5afeb704dc238",
   "metadata": {
    "ExecuteTime": {
     "end_time": "2025-04-23T10:59:45.769130Z",
     "start_time": "2025-04-23T10:59:42.345236Z"
    }
   },
   "outputs": [
    {
     "name": "stdout",
     "output_type": "stream",
     "text": [
      "<class 'pandas.core.frame.DataFrame'>\n",
      "RangeIndex: 63309 entries, 0 to 63308\n",
      "Data columns (total 6 columns):\n",
      " #   Column         Non-Null Count  Dtype  \n",
      "---  ------         --------------  -----  \n",
      " 0   restaurant_id  63309 non-null  int64  \n",
      " 1   avg_price      63309 non-null  float64\n",
      " 2   price_sum      63309 non-null  float64\n",
      " 3   price_min      63309 non-null  float64\n",
      " 4   price_max      63309 non-null  float64\n",
      " 5   desc_avg_len   63309 non-null  float64\n",
      "dtypes: float64(5), int64(1)\n",
      "memory usage: 2.9 MB\n"
     ]
    },
    {
     "data": {
      "text/html": [
       "<div>\n",
       "<style scoped>\n",
       "    .dataframe tbody tr th:only-of-type {\n",
       "        vertical-align: middle;\n",
       "    }\n",
       "\n",
       "    .dataframe tbody tr th {\n",
       "        vertical-align: top;\n",
       "    }\n",
       "\n",
       "    .dataframe thead th {\n",
       "        text-align: right;\n",
       "    }\n",
       "</style>\n",
       "<table border=\"1\" class=\"dataframe\">\n",
       "  <thead>\n",
       "    <tr style=\"text-align: right;\">\n",
       "      <th></th>\n",
       "      <th>restaurant_id</th>\n",
       "      <th>avg_price</th>\n",
       "      <th>price_sum</th>\n",
       "      <th>price_min</th>\n",
       "      <th>price_max</th>\n",
       "      <th>desc_avg_len</th>\n",
       "    </tr>\n",
       "  </thead>\n",
       "  <tbody>\n",
       "    <tr>\n",
       "      <th>0</th>\n",
       "      <td>1</td>\n",
       "      <td>5.663684</td>\n",
       "      <td>538.05</td>\n",
       "      <td>1.89</td>\n",
       "      <td>16.99</td>\n",
       "      <td>6.915789</td>\n",
       "    </tr>\n",
       "    <tr>\n",
       "      <th>1</th>\n",
       "      <td>2</td>\n",
       "      <td>5.505333</td>\n",
       "      <td>330.32</td>\n",
       "      <td>0.60</td>\n",
       "      <td>8.49</td>\n",
       "      <td>86.250000</td>\n",
       "    </tr>\n",
       "    <tr>\n",
       "      <th>2</th>\n",
       "      <td>3</td>\n",
       "      <td>10.762143</td>\n",
       "      <td>301.34</td>\n",
       "      <td>3.00</td>\n",
       "      <td>16.78</td>\n",
       "      <td>48.678571</td>\n",
       "    </tr>\n",
       "    <tr>\n",
       "      <th>3</th>\n",
       "      <td>4</td>\n",
       "      <td>10.531892</td>\n",
       "      <td>389.68</td>\n",
       "      <td>2.49</td>\n",
       "      <td>16.99</td>\n",
       "      <td>213.513514</td>\n",
       "    </tr>\n",
       "    <tr>\n",
       "      <th>4</th>\n",
       "      <td>5</td>\n",
       "      <td>4.532576</td>\n",
       "      <td>299.15</td>\n",
       "      <td>1.00</td>\n",
       "      <td>20.00</td>\n",
       "      <td>12.090909</td>\n",
       "    </tr>\n",
       "    <tr>\n",
       "      <th>...</th>\n",
       "      <td>...</td>\n",
       "      <td>...</td>\n",
       "      <td>...</td>\n",
       "      <td>...</td>\n",
       "      <td>...</td>\n",
       "      <td>...</td>\n",
       "    </tr>\n",
       "    <tr>\n",
       "      <th>63304</th>\n",
       "      <td>63465</td>\n",
       "      <td>7.680833</td>\n",
       "      <td>1106.04</td>\n",
       "      <td>0.00</td>\n",
       "      <td>29.99</td>\n",
       "      <td>121.826389</td>\n",
       "    </tr>\n",
       "    <tr>\n",
       "      <th>63305</th>\n",
       "      <td>63466</td>\n",
       "      <td>5.977500</td>\n",
       "      <td>23.91</td>\n",
       "      <td>4.73</td>\n",
       "      <td>9.46</td>\n",
       "      <td>443.750000</td>\n",
       "    </tr>\n",
       "    <tr>\n",
       "      <th>63306</th>\n",
       "      <td>63467</td>\n",
       "      <td>7.625000</td>\n",
       "      <td>30.50</td>\n",
       "      <td>4.73</td>\n",
       "      <td>10.52</td>\n",
       "      <td>344.750000</td>\n",
       "    </tr>\n",
       "    <tr>\n",
       "      <th>63307</th>\n",
       "      <td>63468</td>\n",
       "      <td>14.349130</td>\n",
       "      <td>660.06</td>\n",
       "      <td>0.00</td>\n",
       "      <td>44.99</td>\n",
       "      <td>95.478261</td>\n",
       "    </tr>\n",
       "    <tr>\n",
       "      <th>63308</th>\n",
       "      <td>63469</td>\n",
       "      <td>5.006219</td>\n",
       "      <td>1006.25</td>\n",
       "      <td>0.75</td>\n",
       "      <td>27.48</td>\n",
       "      <td>0.378109</td>\n",
       "    </tr>\n",
       "  </tbody>\n",
       "</table>\n",
       "<p>63309 rows × 6 columns</p>\n",
       "</div>"
      ],
      "text/plain": [
       "       restaurant_id  avg_price  price_sum  price_min  price_max  desc_avg_len\n",
       "0                  1   5.663684     538.05       1.89      16.99      6.915789\n",
       "1                  2   5.505333     330.32       0.60       8.49     86.250000\n",
       "2                  3  10.762143     301.34       3.00      16.78     48.678571\n",
       "3                  4  10.531892     389.68       2.49      16.99    213.513514\n",
       "4                  5   4.532576     299.15       1.00      20.00     12.090909\n",
       "...              ...        ...        ...        ...        ...           ...\n",
       "63304          63465   7.680833    1106.04       0.00      29.99    121.826389\n",
       "63305          63466   5.977500      23.91       4.73       9.46    443.750000\n",
       "63306          63467   7.625000      30.50       4.73      10.52    344.750000\n",
       "63307          63468  14.349130     660.06       0.00      44.99     95.478261\n",
       "63308          63469   5.006219    1006.25       0.75      27.48      0.378109\n",
       "\n",
       "[63309 rows x 6 columns]"
      ]
     },
     "execution_count": 4,
     "metadata": {},
     "output_type": "execute_result"
    }
   ],
   "source": [
    "df_menus['description_len'] = df_menus['description'].apply(lambda x: len(x) if pd.notnull(x) else 0)\n",
    "\n",
    "df_price_mean_sum = df_menus.groupby('restaurant_id')['price'].mean().reset_index()\n",
    "df_price_sum = df_menus.groupby('restaurant_id')['price'].sum()\n",
    "df_price_min = df_menus.groupby('restaurant_id')['price'].min()\n",
    "df_price_max = df_menus.groupby('restaurant_id')['price'].max()\n",
    "df_description_len_avg = df_menus.groupby('restaurant_id')['description_len'].mean()\n",
    "\n",
    "df_price_mean_sum['price_sum'] = df_price_sum.values\n",
    "df_price_mean_sum['price_min'] = df_price_min.values\n",
    "df_price_mean_sum['price_max'] = df_price_max.values\n",
    "\n",
    "df_price_mean_sum['desc_avg_len'] = df_description_len_avg.values\n",
    "\n",
    "df_price_mean_sum.rename(columns={'price': 'avg_price'}, inplace=True)\n",
    "\n",
    "df_price_mean_sum.info()\n",
    "df_price_mean_sum"
   ]
  },
  {
   "cell_type": "markdown",
   "id": "1942d453f0d3a596",
   "metadata": {},
   "source": [
    "## join the price data with the restaurant data"
   ]
  },
  {
   "cell_type": "code",
   "execution_count": 5,
   "id": "3f544950279fb9c9",
   "metadata": {
    "ExecuteTime": {
     "end_time": "2025-04-23T10:59:45.915763Z",
     "start_time": "2025-04-23T10:59:45.842320Z"
    }
   },
   "outputs": [
    {
     "name": "stdout",
     "output_type": "stream",
     "text": [
      "<class 'pandas.core.frame.DataFrame'>\n",
      "RangeIndex: 63469 entries, 0 to 63468\n",
      "Data columns (total 17 columns):\n",
      " #   Column         Non-Null Count  Dtype  \n",
      "---  ------         --------------  -----  \n",
      " 0   id             63469 non-null  int64  \n",
      " 1   position       63469 non-null  int64  \n",
      " 2   name           63469 non-null  object \n",
      " 3   score          35302 non-null  float64\n",
      " 4   ratings        35302 non-null  float64\n",
      " 5   category       63384 non-null  object \n",
      " 6   price_range    52852 non-null  object \n",
      " 7   full_address   63016 non-null  object \n",
      " 8   zip_code       62952 non-null  object \n",
      " 9   lat            63469 non-null  float64\n",
      " 10  lng            63469 non-null  float64\n",
      " 11  restaurant_id  63309 non-null  float64\n",
      " 12  avg_price      63309 non-null  float64\n",
      " 13  price_sum      63309 non-null  float64\n",
      " 14  price_min      63309 non-null  float64\n",
      " 15  price_max      63309 non-null  float64\n",
      " 16  desc_avg_len   63309 non-null  float64\n",
      "dtypes: float64(10), int64(2), object(5)\n",
      "memory usage: 8.2+ MB\n"
     ]
    },
    {
     "data": {
      "text/html": [
       "<div>\n",
       "<style scoped>\n",
       "    .dataframe tbody tr th:only-of-type {\n",
       "        vertical-align: middle;\n",
       "    }\n",
       "\n",
       "    .dataframe tbody tr th {\n",
       "        vertical-align: top;\n",
       "    }\n",
       "\n",
       "    .dataframe thead th {\n",
       "        text-align: right;\n",
       "    }\n",
       "</style>\n",
       "<table border=\"1\" class=\"dataframe\">\n",
       "  <thead>\n",
       "    <tr style=\"text-align: right;\">\n",
       "      <th></th>\n",
       "      <th>id</th>\n",
       "      <th>position</th>\n",
       "      <th>name</th>\n",
       "      <th>score</th>\n",
       "      <th>ratings</th>\n",
       "      <th>category</th>\n",
       "      <th>price_range</th>\n",
       "      <th>full_address</th>\n",
       "      <th>zip_code</th>\n",
       "      <th>lat</th>\n",
       "      <th>lng</th>\n",
       "      <th>restaurant_id</th>\n",
       "      <th>avg_price</th>\n",
       "      <th>price_sum</th>\n",
       "      <th>price_min</th>\n",
       "      <th>price_max</th>\n",
       "      <th>desc_avg_len</th>\n",
       "    </tr>\n",
       "  </thead>\n",
       "  <tbody>\n",
       "    <tr>\n",
       "      <th>0</th>\n",
       "      <td>1</td>\n",
       "      <td>19</td>\n",
       "      <td>PJ Fresh (224 Daniel Payne Drive)</td>\n",
       "      <td>NaN</td>\n",
       "      <td>NaN</td>\n",
       "      <td>Burgers, American, Sandwiches</td>\n",
       "      <td>$</td>\n",
       "      <td>224 Daniel Payne Drive, Birmingham, AL, 35207</td>\n",
       "      <td>35207</td>\n",
       "      <td>33.562365</td>\n",
       "      <td>-86.830703</td>\n",
       "      <td>1.0</td>\n",
       "      <td>5.663684</td>\n",
       "      <td>538.05</td>\n",
       "      <td>1.89</td>\n",
       "      <td>16.99</td>\n",
       "      <td>6.915789</td>\n",
       "    </tr>\n",
       "    <tr>\n",
       "      <th>1</th>\n",
       "      <td>2</td>\n",
       "      <td>9</td>\n",
       "      <td>J' ti`'z Smoothie-N-Coffee Bar</td>\n",
       "      <td>NaN</td>\n",
       "      <td>NaN</td>\n",
       "      <td>Coffee and Tea, Breakfast and Brunch, Bubble Tea</td>\n",
       "      <td>NaN</td>\n",
       "      <td>1521 Pinson Valley Parkway, Birmingham, AL, 35217</td>\n",
       "      <td>35217</td>\n",
       "      <td>33.583640</td>\n",
       "      <td>-86.773330</td>\n",
       "      <td>2.0</td>\n",
       "      <td>5.505333</td>\n",
       "      <td>330.32</td>\n",
       "      <td>0.60</td>\n",
       "      <td>8.49</td>\n",
       "      <td>86.250000</td>\n",
       "    </tr>\n",
       "    <tr>\n",
       "      <th>2</th>\n",
       "      <td>3</td>\n",
       "      <td>6</td>\n",
       "      <td>Philly Fresh Cheesesteaks (541-B Graymont Ave)</td>\n",
       "      <td>NaN</td>\n",
       "      <td>NaN</td>\n",
       "      <td>American, Cheesesteak, Sandwiches, Alcohol</td>\n",
       "      <td>$</td>\n",
       "      <td>541-B Graymont Ave, Birmingham, AL, 35204</td>\n",
       "      <td>35204</td>\n",
       "      <td>33.509800</td>\n",
       "      <td>-86.854640</td>\n",
       "      <td>3.0</td>\n",
       "      <td>10.762143</td>\n",
       "      <td>301.34</td>\n",
       "      <td>3.00</td>\n",
       "      <td>16.78</td>\n",
       "      <td>48.678571</td>\n",
       "    </tr>\n",
       "    <tr>\n",
       "      <th>3</th>\n",
       "      <td>4</td>\n",
       "      <td>17</td>\n",
       "      <td>Papa Murphy's (1580 Montgomery Highway)</td>\n",
       "      <td>NaN</td>\n",
       "      <td>NaN</td>\n",
       "      <td>Pizza</td>\n",
       "      <td>$</td>\n",
       "      <td>1580 Montgomery Highway, Hoover, AL, 35226</td>\n",
       "      <td>35226</td>\n",
       "      <td>33.404439</td>\n",
       "      <td>-86.806614</td>\n",
       "      <td>4.0</td>\n",
       "      <td>10.531892</td>\n",
       "      <td>389.68</td>\n",
       "      <td>2.49</td>\n",
       "      <td>16.99</td>\n",
       "      <td>213.513514</td>\n",
       "    </tr>\n",
       "    <tr>\n",
       "      <th>4</th>\n",
       "      <td>5</td>\n",
       "      <td>162</td>\n",
       "      <td>Nelson Brothers Cafe (17th St N)</td>\n",
       "      <td>4.7</td>\n",
       "      <td>22.0</td>\n",
       "      <td>Breakfast and Brunch, Burgers, Sandwiches</td>\n",
       "      <td>NaN</td>\n",
       "      <td>314 17th St N, Birmingham, AL, 35203</td>\n",
       "      <td>35203</td>\n",
       "      <td>33.514730</td>\n",
       "      <td>-86.811700</td>\n",
       "      <td>5.0</td>\n",
       "      <td>4.532576</td>\n",
       "      <td>299.15</td>\n",
       "      <td>1.00</td>\n",
       "      <td>20.00</td>\n",
       "      <td>12.090909</td>\n",
       "    </tr>\n",
       "    <tr>\n",
       "      <th>...</th>\n",
       "      <td>...</td>\n",
       "      <td>...</td>\n",
       "      <td>...</td>\n",
       "      <td>...</td>\n",
       "      <td>...</td>\n",
       "      <td>...</td>\n",
       "      <td>...</td>\n",
       "      <td>...</td>\n",
       "      <td>...</td>\n",
       "      <td>...</td>\n",
       "      <td>...</td>\n",
       "      <td>...</td>\n",
       "      <td>...</td>\n",
       "      <td>...</td>\n",
       "      <td>...</td>\n",
       "      <td>...</td>\n",
       "      <td>...</td>\n",
       "    </tr>\n",
       "    <tr>\n",
       "      <th>63464</th>\n",
       "      <td>63465</td>\n",
       "      <td>2</td>\n",
       "      <td>IHOP (4321 N 10th St)</td>\n",
       "      <td>4.6</td>\n",
       "      <td>56.0</td>\n",
       "      <td>American, Breakfast and Brunch, burger, Comfor...</td>\n",
       "      <td>$</td>\n",
       "      <td>4321 N 10th St, MC ALLEN, TX, 78504</td>\n",
       "      <td>78504</td>\n",
       "      <td>26.242853</td>\n",
       "      <td>-98.223984</td>\n",
       "      <td>63465.0</td>\n",
       "      <td>7.680833</td>\n",
       "      <td>1106.04</td>\n",
       "      <td>0.00</td>\n",
       "      <td>29.99</td>\n",
       "      <td>121.826389</td>\n",
       "    </tr>\n",
       "    <tr>\n",
       "      <th>63465</th>\n",
       "      <td>63466</td>\n",
       "      <td>29</td>\n",
       "      <td>Feldman's - N 10th Street</td>\n",
       "      <td>NaN</td>\n",
       "      <td>NaN</td>\n",
       "      <td>NaN</td>\n",
       "      <td>NaN</td>\n",
       "      <td>3010 N 10th Street, Mc Allen, TX,</td>\n",
       "      <td>NaN</td>\n",
       "      <td>26.230764</td>\n",
       "      <td>-98.224922</td>\n",
       "      <td>63466.0</td>\n",
       "      <td>5.977500</td>\n",
       "      <td>23.91</td>\n",
       "      <td>4.73</td>\n",
       "      <td>9.46</td>\n",
       "      <td>443.750000</td>\n",
       "    </tr>\n",
       "    <tr>\n",
       "      <th>63466</th>\n",
       "      <td>63467</td>\n",
       "      <td>27</td>\n",
       "      <td>Feldman's - N 23rd St</td>\n",
       "      <td>NaN</td>\n",
       "      <td>NaN</td>\n",
       "      <td>NaN</td>\n",
       "      <td>NaN</td>\n",
       "      <td>6101 N 23rd Street #B, Mc Allen, TX,</td>\n",
       "      <td>NaN</td>\n",
       "      <td>26.260353</td>\n",
       "      <td>-98.236755</td>\n",
       "      <td>63467.0</td>\n",
       "      <td>7.625000</td>\n",
       "      <td>30.50</td>\n",
       "      <td>4.73</td>\n",
       "      <td>10.52</td>\n",
       "      <td>344.750000</td>\n",
       "    </tr>\n",
       "    <tr>\n",
       "      <th>63467</th>\n",
       "      <td>63468</td>\n",
       "      <td>19</td>\n",
       "      <td>Church's Chicken (620 S. 10th Street)</td>\n",
       "      <td>4.3</td>\n",
       "      <td>17.0</td>\n",
       "      <td>Fast Food, Family Meals</td>\n",
       "      <td>$</td>\n",
       "      <td>620 S. 10th Street, McAllen, TX, 78501</td>\n",
       "      <td>78501</td>\n",
       "      <td>26.197333</td>\n",
       "      <td>-98.231369</td>\n",
       "      <td>63468.0</td>\n",
       "      <td>14.349130</td>\n",
       "      <td>660.06</td>\n",
       "      <td>0.00</td>\n",
       "      <td>44.99</td>\n",
       "      <td>95.478261</td>\n",
       "    </tr>\n",
       "    <tr>\n",
       "      <th>63468</th>\n",
       "      <td>63469</td>\n",
       "      <td>9</td>\n",
       "      <td>7-Eleven (1600 S 23rd St)</td>\n",
       "      <td>NaN</td>\n",
       "      <td>NaN</td>\n",
       "      <td>Everyday Essentials, Convenience, Home &amp;amp; P...</td>\n",
       "      <td>$</td>\n",
       "      <td>1600 S 23rd St, Mcallen, TX, 78503</td>\n",
       "      <td>78503</td>\n",
       "      <td>26.191710</td>\n",
       "      <td>-98.247880</td>\n",
       "      <td>63469.0</td>\n",
       "      <td>5.006219</td>\n",
       "      <td>1006.25</td>\n",
       "      <td>0.75</td>\n",
       "      <td>27.48</td>\n",
       "      <td>0.378109</td>\n",
       "    </tr>\n",
       "  </tbody>\n",
       "</table>\n",
       "<p>63469 rows × 17 columns</p>\n",
       "</div>"
      ],
      "text/plain": [
       "          id  position                                            name  score  \\\n",
       "0          1        19               PJ Fresh (224 Daniel Payne Drive)    NaN   \n",
       "1          2         9                  J' ti`'z Smoothie-N-Coffee Bar    NaN   \n",
       "2          3         6  Philly Fresh Cheesesteaks (541-B Graymont Ave)    NaN   \n",
       "3          4        17         Papa Murphy's (1580 Montgomery Highway)    NaN   \n",
       "4          5       162                Nelson Brothers Cafe (17th St N)    4.7   \n",
       "...      ...       ...                                             ...    ...   \n",
       "63464  63465         2                           IHOP (4321 N 10th St)    4.6   \n",
       "63465  63466        29                       Feldman's - N 10th Street    NaN   \n",
       "63466  63467        27                           Feldman's - N 23rd St    NaN   \n",
       "63467  63468        19           Church's Chicken (620 S. 10th Street)    4.3   \n",
       "63468  63469         9                       7-Eleven (1600 S 23rd St)    NaN   \n",
       "\n",
       "       ratings                                           category price_range  \\\n",
       "0          NaN                      Burgers, American, Sandwiches           $   \n",
       "1          NaN   Coffee and Tea, Breakfast and Brunch, Bubble Tea         NaN   \n",
       "2          NaN         American, Cheesesteak, Sandwiches, Alcohol           $   \n",
       "3          NaN                                              Pizza           $   \n",
       "4         22.0          Breakfast and Brunch, Burgers, Sandwiches         NaN   \n",
       "...        ...                                                ...         ...   \n",
       "63464     56.0  American, Breakfast and Brunch, burger, Comfor...           $   \n",
       "63465      NaN                                                NaN         NaN   \n",
       "63466      NaN                                                NaN         NaN   \n",
       "63467     17.0                            Fast Food, Family Meals           $   \n",
       "63468      NaN  Everyday Essentials, Convenience, Home &amp; P...           $   \n",
       "\n",
       "                                            full_address zip_code        lat  \\\n",
       "0          224 Daniel Payne Drive, Birmingham, AL, 35207    35207  33.562365   \n",
       "1      1521 Pinson Valley Parkway, Birmingham, AL, 35217    35217  33.583640   \n",
       "2              541-B Graymont Ave, Birmingham, AL, 35204    35204  33.509800   \n",
       "3             1580 Montgomery Highway, Hoover, AL, 35226    35226  33.404439   \n",
       "4                   314 17th St N, Birmingham, AL, 35203    35203  33.514730   \n",
       "...                                                  ...      ...        ...   \n",
       "63464                4321 N 10th St, MC ALLEN, TX, 78504    78504  26.242853   \n",
       "63465                 3010 N 10th Street, Mc Allen, TX,       NaN  26.230764   \n",
       "63466              6101 N 23rd Street #B, Mc Allen, TX,       NaN  26.260353   \n",
       "63467             620 S. 10th Street, McAllen, TX, 78501    78501  26.197333   \n",
       "63468                 1600 S 23rd St, Mcallen, TX, 78503    78503  26.191710   \n",
       "\n",
       "             lng  restaurant_id  avg_price  price_sum  price_min  price_max  \\\n",
       "0     -86.830703            1.0   5.663684     538.05       1.89      16.99   \n",
       "1     -86.773330            2.0   5.505333     330.32       0.60       8.49   \n",
       "2     -86.854640            3.0  10.762143     301.34       3.00      16.78   \n",
       "3     -86.806614            4.0  10.531892     389.68       2.49      16.99   \n",
       "4     -86.811700            5.0   4.532576     299.15       1.00      20.00   \n",
       "...          ...            ...        ...        ...        ...        ...   \n",
       "63464 -98.223984        63465.0   7.680833    1106.04       0.00      29.99   \n",
       "63465 -98.224922        63466.0   5.977500      23.91       4.73       9.46   \n",
       "63466 -98.236755        63467.0   7.625000      30.50       4.73      10.52   \n",
       "63467 -98.231369        63468.0  14.349130     660.06       0.00      44.99   \n",
       "63468 -98.247880        63469.0   5.006219    1006.25       0.75      27.48   \n",
       "\n",
       "       desc_avg_len  \n",
       "0          6.915789  \n",
       "1         86.250000  \n",
       "2         48.678571  \n",
       "3        213.513514  \n",
       "4         12.090909  \n",
       "...             ...  \n",
       "63464    121.826389  \n",
       "63465    443.750000  \n",
       "63466    344.750000  \n",
       "63467     95.478261  \n",
       "63468      0.378109  \n",
       "\n",
       "[63469 rows x 17 columns]"
      ]
     },
     "execution_count": 5,
     "metadata": {},
     "output_type": "execute_result"
    }
   ],
   "source": [
    "merged_df = df_restaurants.merge(df_price_mean_sum, left_on='id', right_on='restaurant_id', how='left')\n",
    "merged_df.info()\n",
    "merged_df"
   ]
  },
  {
   "cell_type": "markdown",
   "id": "77e9543ab82a1df",
   "metadata": {},
   "source": [
    "### Check for missing values for merged_df"
   ]
  },
  {
   "cell_type": "code",
   "execution_count": 6,
   "id": "717382bdc4b56ed4",
   "metadata": {
    "ExecuteTime": {
     "end_time": "2025-04-23T10:59:46.166418Z",
     "start_time": "2025-04-23T10:59:46.152196Z"
    }
   },
   "outputs": [
    {
     "data": {
      "text/plain": [
       "price_max    160\n",
       "price_min    160\n",
       "price_sum    160\n",
       "zip_code     517\n",
       "dtype: int64"
      ]
     },
     "execution_count": 6,
     "metadata": {},
     "output_type": "execute_result"
    }
   ],
   "source": [
    "merged_df[['price_max', 'price_min', 'price_sum', 'zip_code']].isna().sum()"
   ]
  },
  {
   "cell_type": "markdown",
   "id": "e53033932f3cb20a",
   "metadata": {},
   "source": [
    "### there are 160 record missing for price_max, price_min and price_sum out of 63,469\n",
    "### so it won't make problem if remove 160 records"
   ]
  },
  {
   "cell_type": "code",
   "execution_count": 7,
   "id": "519e35e574ad9a24",
   "metadata": {
    "ExecuteTime": {
     "end_time": "2025-04-23T10:59:46.445012Z",
     "start_time": "2025-04-23T10:59:46.403144Z"
    }
   },
   "outputs": [
    {
     "name": "stdout",
     "output_type": "stream",
     "text": [
      "<class 'pandas.core.frame.DataFrame'>\n",
      "Index: 62792 entries, 0 to 63468\n",
      "Data columns (total 17 columns):\n",
      " #   Column         Non-Null Count  Dtype  \n",
      "---  ------         --------------  -----  \n",
      " 0   id             62792 non-null  int64  \n",
      " 1   position       62792 non-null  int64  \n",
      " 2   name           62792 non-null  object \n",
      " 3   score          35018 non-null  float64\n",
      " 4   ratings        35018 non-null  float64\n",
      " 5   category       62770 non-null  object \n",
      " 6   price_range    52426 non-null  object \n",
      " 7   full_address   62792 non-null  object \n",
      " 8   zip_code       62792 non-null  object \n",
      " 9   lat            62792 non-null  float64\n",
      " 10  lng            62792 non-null  float64\n",
      " 11  restaurant_id  62792 non-null  float64\n",
      " 12  avg_price      62792 non-null  float64\n",
      " 13  price_sum      62792 non-null  float64\n",
      " 14  price_min      62792 non-null  float64\n",
      " 15  price_max      62792 non-null  float64\n",
      " 16  desc_avg_len   62792 non-null  float64\n",
      "dtypes: float64(10), int64(2), object(5)\n",
      "memory usage: 8.6+ MB\n"
     ]
    }
   ],
   "source": [
    "merged_df.dropna(subset=['price_max', 'price_min', 'price_sum', 'zip_code'], inplace=True)\n",
    "merged_df.info()"
   ]
  },
  {
   "cell_type": "markdown",
   "id": "e205f6e3091a7460",
   "metadata": {},
   "source": [
    "## get data frame without price range with null values to calculate max and min price for each category"
   ]
  },
  {
   "cell_type": "code",
   "execution_count": 8,
   "id": "692742837402a63a",
   "metadata": {
    "ExecuteTime": {
     "end_time": "2025-04-23T10:59:46.624231Z",
     "start_time": "2025-04-23T10:59:46.597470Z"
    }
   },
   "outputs": [
    {
     "data": {
      "text/html": [
       "<div>\n",
       "<style scoped>\n",
       "    .dataframe tbody tr th:only-of-type {\n",
       "        vertical-align: middle;\n",
       "    }\n",
       "\n",
       "    .dataframe tbody tr th {\n",
       "        vertical-align: top;\n",
       "    }\n",
       "\n",
       "    .dataframe thead th {\n",
       "        text-align: right;\n",
       "    }\n",
       "</style>\n",
       "<table border=\"1\" class=\"dataframe\">\n",
       "  <thead>\n",
       "    <tr style=\"text-align: right;\">\n",
       "      <th></th>\n",
       "      <th>price_range</th>\n",
       "      <th>price_max</th>\n",
       "      <th>price_min</th>\n",
       "    </tr>\n",
       "  </thead>\n",
       "  <tbody>\n",
       "    <tr>\n",
       "      <th>0</th>\n",
       "      <td>$</td>\n",
       "      <td>34.352069</td>\n",
       "      <td>1.547300</td>\n",
       "    </tr>\n",
       "    <tr>\n",
       "      <th>1</th>\n",
       "      <td>$$</td>\n",
       "      <td>35.316274</td>\n",
       "      <td>2.434294</td>\n",
       "    </tr>\n",
       "    <tr>\n",
       "      <th>2</th>\n",
       "      <td>$$$</td>\n",
       "      <td>60.360901</td>\n",
       "      <td>3.352532</td>\n",
       "    </tr>\n",
       "    <tr>\n",
       "      <th>3</th>\n",
       "      <td>$$$$</td>\n",
       "      <td>95.721200</td>\n",
       "      <td>6.206400</td>\n",
       "    </tr>\n",
       "    <tr>\n",
       "      <th>4</th>\n",
       "      <td>$$$$$$$$$$$$$$$$$</td>\n",
       "      <td>5.490000</td>\n",
       "      <td>0.000000</td>\n",
       "    </tr>\n",
       "  </tbody>\n",
       "</table>\n",
       "</div>"
      ],
      "text/plain": [
       "         price_range  price_max  price_min\n",
       "0                  $  34.352069   1.547300\n",
       "1                 $$  35.316274   2.434294\n",
       "2                $$$  60.360901   3.352532\n",
       "3               $$$$  95.721200   6.206400\n",
       "4  $$$$$$$$$$$$$$$$$   5.490000   0.000000"
      ]
     },
     "execution_count": 8,
     "metadata": {},
     "output_type": "execute_result"
    }
   ],
   "source": [
    "price_range_analysis = merged_df.dropna(subset=['price_range'])\n",
    "price_range_analysis = price_range_analysis.groupby('price_range')[['price_max', 'price_min']].mean().reset_index()\n",
    "price_range_analysis\n"
   ]
  },
  {
   "cell_type": "markdown",
   "id": "4a4cfd771bd1df4b",
   "metadata": {},
   "source": [
    "#### Removing `$$$$$$$$$$$$$$$$$` value has only one record\n"
   ]
  },
  {
   "cell_type": "code",
   "execution_count": 9,
   "id": "324cd6a60c658c2b",
   "metadata": {
    "ExecuteTime": {
     "end_time": "2025-04-23T10:59:46.771194Z",
     "start_time": "2025-04-23T10:59:46.745124Z"
    }
   },
   "outputs": [
    {
     "data": {
      "text/html": [
       "<div>\n",
       "<style scoped>\n",
       "    .dataframe tbody tr th:only-of-type {\n",
       "        vertical-align: middle;\n",
       "    }\n",
       "\n",
       "    .dataframe tbody tr th {\n",
       "        vertical-align: top;\n",
       "    }\n",
       "\n",
       "    .dataframe thead th {\n",
       "        text-align: right;\n",
       "    }\n",
       "</style>\n",
       "<table border=\"1\" class=\"dataframe\">\n",
       "  <thead>\n",
       "    <tr style=\"text-align: right;\">\n",
       "      <th></th>\n",
       "      <th>price_range</th>\n",
       "      <th>price_max</th>\n",
       "      <th>price_min</th>\n",
       "    </tr>\n",
       "  </thead>\n",
       "  <tbody>\n",
       "    <tr>\n",
       "      <th>0</th>\n",
       "      <td>$</td>\n",
       "      <td>34.352069</td>\n",
       "      <td>1.547300</td>\n",
       "    </tr>\n",
       "    <tr>\n",
       "      <th>1</th>\n",
       "      <td>$$</td>\n",
       "      <td>35.316274</td>\n",
       "      <td>2.434294</td>\n",
       "    </tr>\n",
       "    <tr>\n",
       "      <th>2</th>\n",
       "      <td>$$$</td>\n",
       "      <td>60.360901</td>\n",
       "      <td>3.352532</td>\n",
       "    </tr>\n",
       "    <tr>\n",
       "      <th>3</th>\n",
       "      <td>$$$$</td>\n",
       "      <td>95.721200</td>\n",
       "      <td>6.206400</td>\n",
       "    </tr>\n",
       "  </tbody>\n",
       "</table>\n",
       "</div>"
      ],
      "text/plain": [
       "  price_range  price_max  price_min\n",
       "0           $  34.352069   1.547300\n",
       "1          $$  35.316274   2.434294\n",
       "2         $$$  60.360901   3.352532\n",
       "3        $$$$  95.721200   6.206400"
      ]
     },
     "execution_count": 9,
     "metadata": {},
     "output_type": "execute_result"
    }
   ],
   "source": [
    "price_range_analysis = price_range_analysis[price_range_analysis['price_range'] != '$$$$$$$$$$$$$$$$$']\n",
    "merged_df = merged_df[merged_df['price_range'] != '$$$$$$$$$$$$$$$$$']\n",
    "price_range_analysis\n"
   ]
  },
  {
   "cell_type": "markdown",
   "id": "8085da71999c2a31",
   "metadata": {},
   "source": [
    "### price range visualization\n",
    "#### price range per max price"
   ]
  },
  {
   "cell_type": "code",
   "execution_count": 10,
   "id": "d84f395e250d4f34",
   "metadata": {
    "ExecuteTime": {
     "end_time": "2025-04-23T10:59:47.110804Z",
     "start_time": "2025-04-23T10:59:46.980561Z"
    }
   },
   "outputs": [
    {
     "data": {
      "text/plain": [
       "Text(0, 0.5, 'Max Price')"
      ]
     },
     "execution_count": 10,
     "metadata": {},
     "output_type": "execute_result"
    },
    {
     "data": {
      "image/png": "[encoded data removed]",
      "text/plain": [
       "<Figure size 640x480 with 1 Axes>"
      ]
     },
     "metadata": {},
     "output_type": "display_data"
    }
   ],
   "source": [
    "plt.bar(price_range_analysis['price_range'].str.replace('$', r'\\$', regex=False), price_range_analysis['price_max'])\n",
    "plt.xlabel(\"Price Range\")\n",
    "plt.ylabel(\"Max Price\")"
   ]
  },
  {
   "cell_type": "markdown",
   "id": "5c250446296c15b1",
   "metadata": {},
   "source": [
    "#### price range per min price"
   ]
  },
  {
   "cell_type": "code",
   "execution_count": 11,
   "id": "fad9bf68ddfcfe67",
   "metadata": {
    "ExecuteTime": {
     "end_time": "2025-04-23T10:59:47.392721Z",
     "start_time": "2025-04-23T10:59:47.251660Z"
    }
   },
   "outputs": [
    {
     "data": {
      "text/plain": [
       "Text(0, 0.5, 'Min Price')"
      ]
     },
     "execution_count": 11,
     "metadata": {},
     "output_type": "execute_result"
    },
    {
     "data": {
      "image/png": "[encoded data removed]",
      "text/plain": [
       "<Figure size 640x480 with 1 Axes>"
      ]
     },
     "metadata": {},
     "output_type": "display_data"
    }
   ],
   "source": [
    "plt.bar(price_range_analysis['price_range'].str.replace('$', r'\\$', regex=False), price_range_analysis['price_min'])\n",
    "plt.xlabel(\"Price Range\")\n",
    "plt.ylabel(\"Min Price\")"
   ]
  },
  {
   "cell_type": "markdown",
   "id": "8e83ee58d4f4b7d",
   "metadata": {},
   "source": [
    "## fill missing values for price range using min and max price that we got from previous step"
   ]
  },
  {
   "cell_type": "code",
   "execution_count": 12,
   "id": "4583c0781ab9e796",
   "metadata": {
    "ExecuteTime": {
     "end_time": "2025-04-23T10:59:47.653674Z",
     "start_time": "2025-04-23T10:59:47.486549Z"
    }
   },
   "outputs": [
    {
     "name": "stdout",
     "output_type": "stream",
     "text": [
      "<class 'pandas.core.frame.DataFrame'>\n",
      "Index: 62791 entries, 0 to 63468\n",
      "Data columns (total 17 columns):\n",
      " #   Column         Non-Null Count  Dtype  \n",
      "---  ------         --------------  -----  \n",
      " 0   id             62791 non-null  int64  \n",
      " 1   position       62791 non-null  int64  \n",
      " 2   name           62791 non-null  object \n",
      " 3   score          35018 non-null  float64\n",
      " 4   ratings        35018 non-null  float64\n",
      " 5   category       62769 non-null  object \n",
      " 6   price_range    62791 non-null  object \n",
      " 7   full_address   62791 non-null  object \n",
      " 8   zip_code       62791 non-null  object \n",
      " 9   lat            62791 non-null  float64\n",
      " 10  lng            62791 non-null  float64\n",
      " 11  restaurant_id  62791 non-null  float64\n",
      " 12  avg_price      62791 non-null  float64\n",
      " 13  price_sum      62791 non-null  float64\n",
      " 14  price_min      62791 non-null  float64\n",
      " 15  price_max      62791 non-null  float64\n",
      " 16  desc_avg_len   62791 non-null  float64\n",
      "dtypes: float64(10), int64(2), object(5)\n",
      "memory usage: 8.6+ MB\n"
     ]
    }
   ],
   "source": [
    "def get_price_range(mn, mx):\n",
    "    if mx <= 34.352069 and mn >= 0:\n",
    "        return '$'\n",
    "    elif mx <= 35.316274 and mn >= 2.434294:\n",
    "        return '$$'\n",
    "    elif mx <= 60.360901 and mn >= 3.352532:\n",
    "        return '$$$'\n",
    "    else:\n",
    "        return '$$$$'\n",
    "\n",
    "\n",
    "merged_df.loc[merged_df['price_range'].isna(), 'price_range'] = \\\n",
    "    merged_df[merged_df['price_range'].isna()].apply(lambda row: get_price_range(row['price_min'], row['price_max']),\n",
    "                                                     axis=1)\n",
    "merged_df.info()\n"
   ]
  },
  {
   "cell_type": "markdown",
   "id": "fd6fa6e8ae3d727f",
   "metadata": {},
   "source": [
    "# **Encode `price_range` to numeric values**\n",
    "**Encode price_range to Numeric Values**\n",
    "We'll map the price ranges as follows:\n",
    "`$` → 1\n",
    "- `$$` → 2\n",
    "- `$$$` → 3\n",
    "- `$$$$` → 4\n"
   ]
  },
  {
   "cell_type": "code",
   "execution_count": 13,
   "id": "e29ed5b4981f5252",
   "metadata": {
    "ExecuteTime": {
     "end_time": "2025-04-23T10:59:47.722259Z",
     "start_time": "2025-04-23T10:59:47.707937Z"
    }
   },
   "outputs": [
    {
     "name": "stderr",
     "output_type": "stream",
     "text": [
      "C:\\Users\\youse\\AppData\\Local\\Temp\\ipykernel_18484\\2092938874.py:2: SettingWithCopyWarning: \n",
      "A value is trying to be set on a copy of a slice from a DataFrame.\n",
      "Try using .loc[row_indexer,col_indexer] = value instead\n",
      "\n",
      "See the caveats in the documentation: https://pandas.pydata.org/pandas-docs/stable/user_guide/indexing.html#returning-a-view-versus-a-copy\n",
      "  merged_df['price_range'] = merged_df['price_range'].map(price_mapping)\n"
     ]
    },
    {
     "data": {
      "text/plain": [
       "0        1\n",
       "1        1\n",
       "2        1\n",
       "3        1\n",
       "4        1\n",
       "        ..\n",
       "63462    2\n",
       "63463    2\n",
       "63464    1\n",
       "63467    1\n",
       "63468    1\n",
       "Name: price_range, Length: 62791, dtype: int64"
      ]
     },
     "execution_count": 13,
     "metadata": {},
     "output_type": "execute_result"
    }
   ],
   "source": [
    "price_mapping = {'$': 1, '$$': 2, '$$$': 3, '$$$$': 4}\n",
    "merged_df['price_range'] = merged_df['price_range'].map(price_mapping)\n",
    "merged_df['price_range']"
   ]
  },
  {
   "cell_type": "markdown",
   "id": "139764f452d6f6d9",
   "metadata": {},
   "source": [
    "# Remove Duplicate Entries\n",
    "We'll remove duplicate rows based on all columns:\n"
   ]
  },
  {
   "cell_type": "code",
   "execution_count": 14,
   "id": "343108b09973bf80",
   "metadata": {
    "ExecuteTime": {
     "end_time": "2025-04-23T10:59:47.934994Z",
     "start_time": "2025-04-23T10:59:47.805276Z"
    }
   },
   "outputs": [
    {
     "name": "stdout",
     "output_type": "stream",
     "text": [
      "<class 'pandas.core.frame.DataFrame'>\n",
      "Index: 62791 entries, 0 to 63468\n",
      "Data columns (total 17 columns):\n",
      " #   Column         Non-Null Count  Dtype  \n",
      "---  ------         --------------  -----  \n",
      " 0   id             62791 non-null  int64  \n",
      " 1   position       62791 non-null  int64  \n",
      " 2   name           62791 non-null  object \n",
      " 3   score          35018 non-null  float64\n",
      " 4   ratings        35018 non-null  float64\n",
      " 5   category       62769 non-null  object \n",
      " 6   price_range    62791 non-null  int64  \n",
      " 7   full_address   62791 non-null  object \n",
      " 8   zip_code       62791 non-null  object \n",
      " 9   lat            62791 non-null  float64\n",
      " 10  lng            62791 non-null  float64\n",
      " 11  restaurant_id  62791 non-null  float64\n",
      " 12  avg_price      62791 non-null  float64\n",
      " 13  price_sum      62791 non-null  float64\n",
      " 14  price_min      62791 non-null  float64\n",
      " 15  price_max      62791 non-null  float64\n",
      " 16  desc_avg_len   62791 non-null  float64\n",
      "dtypes: float64(10), int64(3), object(4)\n",
      "memory usage: 8.6+ MB\n"
     ]
    }
   ],
   "source": [
    "merged_df.drop_duplicates()\n",
    "merged_df.info()"
   ]
  },
  {
   "cell_type": "markdown",
   "id": "c1155e3caa07c30b",
   "metadata": {},
   "source": [
    "# Standardizing zip code\n",
    "converting zip_code that looks like `12346-111` to `12346`"
   ]
  },
  {
   "cell_type": "code",
   "execution_count": 15,
   "id": "256fb13d49f941d1",
   "metadata": {
    "ExecuteTime": {
     "end_time": "2025-04-23T10:59:48.024174Z",
     "start_time": "2025-04-23T10:59:48.004327Z"
    }
   },
   "outputs": [
    {
     "name": "stderr",
     "output_type": "stream",
     "text": [
      "C:\\Users\\youse\\AppData\\Local\\Temp\\ipykernel_18484\\2987261870.py:1: SettingWithCopyWarning: \n",
      "A value is trying to be set on a copy of a slice from a DataFrame.\n",
      "Try using .loc[row_indexer,col_indexer] = value instead\n",
      "\n",
      "See the caveats in the documentation: https://pandas.pydata.org/pandas-docs/stable/user_guide/indexing.html#returning-a-view-versus-a-copy\n",
      "  merged_df['zip_code'] = merged_df['zip_code'].apply(lambda x: str(x).split('-')[0])\n"
     ]
    }
   ],
   "source": [
    "merged_df['zip_code'] = merged_df['zip_code'].apply(lambda x: str(x).split('-')[0])\n"
   ]
  },
  {
   "cell_type": "markdown",
   "id": "24b7f60beeff2dee",
   "metadata": {},
   "source": [
    "### save the processed data in `data/processed/processed_restaurants.csv`"
   ]
  },
  {
   "cell_type": "code",
   "execution_count": 16,
   "id": "8f655737af6ae9a9",
   "metadata": {
    "ExecuteTime": {
     "end_time": "2025-04-23T10:59:48.721677Z",
     "start_time": "2025-04-23T10:59:48.088918Z"
    }
   },
   "outputs": [],
   "source": [
    "merged_df.to_csv('data/processed/processed_restaurants.csv', index=False)"
   ]
  },
  {
   "cell_type": "markdown",
   "id": "6202aba7649c2f84",
   "metadata": {},
   "source": [
    "## Outlier Detection on AVG_PRICE after Processing"
   ]
  },
  {
   "cell_type": "markdown",
   "id": "9b89aec72d84a50d",
   "metadata": {},
   "source": [
    "# First we import required libs and processed dataset\n",
    "Reprocessing-yousef"
   ]
  },
  {
   "cell_type": "code",
   "execution_count": 17,
   "id": "550f3ffecece528c",
   "metadata": {
    "ExecuteTime": {
     "end_time": "2025-04-23T10:59:48.994085Z",
     "start_time": "2025-04-23T10:59:48.758666Z"
    }
   },
   "outputs": [],
   "source": [
    "import pandas as pd\n",
    "import numpy as np\n",
    "import matplotlib.pyplot as plt\n",
    "import seaborn as sns\n",
    "\n",
    "df_restaurants = pd.read_csv('data/processed/processed_restaurants.csv')"
   ]
  },
  {
   "cell_type": "markdown",
   "id": "4330a67367c86006",
   "metadata": {},
   "source": [
    "# Visualize the Distribution"
   ]
  },
  {
   "cell_type": "code",
   "execution_count": 18,
   "id": "141c4417e3380f9b",
   "metadata": {
    "ExecuteTime": {
     "end_time": "2025-04-23T10:59:49.045226Z",
     "start_time": "2025-04-23T10:59:49.031812Z"
    }
   },
   "outputs": [
    {
     "data": {
      "text/html": [
       "<div>\n",
       "<style scoped>\n",
       "    .dataframe tbody tr th:only-of-type {\n",
       "        vertical-align: middle;\n",
       "    }\n",
       "\n",
       "    .dataframe tbody tr th {\n",
       "        vertical-align: top;\n",
       "    }\n",
       "\n",
       "    .dataframe thead th {\n",
       "        text-align: right;\n",
       "    }\n",
       "</style>\n",
       "<table border=\"1\" class=\"dataframe\">\n",
       "  <thead>\n",
       "    <tr style=\"text-align: right;\">\n",
       "      <th></th>\n",
       "      <th>name</th>\n",
       "      <th>avg_price</th>\n",
       "      <th>price_range</th>\n",
       "    </tr>\n",
       "  </thead>\n",
       "  <tbody>\n",
       "    <tr>\n",
       "      <th>0</th>\n",
       "      <td>PJ Fresh (224 Daniel Payne Drive)</td>\n",
       "      <td>5.663684</td>\n",
       "      <td>1</td>\n",
       "    </tr>\n",
       "    <tr>\n",
       "      <th>1</th>\n",
       "      <td>J' ti`'z Smoothie-N-Coffee Bar</td>\n",
       "      <td>5.505333</td>\n",
       "      <td>1</td>\n",
       "    </tr>\n",
       "    <tr>\n",
       "      <th>2</th>\n",
       "      <td>Philly Fresh Cheesesteaks (541-B Graymont Ave)</td>\n",
       "      <td>10.762143</td>\n",
       "      <td>1</td>\n",
       "    </tr>\n",
       "    <tr>\n",
       "      <th>3</th>\n",
       "      <td>Papa Murphy's (1580 Montgomery Highway)</td>\n",
       "      <td>10.531892</td>\n",
       "      <td>1</td>\n",
       "    </tr>\n",
       "    <tr>\n",
       "      <th>4</th>\n",
       "      <td>Nelson Brothers Cafe (17th St N)</td>\n",
       "      <td>4.532576</td>\n",
       "      <td>1</td>\n",
       "    </tr>\n",
       "    <tr>\n",
       "      <th>...</th>\n",
       "      <td>...</td>\n",
       "      <td>...</td>\n",
       "      <td>...</td>\n",
       "    </tr>\n",
       "    <tr>\n",
       "      <th>62786</th>\n",
       "      <td>Whataburger (4017 N 23rd St)</td>\n",
       "      <td>7.107419</td>\n",
       "      <td>2</td>\n",
       "    </tr>\n",
       "    <tr>\n",
       "      <th>62787</th>\n",
       "      <td>Dairy Chopos Mcallen</td>\n",
       "      <td>6.040541</td>\n",
       "      <td>2</td>\n",
       "    </tr>\n",
       "    <tr>\n",
       "      <th>62788</th>\n",
       "      <td>IHOP (4321 N 10th St)</td>\n",
       "      <td>7.680833</td>\n",
       "      <td>1</td>\n",
       "    </tr>\n",
       "    <tr>\n",
       "      <th>62789</th>\n",
       "      <td>Church's Chicken (620 S. 10th Street)</td>\n",
       "      <td>14.349130</td>\n",
       "      <td>1</td>\n",
       "    </tr>\n",
       "    <tr>\n",
       "      <th>62790</th>\n",
       "      <td>7-Eleven (1600 S 23rd St)</td>\n",
       "      <td>5.006219</td>\n",
       "      <td>1</td>\n",
       "    </tr>\n",
       "  </tbody>\n",
       "</table>\n",
       "<p>62791 rows × 3 columns</p>\n",
       "</div>"
      ],
      "text/plain": [
       "                                                 name  avg_price  price_range\n",
       "0                   PJ Fresh (224 Daniel Payne Drive)   5.663684            1\n",
       "1                      J' ti`'z Smoothie-N-Coffee Bar   5.505333            1\n",
       "2      Philly Fresh Cheesesteaks (541-B Graymont Ave)  10.762143            1\n",
       "3             Papa Murphy's (1580 Montgomery Highway)  10.531892            1\n",
       "4                    Nelson Brothers Cafe (17th St N)   4.532576            1\n",
       "...                                               ...        ...          ...\n",
       "62786                    Whataburger (4017 N 23rd St)   7.107419            2\n",
       "62787                            Dairy Chopos Mcallen   6.040541            2\n",
       "62788                           IHOP (4321 N 10th St)   7.680833            1\n",
       "62789           Church's Chicken (620 S. 10th Street)  14.349130            1\n",
       "62790                       7-Eleven (1600 S 23rd St)   5.006219            1\n",
       "\n",
       "[62791 rows x 3 columns]"
      ]
     },
     "execution_count": 18,
     "metadata": {},
     "output_type": "execute_result"
    }
   ],
   "source": [
    "df_restaurants[['name', 'avg_price', 'price_range']]"
   ]
  },
  {
   "cell_type": "code",
   "execution_count": 19,
   "id": "1b974ccff80214cf",
   "metadata": {
    "ExecuteTime": {
     "end_time": "2025-04-23T10:59:49.679872Z",
     "start_time": "2025-04-23T10:59:49.119103Z"
    }
   },
   "outputs": [
    {
     "data": {
      "image/png": "[encoded data removed]",
      "text/plain": [
       "<Figure size 1000x500 with 1 Axes>"
      ]
     },
     "metadata": {},
     "output_type": "display_data"
    }
   ],
   "source": [
    "plt.figure(figsize=(10, 5))\n",
    "sns.histplot(df_restaurants['avg_price'], bins=50, kde=True)\n",
    "plt.title('Distribution of Average Menu Prices')\n",
    "plt.xlabel('Average Price')\n",
    "plt.ylabel('Frequency')\n",
    "plt.show()"
   ]
  },
  {
   "cell_type": "markdown",
   "id": "c0d773428e72c40",
   "metadata": {},
   "source": [
    "# Now we calculate the IQR and Detect outliers"
   ]
  },
  {
   "cell_type": "code",
   "execution_count": 20,
   "id": "1e2ac26b45721f4a",
   "metadata": {
    "ExecuteTime": {
     "end_time": "2025-04-23T10:59:49.759095Z",
     "start_time": "2025-04-23T10:59:49.749893Z"
    }
   },
   "outputs": [
    {
     "name": "stdout",
     "output_type": "stream",
     "text": [
      "Lower Bound: 0\n",
      "Upper Bound: 20.61022100689242\n"
     ]
    }
   ],
   "source": [
    "# IQR\n",
    "Q1 = df_restaurants['avg_price'].quantile(0.25)\n",
    "Q3 = df_restaurants['avg_price'].quantile(0.75)\n",
    "IQR = Q3 - Q1\n",
    "\n",
    "# upper and lowerbounds\n",
    "# The lower bound will calculate to negative value, so we set it to 0 to avoid negative prices.\n",
    "lower_bound = max(0, Q1 - 1.5 * IQR)  # using max to avoid negative lower bound\n",
    "upper_bound = Q3 + 1.5 * IQR\n",
    "\n",
    "print(f\"Lower Bound: {lower_bound}\")\n",
    "print(f\"Upper Bound: {upper_bound}\")\n"
   ]
  },
  {
   "cell_type": "markdown",
   "id": "ff1717f971319b1a",
   "metadata": {},
   "source": [
    "# Now to filter out the outliers and plot them"
   ]
  },
  {
   "cell_type": "code",
   "execution_count": 21,
   "id": "94cc39bf58138e57",
   "metadata": {
    "ExecuteTime": {
     "end_time": "2025-04-23T10:59:49.844344Z",
     "start_time": "2025-04-23T10:59:49.828348Z"
    }
   },
   "outputs": [
    {
     "name": "stdout",
     "output_type": "stream",
     "text": [
      "Number of outliers: 2195\n"
     ]
    },
    {
     "data": {
      "text/html": [
       "<div>\n",
       "<style scoped>\n",
       "    .dataframe tbody tr th:only-of-type {\n",
       "        vertical-align: middle;\n",
       "    }\n",
       "\n",
       "    .dataframe tbody tr th {\n",
       "        vertical-align: top;\n",
       "    }\n",
       "\n",
       "    .dataframe thead th {\n",
       "        text-align: right;\n",
       "    }\n",
       "</style>\n",
       "<table border=\"1\" class=\"dataframe\">\n",
       "  <thead>\n",
       "    <tr style=\"text-align: right;\">\n",
       "      <th></th>\n",
       "      <th>name</th>\n",
       "      <th>avg_price</th>\n",
       "      <th>price_range</th>\n",
       "    </tr>\n",
       "  </thead>\n",
       "  <tbody>\n",
       "    <tr>\n",
       "      <th>5</th>\n",
       "      <td>Ocean Restaurant</td>\n",
       "      <td>28.750000</td>\n",
       "      <td>2</td>\n",
       "    </tr>\n",
       "    <tr>\n",
       "      <th>126</th>\n",
       "      <td>Michael's Steaks &amp;amp; Seafood</td>\n",
       "      <td>21.292903</td>\n",
       "      <td>2</td>\n",
       "    </tr>\n",
       "    <tr>\n",
       "      <th>128</th>\n",
       "      <td>Ruth's Chris Steak House Brimingham (2300 Wood...</td>\n",
       "      <td>30.562500</td>\n",
       "      <td>1</td>\n",
       "    </tr>\n",
       "    <tr>\n",
       "      <th>257</th>\n",
       "      <td>Emily's Heirloom Pound Cakes</td>\n",
       "      <td>34.000000</td>\n",
       "      <td>3</td>\n",
       "    </tr>\n",
       "    <tr>\n",
       "      <th>418</th>\n",
       "      <td>K and Js Elegant Pastries</td>\n",
       "      <td>31.604167</td>\n",
       "      <td>2</td>\n",
       "    </tr>\n",
       "    <tr>\n",
       "      <th>...</th>\n",
       "      <td>...</td>\n",
       "      <td>...</td>\n",
       "      <td>...</td>\n",
       "    </tr>\n",
       "    <tr>\n",
       "      <th>62630</th>\n",
       "      <td>El Tiempo Cantina - 290</td>\n",
       "      <td>24.468571</td>\n",
       "      <td>1</td>\n",
       "    </tr>\n",
       "    <tr>\n",
       "      <th>62722</th>\n",
       "      <td>Okada Japanese Steakhouse</td>\n",
       "      <td>23.922727</td>\n",
       "      <td>2</td>\n",
       "    </tr>\n",
       "    <tr>\n",
       "      <th>62727</th>\n",
       "      <td>old - III Forks (17776 Dallas Parkway)</td>\n",
       "      <td>35.227273</td>\n",
       "      <td>2</td>\n",
       "    </tr>\n",
       "    <tr>\n",
       "      <th>62775</th>\n",
       "      <td>Carlo's Bake Shop</td>\n",
       "      <td>20.740244</td>\n",
       "      <td>2</td>\n",
       "    </tr>\n",
       "    <tr>\n",
       "      <th>62783</th>\n",
       "      <td>PRIME Steak &amp;amp; Seafood</td>\n",
       "      <td>32.932203</td>\n",
       "      <td>2</td>\n",
       "    </tr>\n",
       "  </tbody>\n",
       "</table>\n",
       "<p>2195 rows × 3 columns</p>\n",
       "</div>"
      ],
      "text/plain": [
       "                                                    name  avg_price  \\\n",
       "5                                       Ocean Restaurant  28.750000   \n",
       "126                       Michael's Steaks &amp; Seafood  21.292903   \n",
       "128    Ruth's Chris Steak House Brimingham (2300 Wood...  30.562500   \n",
       "257                        Emily's Heirloom Pound Cakes   34.000000   \n",
       "418                            K and Js Elegant Pastries  31.604167   \n",
       "...                                                  ...        ...   \n",
       "62630                            El Tiempo Cantina - 290  24.468571   \n",
       "62722                          Okada Japanese Steakhouse  23.922727   \n",
       "62727             old - III Forks (17776 Dallas Parkway)  35.227273   \n",
       "62775                                  Carlo's Bake Shop  20.740244   \n",
       "62783                          PRIME Steak &amp; Seafood  32.932203   \n",
       "\n",
       "       price_range  \n",
       "5                2  \n",
       "126              2  \n",
       "128              1  \n",
       "257              3  \n",
       "418              2  \n",
       "...            ...  \n",
       "62630            1  \n",
       "62722            2  \n",
       "62727            2  \n",
       "62775            2  \n",
       "62783            2  \n",
       "\n",
       "[2195 rows x 3 columns]"
      ]
     },
     "execution_count": 21,
     "metadata": {},
     "output_type": "execute_result"
    }
   ],
   "source": [
    "outliers = df_restaurants[\n",
    "    (df_restaurants['avg_price'] < lower_bound) |\n",
    "    (df_restaurants['avg_price'] > upper_bound)\n",
    "    ]\n",
    "\n",
    "print(f\"Number of outliers: {len(outliers)}\")\n",
    "outliers[['name', 'avg_price', 'price_range']]\n",
    "\n",
    "\n"
   ]
  },
  {
   "cell_type": "code",
   "execution_count": 22,
   "id": "72f03be2b3ee8fb4",
   "metadata": {
    "ExecuteTime": {
     "end_time": "2025-04-23T10:59:50.263705Z",
     "start_time": "2025-04-23T10:59:50.059009Z"
    }
   },
   "outputs": [
    {
     "data": {
      "image/png": "[encoded data removed]",
      "text/plain": [
       "<Figure size 800x400 with 1 Axes>"
      ]
     },
     "metadata": {},
     "output_type": "display_data"
    }
   ],
   "source": [
    "plt.figure(figsize=(8, 4))\n",
    "sns.boxplot(x=df_restaurants['avg_price'])\n",
    "plt.title('Boxplot of Average Menu Prices')\n",
    "plt.xlabel('Average Price')\n",
    "plt.show()\n"
   ]
  },
  {
   "cell_type": "markdown",
   "id": "f54b957dd42f5eba",
   "metadata": {},
   "source": [
    "# Create a version without outliers and show"
   ]
  },
  {
   "cell_type": "code",
   "execution_count": 23,
   "id": "49ffdedb62c6b83f",
   "metadata": {
    "ExecuteTime": {
     "end_time": "2025-04-23T10:59:50.324686Z",
     "start_time": "2025-04-23T10:59:50.300602Z"
    }
   },
   "outputs": [
    {
     "name": "stdout",
     "output_type": "stream",
     "text": [
      "Original dataset size: 62791\n",
      "Cleaned dataset size: 60053\n",
      "Number of removed outliers: 2738\n"
     ]
    },
    {
     "data": {
      "text/plain": [
       "count    60053.000000\n",
       "mean         9.216469\n",
       "std          3.797151\n",
       "min          0.015315\n",
       "25%          6.367612\n",
       "50%          8.882353\n",
       "75%         11.699352\n",
       "max         20.606462\n",
       "Name: avg_price, dtype: float64"
      ]
     },
     "execution_count": 23,
     "metadata": {},
     "output_type": "execute_result"
    }
   ],
   "source": [
    "df_no_outliers = df_restaurants[\n",
    "    (df_restaurants['avg_price'] > lower_bound) &\n",
    "    (df_restaurants['avg_price'] <= upper_bound)\n",
    "    ]\n",
    "\n",
    "print(f\"Original dataset size: {df_restaurants.shape[0]}\")\n",
    "print(f\"Cleaned dataset size: {df_no_outliers.shape[0]}\")\n",
    "print(f\"Number of removed outliers: {df_restaurants.shape[0] - df_no_outliers.shape[0]}\")\n",
    "\n",
    "df_no_outliers['avg_price'].describe()  #5 number summary\n"
   ]
  },
  {
   "cell_type": "markdown",
   "id": "9efd3483f680c8f3",
   "metadata": {},
   "source": [
    "## box plot after removing outlier"
   ]
  },
  {
   "cell_type": "code",
   "execution_count": 24,
   "id": "52970184d20b7a25",
   "metadata": {
    "ExecuteTime": {
     "end_time": "2025-04-23T10:59:50.681235Z",
     "start_time": "2025-04-23T10:59:50.477582Z"
    }
   },
   "outputs": [
    {
     "data": {
      "image/png": "[encoded data removed]",
      "text/plain": [
       "<Figure size 800x400 with 1 Axes>"
      ]
     },
     "metadata": {},
     "output_type": "display_data"
    }
   ],
   "source": [
    "plt.figure(figsize=(8, 4))\n",
    "sns.boxplot(x=df_no_outliers['avg_price'])\n",
    "plt.title('Boxplot of Average Menu Prices')\n",
    "plt.xlabel('Average Price')\n",
    "plt.show()"
   ]
  },
  {
   "cell_type": "markdown",
   "id": "4f569447cd18a667",
   "metadata": {},
   "source": [
    "### save new processed data in new csv file"
   ]
  },
  {
   "cell_type": "code",
   "execution_count": 25,
   "id": "98236d1344228e64",
   "metadata": {
    "ExecuteTime": {
     "end_time": "2025-04-23T10:59:51.300056Z",
     "start_time": "2025-04-23T10:59:50.752425Z"
    }
   },
   "outputs": [],
   "source": [
    "df_no_outliers.to_csv('data/processed/processed_restaurants_no_outliers.csv', index=False)"
   ]
  },
  {
   "cell_type": "markdown",
   "id": "daf89520d2c399c",
   "metadata": {},
   "source": [
    "# Now moving on to Log transformation on Version with outliers\n",
    "## For if we need to calculate anything with the outliers still included"
   ]
  },
  {
   "cell_type": "code",
   "execution_count": 26,
   "id": "4cf12083421a5127",
   "metadata": {
    "ExecuteTime": {
     "end_time": "2025-04-23T10:59:51.468995Z",
     "start_time": "2025-04-23T10:59:51.342604Z"
    }
   },
   "outputs": [
    {
     "data": {
      "image/png": "[encoded data removed]",
      "text/plain": [
       "<Figure size 800x400 with 1 Axes>"
      ]
     },
     "metadata": {},
     "output_type": "display_data"
    }
   ],
   "source": [
    "df_restaurants['log_avg_price'] = np.log1p(df_restaurants['avg_price'])\n",
    "\n",
    "plt.figure(figsize=(8, 4))\n",
    "sns.boxplot(x=df_restaurants['avg_price'])\n",
    "plt.title('Boxplot of Average Menu Prices')\n",
    "plt.xlabel('Average Price')\n",
    "plt.show()\n",
    "\n"
   ]
  },
  {
   "cell_type": "markdown",
   "id": "afa36d44baef6ef6",
   "metadata": {},
   "source": [
    "### we can see that log Transformation didn't fix it So we'll continue working on removed outlier version"
   ]
  },
  {
   "cell_type": "markdown",
   "id": "bd6cb66f215737d4",
   "metadata": {},
   "source": [
    "# Save it in new csv file"
   ]
  },
  {
   "cell_type": "code",
   "execution_count": 27,
   "id": "9edafc5110358950",
   "metadata": {
    "ExecuteTime": {
     "end_time": "2025-04-23T10:59:51.988289Z",
     "start_time": "2025-04-23T10:59:51.498448Z"
    }
   },
   "outputs": [],
   "source": [
    "df_restaurants.to_csv('data/processed/processed_restaurants_logged.csv', index=False)\n"
   ]
  }
 ],
 "metadata": {
  "kernelspec": {
   "display_name": ".venv",
   "language": "python",
   "name": "python3"
  },
  "language_info": {
   "codemirror_mode": {
    "name": "ipython",
    "version": 3
   },
   "file_extension": ".py",
   "mimetype": "text/x-python",
   "name": "python",
   "nbconvert_exporter": "python",
   "pygments_lexer": "ipython3",
   "version": "3.13.0"
  }
 },
 "nbformat": 4,
 "nbformat_minor": 5
}
