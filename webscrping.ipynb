{
 "cells": [
  {
   "cell_type": "markdown",
   "id": "c2e27bb00a0b1ab6",
   "metadata": {},
   "source": [
    "# Research Questions\n",
    "\n",
    "1. What are the top 10 highest ranked anime series?\n",
    "2. Which anime series have the largest member/viewer base (top 10)?\n",
    "3. What are the top 10 anime series with the most episodes?\n",
    "4. Is there a correlation between the number of members/viewers and the anime's score rating?"
   ]
  },
  {
   "cell_type": "code",
   "id": "initial_id",
   "metadata": {
    "collapsed": true,
    "jupyter": {
     "outputs_hidden": true
    },
    "ExecuteTime": {
     "end_time": "2025-04-23T18:08:58.210170Z",
     "start_time": "2025-04-23T18:08:58.206608Z"
    }
   },
   "source": [
    "import pandas as pd\n",
    "import requests\n",
    "from bs4 import BeautifulSoup\n",
    "\n",
    "data_set = pd.DataFrame(columns=['rank', 'score', 'name', 'showType', 'numOfEp', 'startDate', 'endDate', 'members'])\n"
   ],
   "outputs": [],
   "execution_count": 28
  },
  {
   "cell_type": "code",
   "id": "3408d06b44c9b18e",
   "metadata": {
    "ExecuteTime": {
     "end_time": "2025-04-23T18:08:58.218922Z",
     "start_time": "2025-04-23T18:08:58.216237Z"
    }
   },
   "source": [
    "def insert_data(data_set, row_data):\n",
    "    data_set.loc[len(data_set)] = row_data"
   ],
   "outputs": [],
   "execution_count": 29
  },
  {
   "cell_type": "code",
   "id": "680ebbf488e51b5b",
   "metadata": {
    "ExecuteTime": {
     "end_time": "2025-04-23T18:08:58.235267Z",
     "start_time": "2025-04-23T18:08:58.231705Z"
    }
   },
   "source": [
    " #                                    rank score  name  showtype  numOfEp    startDate   endDate     members\n",
    "\n",
    "def extract_anime_data(anime_data: BeautifulSoup) -> [int, int, str, str, int, str, str, int]:\n",
    "    return [1, 2, 'naurto', 'TV', 900, '12-3-2005', '11-2-2007', 100]\n"
   ],
   "outputs": [],
   "execution_count": 30
  },
  {
   "cell_type": "code",
   "id": "2bbf9928e759556c",
   "metadata": {
    "ExecuteTime": {
     "end_time": "2025-04-23T18:08:58.246253Z",
     "start_time": "2025-04-23T18:08:58.242773Z"
    }
   },
   "source": [
    "def scrap_list_of_anime(page_number):\n",
    "    url = f\"https://myanimelist.net/topanime.php?limit={page_number * 50}\"\n",
    "    res = requests.get(url)\n",
    "    soup = BeautifulSoup(res.text, 'html.parser')\n",
    "    anime_cards = soup.find_all('tr', class_='ranking-list')\n",
    "    for card in anime_cards:\n",
    "        insert_data(data_set, extract_anime_data(card))\n",
    "\n"
   ],
   "outputs": [],
   "execution_count": 31
  },
  {
   "cell_type": "code",
   "id": "666009d27cd16ec0",
   "metadata": {
    "ExecuteTime": {
     "end_time": "2025-04-23T18:09:13.319333Z",
     "start_time": "2025-04-23T18:08:58.255177Z"
    }
   },
   "source": [
    "for i in range(0, 20):\n",
    "    scrap_list_of_anime(i)\n",
    "data_set.info()"
   ],
   "outputs": [
    {
     "name": "stdout",
     "output_type": "stream",
     "text": [
      "<class 'pandas.core.frame.DataFrame'>\n",
      "Index: 1000 entries, 0 to 999\n",
      "Data columns (total 8 columns):\n",
      " #   Column     Non-Null Count  Dtype \n",
      "---  ------     --------------  ----- \n",
      " 0   rank       1000 non-null   int64 \n",
      " 1   score      1000 non-null   int64 \n",
      " 2   name       1000 non-null   object\n",
      " 3   showType   1000 non-null   object\n",
      " 4   numOfEp    1000 non-null   int64 \n",
      " 5   startDate  1000 non-null   object\n",
      " 6   endDate    1000 non-null   object\n",
      " 7   members    1000 non-null   int64 \n",
      "dtypes: int64(4), object(4)\n",
      "memory usage: 70.3+ KB\n"
     ]
    }
   ],
   "execution_count": 32
  },
  {
   "cell_type": "code",
   "id": "8455a80b455a1b4d",
   "metadata": {
    "ExecuteTime": {
     "end_time": "2025-04-23T18:09:13.333557Z",
     "start_time": "2025-04-23T18:09:13.327831Z"
    }
   },
   "source": [
    "data_set.to_csv('anime_data.csv')"
   ],
   "outputs": [],
   "execution_count": 33
  }
 ],
 "metadata": {
  "kernelspec": {
   "display_name": "Python 3 (ipykernel)",
   "language": "python",
   "name": "python3"
  },
  "language_info": {
   "codemirror_mode": {
    "name": "ipython",
    "version": 3
   },
   "file_extension": ".py",
   "mimetype": "text/x-python",
   "name": "python",
   "nbconvert_exporter": "python",
   "pygments_lexer": "ipython3",
   "version": "3.13.0"
  }
 },
 "nbformat": 4,
 "nbformat_minor": 5
}
