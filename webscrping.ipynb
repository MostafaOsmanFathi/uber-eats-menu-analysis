{
 "cells": [
  {
   "cell_type": "markdown",
   "id": "c2e27bb00a0b1ab6",
   "metadata": {},
   "source": [
    "# Research Questions\n",
    "\n",
    "1. What are the top 10 highest ranked anime series?\n",
    "2. Which anime series have the largest member/viewer base (top 10)?\n",
    "3. What are the top 10 anime series with the most episodes?\n",
    "4. Is there a correlation between the number of members/viewers and the anime's score rating?"
   ]
  },
  {
   "cell_type": "code",
   "execution_count": 28,
   "id": "initial_id",
   "metadata": {
    "ExecuteTime": {
     "end_time": "2025-04-23T18:08:58.210170Z",
     "start_time": "2025-04-23T18:08:58.206608Z"
    },
    "collapsed": true,
    "jupyter": {
     "outputs_hidden": true
    }
   },
   "outputs": [],
   "source": [
    "import pandas as pd\n",
    "import requests\n",
    "from bs4 import BeautifulSoup\n",
    "\n",
    "data_set = pd.DataFrame(columns=['rank', 'score', 'name', 'showType', 'numOfEp', 'startDate', 'endDate', 'members'])\n"
   ]
  },
  {
   "cell_type": "code",
   "execution_count": 29,
   "id": "3408d06b44c9b18e",
   "metadata": {
    "ExecuteTime": {
     "end_time": "2025-04-23T18:08:58.218922Z",
     "start_time": "2025-04-23T18:08:58.216237Z"
    }
   },
   "outputs": [],
   "source": [
    "def insert_data(data_set, row_data):\n",
    "    data_set.loc[len(data_set)] = row_data"
   ]
  },
  {
   "cell_type": "code",
   "execution_count": null,
   "id": "680ebbf488e51b5b",
   "metadata": {
    "ExecuteTime": {
     "end_time": "2025-04-23T18:08:58.235267Z",
     "start_time": "2025-04-23T18:08:58.231705Z"
    }
   },
   "outputs": [],
   "source": [
    " #                                    rank score  name  showtype  numOfEp    startDate   endDate     members\n",
    "\n",
    "def extract_anime_data(anime_data: BeautifulSoup): #-> #[int, float, str, str, int, str, str, int]:\n",
    "    rank = int(anime_data.find('span', class__='top-anime-rank-text').text.strip())\n",
    "    score_tag = anime_data.find('span', class_='score-label')\n",
    "    \n",
    "    score_text = score_tag.text.strip()\n",
    "    score = float(score_text) if score_text != 'N/A' else None #if score is N/A, set to None\n",
    "\n",
    "    name = anime_data.find('h3', class_='anime_ranking_h3').a.text.strip()\n",
    "    info_lines = anime_data.find('div', class_='information').text.strip().split('\\n')\n",
    "\n",
    "    type_and_eps = info_lines[0]\n",
    "    showType = type_and_eps.split('(')[0].strip()\n",
    "    numOfEp = int(type_and_eps.split('(')[1].split()[0])\n",
    "\n",
    "    date_range = info_lines[1].split('-')\n",
    "    startDate = date_range[0].strip()\n",
    "    endDate = date_range[1].strip()\n",
    "\n",
    "    members_line = info_lines[2].replace('members', '').strip()\n",
    "    members = int(members_line.replace(',', ''))\n",
    "\n",
    "\n",
    "    return [rank, score, name, showType, numOfEp, startDate, endDate, members]\n"
   ]
  },
  {
   "cell_type": "code",
   "execution_count": 31,
   "id": "2bbf9928e759556c",
   "metadata": {
    "ExecuteTime": {
     "end_time": "2025-04-23T18:08:58.246253Z",
     "start_time": "2025-04-23T18:08:58.242773Z"
    }
   },
   "outputs": [],
   "source": [
    "def scrap_list_of_anime(page_number):\n",
    "    url = f\"https://myanimelist.net/topanime.php?limit={page_number * 50}\"\n",
    "    res = requests.get(url)\n",
    "    soup = BeautifulSoup(res.text, 'html.parser')\n",
    "    anime_cards = soup.find_all('tr', class_='ranking-list')\n",
    "    for card in anime_cards:\n",
    "        insert_data(data_set, extract_anime_data(card))\n",
    "\n"
   ]
  },
  {
   "cell_type": "code",
   "execution_count": 32,
   "id": "666009d27cd16ec0",
   "metadata": {
    "ExecuteTime": {
     "end_time": "2025-04-23T18:09:13.319333Z",
     "start_time": "2025-04-23T18:08:58.255177Z"
    }
   },
   "outputs": [
    {
     "name": "stdout",
     "output_type": "stream",
     "text": [
      "<class 'pandas.core.frame.DataFrame'>\n",
      "Index: 1000 entries, 0 to 999\n",
      "Data columns (total 8 columns):\n",
      " #   Column     Non-Null Count  Dtype \n",
      "---  ------     --------------  ----- \n",
      " 0   rank       1000 non-null   int64 \n",
      " 1   score      1000 non-null   int64 \n",
      " 2   name       1000 non-null   object\n",
      " 3   showType   1000 non-null   object\n",
      " 4   numOfEp    1000 non-null   int64 \n",
      " 5   startDate  1000 non-null   object\n",
      " 6   endDate    1000 non-null   object\n",
      " 7   members    1000 non-null   int64 \n",
      "dtypes: int64(4), object(4)\n",
      "memory usage: 70.3+ KB\n"
     ]
    }
   ],
   "source": [
    "for i in range(0, 20):\n",
    "    scrap_list_of_anime(i)\n",
    "data_set.info()"
   ]
  },
  {
   "cell_type": "code",
   "execution_count": 33,
   "id": "8455a80b455a1b4d",
   "metadata": {
    "ExecuteTime": {
     "end_time": "2025-04-23T18:09:13.333557Z",
     "start_time": "2025-04-23T18:09:13.327831Z"
    }
   },
   "outputs": [],
   "source": [
    "data_set.to_csv('anime_data.csv')"
   ]
  }
 ],
 "metadata": {
  "kernelspec": {
   "display_name": ".venv",
   "language": "python",
   "name": "python3"
  },
  "language_info": {
   "codemirror_mode": {
    "name": "ipython",
    "version": 3
   },
   "file_extension": ".py",
   "mimetype": "text/x-python",
   "name": "python",
   "nbconvert_exporter": "python",
   "pygments_lexer": "ipython3",
   "version": "3.13.0"
  }
 },
 "nbformat": 4,
 "nbformat_minor": 5
}
