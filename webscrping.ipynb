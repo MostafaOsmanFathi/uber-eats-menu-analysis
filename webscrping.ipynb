{
 "cells": [
  {
   "metadata": {},
   "cell_type": "markdown",
   "source": [
    "top 10 rank\n",
    "\n",
    "top 10 members\n",
    "\n",
    "top 10 eps\n",
    "\n",
    "cor between members and score"
   ],
   "id": "c2e27bb00a0b1ab6"
  },
  {
   "cell_type": "code",
   "id": "initial_id",
   "metadata": {
    "collapsed": true,
    "ExecuteTime": {
     "end_time": "2025-04-23T15:19:07.794531Z",
     "start_time": "2025-04-23T15:19:07.789504Z"
    }
   },
   "source": [
    "import pandas as pd\n",
    "from bs4 import BeautifulSoup\n",
    "\n",
    "data_set = pd.DataFrame(columns=['rank', 'score', 'name', 'showType', 'numOfEp', 'startDate', 'endDate', 'members'])\n"
   ],
   "outputs": [],
   "execution_count": 2
  },
  {
   "metadata": {},
   "cell_type": "code",
   "outputs": [],
   "execution_count": null,
   "source": [
    "def insert_data(data_set, rank, score, name, showType, numOfEp, startDate, endDate, members):\n",
    "    data_set.loc[len(data_set)] = (rank, score, name, showType, numOfEp, startDate, endDate, members)"
   ],
   "id": "3408d06b44c9b18e"
  },
  {
   "metadata": {},
   "cell_type": "code",
   "outputs": [],
   "execution_count": null,
   "source": [
    "#                                    rank score  name  showtype  numOfEp    startDate   endDate     members\n",
    "def extract_anime_data(anime_data: BeautifulSoup) -> [int, int, str, str, int, str, str, int]:\n",
    "    pass\n",
    "\n"
   ],
   "id": "680ebbf488e51b5b"
  },
  {
   "metadata": {},
   "cell_type": "code",
   "outputs": [],
   "execution_count": null,
   "source": [
    "def scrap_lis_of_anime(page_number):\n",
    "    url = f\"https://myanimelist.net/topanime.php?limit={page_number * 50}\"\n",
    "    #TODO scrap anime list call extract_anime_data to get the data\n",
    "    # insert data"
   ],
   "id": "2bbf9928e759556c"
  },
  {
   "metadata": {},
   "cell_type": "code",
   "outputs": [],
   "execution_count": null,
   "source": [
    "for i in range(0, 20):\n",
    "    scrap_lis_of_anime(i)"
   ],
   "id": "666009d27cd16ec0"
  },
  {
   "metadata": {},
   "cell_type": "code",
   "outputs": [],
   "execution_count": null,
   "source": "data_set.to_csv('anime_data.csv')",
   "id": "8455a80b455a1b4d"
  }
 ],
 "metadata": {
  "kernelspec": {
   "display_name": "Python [conda env:base] *",
   "language": "python",
   "name": "conda-base-py"
  },
  "language_info": {
   "codemirror_mode": {
    "name": "ipython",
    "version": 2
   },
   "file_extension": ".py",
   "mimetype": "text/x-python",
   "name": "python",
   "nbconvert_exporter": "python",
   "pygments_lexer": "ipython2",
   "version": "2.7.6"
  }
 },
 "nbformat": 4,
 "nbformat_minor": 5
}
