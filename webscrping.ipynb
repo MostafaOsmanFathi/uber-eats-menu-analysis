{
 "cells": [
  {
   "metadata": {},
   "cell_type": "markdown",
   "source": [
    "# Research Questions\n",
    "\n",
    "1. What are the top 10 highest ranked anime series?\n",
    "2. Which anime series have the largest member/viewer base (top 10)?\n",
    "3. What are the top 10 anime series with the most episodes?\n",
    "4. Is there a correlation between the number of members/viewers and the anime's score rating?"
   ],
   "id": "2092d98909e3e1e2"
  },
  {
   "metadata": {
    "ExecuteTime": {
     "end_time": "2025-04-25T13:22:18.314775Z",
     "start_time": "2025-04-25T13:22:16.987132Z"
    }
   },
   "cell_type": "code",
   "source": [
    "import pandas as pd\n",
    "import requests\n",
    "from bs4 import BeautifulSoup\n",
    "\n",
    "data_set = pd.DataFrame(\n",
    "    columns=['rank', 'score', 'name', 'link', 'showType', 'numOfEp', 'startDate', 'endDate', 'members'])\n"
   ],
   "id": "381b28e318e0fbac",
   "outputs": [
    {
     "ename": "ModuleNotFoundError",
     "evalue": "No module named 'pandas'",
     "output_type": "error",
     "traceback": [
      "\u001B[31m---------------------------------------------------------------------------\u001B[39m",
      "\u001B[31mModuleNotFoundError\u001B[39m                       Traceback (most recent call last)",
      "\u001B[36mCell\u001B[39m\u001B[36m \u001B[39m\u001B[32mIn[1]\u001B[39m\u001B[32m, line 1\u001B[39m\n\u001B[32m----> \u001B[39m\u001B[32m1\u001B[39m \u001B[38;5;28;01mimport\u001B[39;00m\u001B[38;5;250m \u001B[39m\u001B[34;01mpandas\u001B[39;00m\u001B[38;5;250m \u001B[39m\u001B[38;5;28;01mas\u001B[39;00m\u001B[38;5;250m \u001B[39m\u001B[34;01mpd\u001B[39;00m\n\u001B[32m      2\u001B[39m \u001B[38;5;28;01mimport\u001B[39;00m\u001B[38;5;250m \u001B[39m\u001B[34;01mrequests\u001B[39;00m\n\u001B[32m      3\u001B[39m \u001B[38;5;28;01mfrom\u001B[39;00m\u001B[38;5;250m \u001B[39m\u001B[34;01mbs4\u001B[39;00m\u001B[38;5;250m \u001B[39m\u001B[38;5;28;01mimport\u001B[39;00m BeautifulSoup\n",
      "\u001B[31mModuleNotFoundError\u001B[39m: No module named 'pandas'"
     ]
    }
   ],
   "execution_count": 1
  },
  {
   "metadata": {
    "ExecuteTime": {
     "end_time": "2025-04-25T13:22:18.688637900Z",
     "start_time": "2025-04-25T13:04:10.327634Z"
    }
   },
   "cell_type": "code",
   "source": [
    "def insert_data(data_set, row_data):\n",
    "    data_set.loc[len(data_set)] = row_data"
   ],
   "id": "2f1cb26f98a24c85",
   "outputs": [],
   "execution_count": 2
  },
  {
   "metadata": {
    "ExecuteTime": {
     "end_time": "2025-04-25T13:22:18.611550Z",
     "start_time": "2025-04-25T13:04:10.350664Z"
    }
   },
   "cell_type": "code",
   "source": [
    " #                                    rank score  name  showtype  numOfEp    startDate   endDate     members\n",
    "\n",
    "def extract_anime_data(anime_data: BeautifulSoup): #-> #[int, float, str, str, int, str, str, int]:\n",
    "    rank = int(anime_data.find('span', class__='top-anime-rank-text').text.strip())\n",
    "    score_tag = anime_data.find('span', class_='score-label')\n",
    "\n",
    "    score_text = score_tag.text.strip()\n",
    "    score = float(score_text) if score_text != 'N/A' else None #if score is N/A, set to None\n",
    "\n",
    "    name = anime_data.find('h3', class_='anime_ranking_h3').a.text.strip()\n",
    "    info_lines = anime_data.find('div', class_='information').text.strip().split('\\n')\n",
    "\n",
    "    type_and_eps = info_lines[0]\n",
    "    showType = type_and_eps.split('(')[0].strip()\n",
    "    numOfEp = int(type_and_eps.split('(')[1].split()[0])\n",
    "\n",
    "    date_range = info_lines[1].split('-')\n",
    "    startDate = date_range[0].strip()\n",
    "    endDate = date_range[1].strip()\n",
    "\n",
    "    members_line = info_lines[2].replace('members', '').strip()\n",
    "    members = int(members_line.replace(',', ''))\n",
    "\n",
    "\n",
    "    return [rank, score, name, showType, numOfEp, startDate, endDate, members]\n"
   ],
   "id": "839c4026073e7c84",
   "outputs": [],
   "execution_count": 3
  },
  {
   "metadata": {
    "ExecuteTime": {
     "end_time": "2025-04-25T13:04:10.388555Z",
     "start_time": "2025-04-25T13:04:10.382492Z"
    }
   },
   "cell_type": "code",
   "source": [
    "def scrap_list_of_anime(page_number):\n",
    "    url = f\"https://myanimelist.net/topanime.php?limit={page_number * 50}\"\n",
    "    res = requests.get(url)\n",
    "    soup = BeautifulSoup(res.text, 'html.parser')\n",
    "    anime_cards = soup.find_all('tr', class_='ranking-list')\n",
    "    for card in anime_cards:\n",
    "        insert_data(data_set, extract_anime_data(card))"
   ],
   "id": "ea40e68e56784fc",
   "outputs": [],
   "execution_count": 4
  },
  {
   "metadata": {
    "ExecuteTime": {
     "end_time": "2025-04-25T13:04:25.393666Z",
     "start_time": "2025-04-25T13:04:10.409940Z"
    }
   },
   "cell_type": "code",
   "source": [
    "for i in range(0, 20):\n",
    "    scrap_list_of_anime(i)\n",
    "data_set.info()"
   ],
   "id": "82205278446e01c8",
   "outputs": [
    {
     "name": "stdout",
     "output_type": "stream",
     "text": [
      "<class 'pandas.core.frame.DataFrame'>\n",
      "Index: 1000 entries, 0 to 999\n",
      "Data columns (total 9 columns):\n",
      " #   Column     Non-Null Count  Dtype \n",
      "---  ------     --------------  ----- \n",
      " 0   rank       1000 non-null   object\n",
      " 1   score      1000 non-null   object\n",
      " 2   name       1000 non-null   object\n",
      " 3   link       1000 non-null   object\n",
      " 4   showType   1000 non-null   object\n",
      " 5   numOfEp    993 non-null    object\n",
      " 6   startDate  1000 non-null   object\n",
      " 7   endDate    1000 non-null   object\n",
      " 8   members    1000 non-null   int64 \n",
      "dtypes: int64(1), object(8)\n",
      "memory usage: 78.1+ KB\n"
     ]
    }
   ],
   "execution_count": 5
  },
  {
   "metadata": {
    "ExecuteTime": {
     "end_time": "2025-04-25T13:04:25.442296Z",
     "start_time": "2025-04-25T13:04:25.429004Z"
    }
   },
   "cell_type": "code",
   "source": "data_set.to_csv('anime_data.csv')",
   "id": "39155475fe48263e",
   "outputs": [],
   "execution_count": 6
  },
  {
   "metadata": {},
   "cell_type": "markdown",
   "source": [
    "# -----------------\n",
    "# Data PreProcessing\n",
    "# ------------------"
   ],
   "id": "47ea8c01aa48aa68"
  },
  {
   "metadata": {
    "collapsed": true,
    "ExecuteTime": {
     "end_time": "2025-04-25T13:04:25.980873Z",
     "start_time": "2025-04-25T13:04:25.468817Z"
    }
   },
   "cell_type": "code",
   "source": [
    "import pandas as pd\n",
    "import matplotlib.pyplot as plt\n",
    "\n",
    "df_anime = pd.read_csv('anime_data.csv')\n",
    "df_anime.info()"
   ],
   "id": "2bf8e05439d26136",
   "outputs": [
    {
     "name": "stdout",
     "output_type": "stream",
     "text": [
      "<class 'pandas.core.frame.DataFrame'>\n",
      "RangeIndex: 1000 entries, 0 to 999\n",
      "Data columns (total 10 columns):\n",
      " #   Column      Non-Null Count  Dtype  \n",
      "---  ------      --------------  -----  \n",
      " 0   Unnamed: 0  1000 non-null   int64  \n",
      " 1   rank        1000 non-null   int64  \n",
      " 2   score       1000 non-null   float64\n",
      " 3   name        1000 non-null   object \n",
      " 4   link        1000 non-null   object \n",
      " 5   showType    1000 non-null   object \n",
      " 6   numOfEp     993 non-null    float64\n",
      " 7   startDate   1000 non-null   object \n",
      " 8   endDate     980 non-null    object \n",
      " 9   members     1000 non-null   int64  \n",
      "dtypes: float64(2), int64(3), object(5)\n",
      "memory usage: 78.3+ KB\n"
     ]
    }
   ],
   "execution_count": 7
  },
  {
   "metadata": {},
   "cell_type": "markdown",
   "source": "# 1. **Inspect the Data**\n",
   "id": "d0c440f29b614600"
  },
  {
   "metadata": {
    "ExecuteTime": {
     "end_time": "2025-04-25T13:04:26.021855Z",
     "start_time": "2025-04-25T13:04:25.996403Z"
    }
   },
   "cell_type": "code",
   "source": [
    "df_anime.info()\n",
    "df_anime[['members', 'score']].describe()"
   ],
   "id": "e59f4437be76529d",
   "outputs": [
    {
     "name": "stdout",
     "output_type": "stream",
     "text": [
      "<class 'pandas.core.frame.DataFrame'>\n",
      "RangeIndex: 1000 entries, 0 to 999\n",
      "Data columns (total 10 columns):\n",
      " #   Column      Non-Null Count  Dtype  \n",
      "---  ------      --------------  -----  \n",
      " 0   Unnamed: 0  1000 non-null   int64  \n",
      " 1   rank        1000 non-null   int64  \n",
      " 2   score       1000 non-null   float64\n",
      " 3   name        1000 non-null   object \n",
      " 4   link        1000 non-null   object \n",
      " 5   showType    1000 non-null   object \n",
      " 6   numOfEp     993 non-null    float64\n",
      " 7   startDate   1000 non-null   object \n",
      " 8   endDate     980 non-null    object \n",
      " 9   members     1000 non-null   int64  \n",
      "dtypes: float64(2), int64(3), object(5)\n",
      "memory usage: 78.3+ KB\n"
     ]
    },
    {
     "data": {
      "text/plain": [
       "            members        score\n",
       "count  1.000000e+03  1000.000000\n",
       "mean   4.475116e+05     8.177820\n",
       "std    5.921132e+05     0.281335\n",
       "min    1.305000e+03     7.820000\n",
       "25%    7.370175e+04     7.940000\n",
       "50%    2.284820e+05     8.120000\n",
       "75%    5.733075e+05     8.340000\n",
       "max    4.149307e+06     9.300000"
      ],
      "text/html": [
       "<div>\n",
       "<style scoped>\n",
       "    .dataframe tbody tr th:only-of-type {\n",
       "        vertical-align: middle;\n",
       "    }\n",
       "\n",
       "    .dataframe tbody tr th {\n",
       "        vertical-align: top;\n",
       "    }\n",
       "\n",
       "    .dataframe thead th {\n",
       "        text-align: right;\n",
       "    }\n",
       "</style>\n",
       "<table border=\"1\" class=\"dataframe\">\n",
       "  <thead>\n",
       "    <tr style=\"text-align: right;\">\n",
       "      <th></th>\n",
       "      <th>members</th>\n",
       "      <th>score</th>\n",
       "    </tr>\n",
       "  </thead>\n",
       "  <tbody>\n",
       "    <tr>\n",
       "      <th>count</th>\n",
       "      <td>1.000000e+03</td>\n",
       "      <td>1000.000000</td>\n",
       "    </tr>\n",
       "    <tr>\n",
       "      <th>mean</th>\n",
       "      <td>4.475116e+05</td>\n",
       "      <td>8.177820</td>\n",
       "    </tr>\n",
       "    <tr>\n",
       "      <th>std</th>\n",
       "      <td>5.921132e+05</td>\n",
       "      <td>0.281335</td>\n",
       "    </tr>\n",
       "    <tr>\n",
       "      <th>min</th>\n",
       "      <td>1.305000e+03</td>\n",
       "      <td>7.820000</td>\n",
       "    </tr>\n",
       "    <tr>\n",
       "      <th>25%</th>\n",
       "      <td>7.370175e+04</td>\n",
       "      <td>7.940000</td>\n",
       "    </tr>\n",
       "    <tr>\n",
       "      <th>50%</th>\n",
       "      <td>2.284820e+05</td>\n",
       "      <td>8.120000</td>\n",
       "    </tr>\n",
       "    <tr>\n",
       "      <th>75%</th>\n",
       "      <td>5.733075e+05</td>\n",
       "      <td>8.340000</td>\n",
       "    </tr>\n",
       "    <tr>\n",
       "      <th>max</th>\n",
       "      <td>4.149307e+06</td>\n",
       "      <td>9.300000</td>\n",
       "    </tr>\n",
       "  </tbody>\n",
       "</table>\n",
       "</div>"
      ]
     },
     "execution_count": 8,
     "metadata": {},
     "output_type": "execute_result"
    }
   ],
   "execution_count": 8
  },
  {
   "metadata": {},
   "cell_type": "markdown",
   "source": "# 2. fill missing Value",
   "id": "38f58555be0a18f"
  },
  {
   "metadata": {
    "ExecuteTime": {
     "end_time": "2025-04-25T13:04:26.281332Z",
     "start_time": "2025-04-25T13:04:26.273105Z"
    }
   },
   "cell_type": "code",
   "source": [
    "df_anime['members'].fillna(df_anime['members'].median(), inplace=True)\n",
    "df_anime['score'].fillna(df_anime['score'].mean(), inplace=True)\n",
    "df_anime.info()"
   ],
   "id": "ec254c52eedd8c6b",
   "outputs": [
    {
     "name": "stdout",
     "output_type": "stream",
     "text": [
      "<class 'pandas.core.frame.DataFrame'>\n",
      "RangeIndex: 1000 entries, 0 to 999\n",
      "Data columns (total 10 columns):\n",
      " #   Column      Non-Null Count  Dtype  \n",
      "---  ------      --------------  -----  \n",
      " 0   Unnamed: 0  1000 non-null   int64  \n",
      " 1   rank        1000 non-null   int64  \n",
      " 2   score       1000 non-null   float64\n",
      " 3   name        1000 non-null   object \n",
      " 4   link        1000 non-null   object \n",
      " 5   showType    1000 non-null   object \n",
      " 6   numOfEp     993 non-null    float64\n",
      " 7   startDate   1000 non-null   object \n",
      " 8   endDate     980 non-null    object \n",
      " 9   members     1000 non-null   int64  \n",
      "dtypes: float64(2), int64(3), object(5)\n",
      "memory usage: 78.3+ KB\n"
     ]
    },
    {
     "name": "stderr",
     "output_type": "stream",
     "text": [
      "C:\\Users\\mosta\\AppData\\Local\\Temp\\ipykernel_22416\\1213074363.py:1: FutureWarning: A value is trying to be set on a copy of a DataFrame or Series through chained assignment using an inplace method.\n",
      "The behavior will change in pandas 3.0. This inplace method will never work because the intermediate object on which we are setting values always behaves as a copy.\n",
      "\n",
      "For example, when doing 'df[col].method(value, inplace=True)', try using 'df.method({col: value}, inplace=True)' or df[col] = df[col].method(value) instead, to perform the operation inplace on the original object.\n",
      "\n",
      "\n",
      "  df_anime['members'].fillna(df_anime['members'].median(), inplace=True)\n",
      "C:\\Users\\mosta\\AppData\\Local\\Temp\\ipykernel_22416\\1213074363.py:2: FutureWarning: A value is trying to be set on a copy of a DataFrame or Series through chained assignment using an inplace method.\n",
      "The behavior will change in pandas 3.0. This inplace method will never work because the intermediate object on which we are setting values always behaves as a copy.\n",
      "\n",
      "For example, when doing 'df[col].method(value, inplace=True)', try using 'df.method({col: value}, inplace=True)' or df[col] = df[col].method(value) instead, to perform the operation inplace on the original object.\n",
      "\n",
      "\n",
      "  df_anime['score'].fillna(df_anime['score'].mean(), inplace=True)\n"
     ]
    }
   ],
   "execution_count": 9
  },
  {
   "metadata": {},
   "cell_type": "markdown",
   "source": "# 3. Remove Duplicates",
   "id": "13b2562114718956"
  },
  {
   "metadata": {
    "ExecuteTime": {
     "end_time": "2025-04-25T13:04:26.344334Z",
     "start_time": "2025-04-25T13:04:26.333353Z"
    }
   },
   "cell_type": "code",
   "source": [
    "anime_dup = df_anime.drop_duplicates(subset=['members', 'score'])\n",
    "anime_dup.info()"
   ],
   "id": "d14c4abaf5918228",
   "outputs": [
    {
     "name": "stdout",
     "output_type": "stream",
     "text": [
      "<class 'pandas.core.frame.DataFrame'>\n",
      "RangeIndex: 1000 entries, 0 to 999\n",
      "Data columns (total 10 columns):\n",
      " #   Column      Non-Null Count  Dtype  \n",
      "---  ------      --------------  -----  \n",
      " 0   Unnamed: 0  1000 non-null   int64  \n",
      " 1   rank        1000 non-null   int64  \n",
      " 2   score       1000 non-null   float64\n",
      " 3   name        1000 non-null   object \n",
      " 4   link        1000 non-null   object \n",
      " 5   showType    1000 non-null   object \n",
      " 6   numOfEp     993 non-null    float64\n",
      " 7   startDate   1000 non-null   object \n",
      " 8   endDate     980 non-null    object \n",
      " 9   members     1000 non-null   int64  \n",
      "dtypes: float64(2), int64(3), object(5)\n",
      "memory usage: 78.3+ KB\n"
     ]
    }
   ],
   "execution_count": 10
  },
  {
   "metadata": {},
   "cell_type": "markdown",
   "source": "### Save cleaned data",
   "id": "74bb89ed2969c6"
  },
  {
   "metadata": {
    "ExecuteTime": {
     "end_time": "2025-04-25T13:04:26.453114Z",
     "start_time": "2025-04-25T13:04:26.441610Z"
    }
   },
   "cell_type": "code",
   "source": "df_anime.to_csv('anime_cleaned_data.csv')",
   "id": "5177a09ddb400028",
   "outputs": [],
   "execution_count": 11
  },
  {
   "metadata": {},
   "cell_type": "markdown",
   "source": "# Insights analysis",
   "id": "8c5810b5c017f311"
  },
  {
   "metadata": {
    "ExecuteTime": {
     "end_time": "2025-04-25T13:04:26.511949Z",
     "start_time": "2025-04-25T13:04:26.500876Z"
    }
   },
   "cell_type": "code",
   "source": "df_anime = pd.read_csv('anime_cleaned_data.csv')",
   "id": "38ce883b39a568da",
   "outputs": [],
   "execution_count": 12
  },
  {
   "metadata": {},
   "cell_type": "markdown",
   "source": "# What are the top 10 highest score anime series?",
   "id": "58f1dcf534b54e3e"
  },
  {
   "metadata": {
    "ExecuteTime": {
     "end_time": "2025-04-25T13:04:26.827615Z",
     "start_time": "2025-04-25T13:04:26.546493Z"
    }
   },
   "cell_type": "code",
   "source": [
    "top_anime = df_anime.sort_values(by='score', ascending=False)\n",
    "\n",
    "top_10 = top_anime.head(10)\n",
    "plt.barh(top_10['name'], top_10['score'])\n",
    "top_10[['name', 'score']]\n"
   ],
   "id": "c2c8bf4654fffc7",
   "outputs": [
    {
     "data": {
      "text/plain": [
       "                                 name  score\n",
       "0                   Sousou no Frieren   9.30\n",
       "1    Fullmetal Alchemist: Brotherhood   9.10\n",
       "2                         Steins;Gate   9.07\n",
       "3  Shingeki no Kyojin Season 3 Part 2   9.05\n",
       "4                One Piece Fan Letter   9.05\n",
       "5                            Gintama°   9.05\n",
       "6                  Gintama: The Final   9.04\n",
       "7              Hunter x Hunter (2011)   9.03\n",
       "8                            Gintama'   9.02\n",
       "9                 Gintama': Enchousen   9.02"
      ],
      "text/html": [
       "<div>\n",
       "<style scoped>\n",
       "    .dataframe tbody tr th:only-of-type {\n",
       "        vertical-align: middle;\n",
       "    }\n",
       "\n",
       "    .dataframe tbody tr th {\n",
       "        vertical-align: top;\n",
       "    }\n",
       "\n",
       "    .dataframe thead th {\n",
       "        text-align: right;\n",
       "    }\n",
       "</style>\n",
       "<table border=\"1\" class=\"dataframe\">\n",
       "  <thead>\n",
       "    <tr style=\"text-align: right;\">\n",
       "      <th></th>\n",
       "      <th>name</th>\n",
       "      <th>score</th>\n",
       "    </tr>\n",
       "  </thead>\n",
       "  <tbody>\n",
       "    <tr>\n",
       "      <th>0</th>\n",
       "      <td>Sousou no Frieren</td>\n",
       "      <td>9.30</td>\n",
       "    </tr>\n",
       "    <tr>\n",
       "      <th>1</th>\n",
       "      <td>Fullmetal Alchemist: Brotherhood</td>\n",
       "      <td>9.10</td>\n",
       "    </tr>\n",
       "    <tr>\n",
       "      <th>2</th>\n",
       "      <td>Steins;Gate</td>\n",
       "      <td>9.07</td>\n",
       "    </tr>\n",
       "    <tr>\n",
       "      <th>3</th>\n",
       "      <td>Shingeki no Kyojin Season 3 Part 2</td>\n",
       "      <td>9.05</td>\n",
       "    </tr>\n",
       "    <tr>\n",
       "      <th>4</th>\n",
       "      <td>One Piece Fan Letter</td>\n",
       "      <td>9.05</td>\n",
       "    </tr>\n",
       "    <tr>\n",
       "      <th>5</th>\n",
       "      <td>Gintama°</td>\n",
       "      <td>9.05</td>\n",
       "    </tr>\n",
       "    <tr>\n",
       "      <th>6</th>\n",
       "      <td>Gintama: The Final</td>\n",
       "      <td>9.04</td>\n",
       "    </tr>\n",
       "    <tr>\n",
       "      <th>7</th>\n",
       "      <td>Hunter x Hunter (2011)</td>\n",
       "      <td>9.03</td>\n",
       "    </tr>\n",
       "    <tr>\n",
       "      <th>8</th>\n",
       "      <td>Gintama'</td>\n",
       "      <td>9.02</td>\n",
       "    </tr>\n",
       "    <tr>\n",
       "      <th>9</th>\n",
       "      <td>Gintama': Enchousen</td>\n",
       "      <td>9.02</td>\n",
       "    </tr>\n",
       "  </tbody>\n",
       "</table>\n",
       "</div>"
      ]
     },
     "execution_count": 13,
     "metadata": {},
     "output_type": "execute_result"
    },
    {
     "data": {
      "text/plain": [
       "<Figure size 640x480 with 1 Axes>"
      ],
      "image/png": "[encoded data removed]"
     },
     "metadata": {},
     "output_type": "display_data"
    }
   ],
   "execution_count": 13
  },
  {
   "metadata": {},
   "cell_type": "markdown",
   "source": "# Which anime series have the largest member/viewer base (top 10)?",
   "id": "1673d25e52b7a1ec"
  },
  {
   "metadata": {
    "ExecuteTime": {
     "end_time": "2025-04-25T13:04:27.007711Z",
     "start_time": "2025-04-25T13:04:26.875131Z"
    }
   },
   "cell_type": "code",
   "source": [
    "top_anime = df_anime.sort_values(by='members', ascending=False)\n",
    "\n",
    "top_10 = top_anime.head(10)\n",
    "plt.barh(top_10['name'], top_10['members'])\n",
    "top_10[['members', 'name']]"
   ],
   "id": "b2f9e4c433513160",
   "outputs": [
    {
     "data": {
      "text/plain": [
       "     members                              name\n",
       "114  4149307                Shingeki no Kyojin\n",
       "88   4093938                        Death Note\n",
       "1    3512755  Fullmetal Alchemist: Brotherhood\n",
       "148  3374211                     One Punch Man\n",
       "173  3240283                  Kimetsu no Yaiba\n",
       "951  3161784             Boku no Hero Academia\n",
       "7    3012257            Hunter x Hunter (2011)\n",
       "662  2983630                            Naruto\n",
       "27   2888568                    Kimi no Na wa.\n",
       "125  2870073       Shingeki no Kyojin Season 2"
      ],
      "text/html": [
       "<div>\n",
       "<style scoped>\n",
       "    .dataframe tbody tr th:only-of-type {\n",
       "        vertical-align: middle;\n",
       "    }\n",
       "\n",
       "    .dataframe tbody tr th {\n",
       "        vertical-align: top;\n",
       "    }\n",
       "\n",
       "    .dataframe thead th {\n",
       "        text-align: right;\n",
       "    }\n",
       "</style>\n",
       "<table border=\"1\" class=\"dataframe\">\n",
       "  <thead>\n",
       "    <tr style=\"text-align: right;\">\n",
       "      <th></th>\n",
       "      <th>members</th>\n",
       "      <th>name</th>\n",
       "    </tr>\n",
       "  </thead>\n",
       "  <tbody>\n",
       "    <tr>\n",
       "      <th>114</th>\n",
       "      <td>4149307</td>\n",
       "      <td>Shingeki no Kyojin</td>\n",
       "    </tr>\n",
       "    <tr>\n",
       "      <th>88</th>\n",
       "      <td>4093938</td>\n",
       "      <td>Death Note</td>\n",
       "    </tr>\n",
       "    <tr>\n",
       "      <th>1</th>\n",
       "      <td>3512755</td>\n",
       "      <td>Fullmetal Alchemist: Brotherhood</td>\n",
       "    </tr>\n",
       "    <tr>\n",
       "      <th>148</th>\n",
       "      <td>3374211</td>\n",
       "      <td>One Punch Man</td>\n",
       "    </tr>\n",
       "    <tr>\n",
       "      <th>173</th>\n",
       "      <td>3240283</td>\n",
       "      <td>Kimetsu no Yaiba</td>\n",
       "    </tr>\n",
       "    <tr>\n",
       "      <th>951</th>\n",
       "      <td>3161784</td>\n",
       "      <td>Boku no Hero Academia</td>\n",
       "    </tr>\n",
       "    <tr>\n",
       "      <th>7</th>\n",
       "      <td>3012257</td>\n",
       "      <td>Hunter x Hunter (2011)</td>\n",
       "    </tr>\n",
       "    <tr>\n",
       "      <th>662</th>\n",
       "      <td>2983630</td>\n",
       "      <td>Naruto</td>\n",
       "    </tr>\n",
       "    <tr>\n",
       "      <th>27</th>\n",
       "      <td>2888568</td>\n",
       "      <td>Kimi no Na wa.</td>\n",
       "    </tr>\n",
       "    <tr>\n",
       "      <th>125</th>\n",
       "      <td>2870073</td>\n",
       "      <td>Shingeki no Kyojin Season 2</td>\n",
       "    </tr>\n",
       "  </tbody>\n",
       "</table>\n",
       "</div>"
      ]
     },
     "execution_count": 14,
     "metadata": {},
     "output_type": "execute_result"
    },
    {
     "data": {
      "text/plain": [
       "<Figure size 640x480 with 1 Axes>"
      ],
      "image/png": "[encoded data removed]"
     },
     "metadata": {},
     "output_type": "display_data"
    }
   ],
   "execution_count": 14
  },
  {
   "metadata": {},
   "cell_type": "markdown",
   "source": "# What are the top 10 anime series with the most episodes?",
   "id": "845868547a2db26a"
  },
  {
   "metadata": {
    "ExecuteTime": {
     "end_time": "2025-04-25T13:04:27.181135Z",
     "start_time": "2025-04-25T13:04:27.065239Z"
    }
   },
   "cell_type": "code",
   "source": [
    "top_anime_by_episodes = df_anime.sort_values(by='numOfEp', ascending=False)\n",
    "top_10_episodes = top_anime_by_episodes.head(10)\n",
    "plt.barh(top_10_episodes['name'], top_10_episodes['numOfEp'])\n",
    "top_10_episodes[['numOfEp', 'name']]\n"
   ],
   "id": "1f415d059ab2a7fc",
   "outputs": [
    {
     "data": {
      "text/plain": [
       "     numOfEp                     name\n",
       "887   1787.0          Doraemon (1979)\n",
       "306    500.0       Naruto: Shippuuden\n",
       "710    366.0                   Bleach\n",
       "387    291.0            Dragon Ball Z\n",
       "249    237.0   Douluo Dalu 2nd Season\n",
       "903    234.0            Wanmei Shijie\n",
       "662    220.0                   Naruto\n",
       "493    203.0  Katekyou Hitman Reborn!\n",
       "16     201.0                  Gintama\n",
       "938    178.0       Tennis no Oujisama"
      ],
      "text/html": [
       "<div>\n",
       "<style scoped>\n",
       "    .dataframe tbody tr th:only-of-type {\n",
       "        vertical-align: middle;\n",
       "    }\n",
       "\n",
       "    .dataframe tbody tr th {\n",
       "        vertical-align: top;\n",
       "    }\n",
       "\n",
       "    .dataframe thead th {\n",
       "        text-align: right;\n",
       "    }\n",
       "</style>\n",
       "<table border=\"1\" class=\"dataframe\">\n",
       "  <thead>\n",
       "    <tr style=\"text-align: right;\">\n",
       "      <th></th>\n",
       "      <th>numOfEp</th>\n",
       "      <th>name</th>\n",
       "    </tr>\n",
       "  </thead>\n",
       "  <tbody>\n",
       "    <tr>\n",
       "      <th>887</th>\n",
       "      <td>1787.0</td>\n",
       "      <td>Doraemon (1979)</td>\n",
       "    </tr>\n",
       "    <tr>\n",
       "      <th>306</th>\n",
       "      <td>500.0</td>\n",
       "      <td>Naruto: Shippuuden</td>\n",
       "    </tr>\n",
       "    <tr>\n",
       "      <th>710</th>\n",
       "      <td>366.0</td>\n",
       "      <td>Bleach</td>\n",
       "    </tr>\n",
       "    <tr>\n",
       "      <th>387</th>\n",
       "      <td>291.0</td>\n",
       "      <td>Dragon Ball Z</td>\n",
       "    </tr>\n",
       "    <tr>\n",
       "      <th>249</th>\n",
       "      <td>237.0</td>\n",
       "      <td>Douluo Dalu 2nd Season</td>\n",
       "    </tr>\n",
       "    <tr>\n",
       "      <th>903</th>\n",
       "      <td>234.0</td>\n",
       "      <td>Wanmei Shijie</td>\n",
       "    </tr>\n",
       "    <tr>\n",
       "      <th>662</th>\n",
       "      <td>220.0</td>\n",
       "      <td>Naruto</td>\n",
       "    </tr>\n",
       "    <tr>\n",
       "      <th>493</th>\n",
       "      <td>203.0</td>\n",
       "      <td>Katekyou Hitman Reborn!</td>\n",
       "    </tr>\n",
       "    <tr>\n",
       "      <th>16</th>\n",
       "      <td>201.0</td>\n",
       "      <td>Gintama</td>\n",
       "    </tr>\n",
       "    <tr>\n",
       "      <th>938</th>\n",
       "      <td>178.0</td>\n",
       "      <td>Tennis no Oujisama</td>\n",
       "    </tr>\n",
       "  </tbody>\n",
       "</table>\n",
       "</div>"
      ]
     },
     "execution_count": 15,
     "metadata": {},
     "output_type": "execute_result"
    },
    {
     "data": {
      "text/plain": [
       "<Figure size 640x480 with 1 Axes>"
      ],
      "image/png": "[encoded data removed]"
     },
     "metadata": {},
     "output_type": "display_data"
    }
   ],
   "execution_count": 15
  },
  {
   "metadata": {},
   "cell_type": "markdown",
   "source": "# Is there a correlation between the number of members/viewers and the anime's score rating?",
   "id": "87ed0ed0f4e79523"
  },
  {
   "metadata": {
    "ExecuteTime": {
     "end_time": "2025-04-25T13:04:27.258909Z",
     "start_time": "2025-04-25T13:04:27.246017Z"
    }
   },
   "cell_type": "code",
   "source": [
    "animeCorr = df_anime.dropna(subset=['members', 'score'])\n",
    "\n",
    "# Calculate the correlation coefficient\n",
    "corr = animeCorr['members'].corr(animeCorr['score'])\n",
    "print('correlation coefficient:', corr)"
   ],
   "id": "5577da0986496899",
   "outputs": [
    {
     "name": "stdout",
     "output_type": "stream",
     "text": [
      "correlation coefficient: 0.32513946891434986\n"
     ]
    }
   ],
   "execution_count": 16
  },
  {
   "metadata": {},
   "cell_type": "markdown",
   "source": "### there is Positive correlation between the number of members viewers and the anime score rating:",
   "id": "37f9eced9d1ad741"
  },
  {
   "metadata": {},
   "cell_type": "markdown",
   "source": "# What are the lowest 10 ranked anime series?",
   "id": "26ac48a2241d140f"
  },
  {
   "metadata": {
    "ExecuteTime": {
     "end_time": "2025-04-25T13:04:27.366500Z",
     "start_time": "2025-04-25T13:04:27.354506Z"
    }
   },
   "cell_type": "code",
   "source": [
    "bottom_anime = df_anime.sort_values(by='rank', ascending=True)\n",
    "\n",
    "bottom_10 = bottom_anime.tail(10)\n",
    "bottom_10[['rank', 'name']]\n"
   ],
   "id": "fbca5f7f55fd36eb",
   "outputs": [
    {
     "data": {
      "text/plain": [
       "     rank                                               name\n",
       "990   991                       Komi-san wa, Comyushou desu.\n",
       "991   992  Kuroko no Basket Movie 3: Winter Cup - Tobira ...\n",
       "992   993                 Mairimashita! Iruma-kun 3rd Season\n",
       "993   994             New Initial D Movie: Legend 2 - Tousou\n",
       "994   995                                One Piece Film: Red\n",
       "995   996                          Seitokai Yakuindomo Movie\n",
       "996   997                         Somali to Mori no Kamisama\n",
       "997   998                                          Sonny Boy\n",
       "998   999                         Suzumiya Haruhi no Yuuutsu\n",
       "999  1000                       Tokyo Revengers: Tenjiku-hen"
      ],
      "text/html": [
       "<div>\n",
       "<style scoped>\n",
       "    .dataframe tbody tr th:only-of-type {\n",
       "        vertical-align: middle;\n",
       "    }\n",
       "\n",
       "    .dataframe tbody tr th {\n",
       "        vertical-align: top;\n",
       "    }\n",
       "\n",
       "    .dataframe thead th {\n",
       "        text-align: right;\n",
       "    }\n",
       "</style>\n",
       "<table border=\"1\" class=\"dataframe\">\n",
       "  <thead>\n",
       "    <tr style=\"text-align: right;\">\n",
       "      <th></th>\n",
       "      <th>rank</th>\n",
       "      <th>name</th>\n",
       "    </tr>\n",
       "  </thead>\n",
       "  <tbody>\n",
       "    <tr>\n",
       "      <th>990</th>\n",
       "      <td>991</td>\n",
       "      <td>Komi-san wa, Comyushou desu.</td>\n",
       "    </tr>\n",
       "    <tr>\n",
       "      <th>991</th>\n",
       "      <td>992</td>\n",
       "      <td>Kuroko no Basket Movie 3: Winter Cup - Tobira ...</td>\n",
       "    </tr>\n",
       "    <tr>\n",
       "      <th>992</th>\n",
       "      <td>993</td>\n",
       "      <td>Mairimashita! Iruma-kun 3rd Season</td>\n",
       "    </tr>\n",
       "    <tr>\n",
       "      <th>993</th>\n",
       "      <td>994</td>\n",
       "      <td>New Initial D Movie: Legend 2 - Tousou</td>\n",
       "    </tr>\n",
       "    <tr>\n",
       "      <th>994</th>\n",
       "      <td>995</td>\n",
       "      <td>One Piece Film: Red</td>\n",
       "    </tr>\n",
       "    <tr>\n",
       "      <th>995</th>\n",
       "      <td>996</td>\n",
       "      <td>Seitokai Yakuindomo Movie</td>\n",
       "    </tr>\n",
       "    <tr>\n",
       "      <th>996</th>\n",
       "      <td>997</td>\n",
       "      <td>Somali to Mori no Kamisama</td>\n",
       "    </tr>\n",
       "    <tr>\n",
       "      <th>997</th>\n",
       "      <td>998</td>\n",
       "      <td>Sonny Boy</td>\n",
       "    </tr>\n",
       "    <tr>\n",
       "      <th>998</th>\n",
       "      <td>999</td>\n",
       "      <td>Suzumiya Haruhi no Yuuutsu</td>\n",
       "    </tr>\n",
       "    <tr>\n",
       "      <th>999</th>\n",
       "      <td>1000</td>\n",
       "      <td>Tokyo Revengers: Tenjiku-hen</td>\n",
       "    </tr>\n",
       "  </tbody>\n",
       "</table>\n",
       "</div>"
      ]
     },
     "execution_count": 17,
     "metadata": {},
     "output_type": "execute_result"
    }
   ],
   "execution_count": 17
  }
 ],
 "metadata": {
  "kernelspec": {
   "display_name": "Python [conda env:base] *",
   "language": "python",
   "name": "conda-base-py"
  },
  "language_info": {
   "codemirror_mode": {
    "name": "ipython",
    "version": 3
   },
   "file_extension": ".py",
   "mimetype": "text/x-python",
   "name": "python",
   "nbconvert_exporter": "python",
   "pygments_lexer": "ipython3",
   "version": "3.13.0"
  }
 },
 "nbformat": 4,
 "nbformat_minor": 5
}
